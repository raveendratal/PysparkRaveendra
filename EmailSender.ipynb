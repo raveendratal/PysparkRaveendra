{
 "cells": [
  {
   "cell_type": "code",
   "execution_count": 0,
   "metadata": {
    "application/vnd.databricks.v1+cell": {
     "cellMetadata": {
      "byteLimit": 2048000,
      "rowLimit": 10000
     },
     "inputWidgets": {},
     "nuid": "298c48fb-7a61-48c4-a345-80691741672d",
     "showTitle": false,
     "tableResultSettingsMap": {},
     "title": ""
    }
   },
   "outputs": [],
   "source": [
    "# Databricks Notebook: EmailSender\n",
    "\n",
    "# -----------------------\n",
    "# 1. Get parameters from caller\n",
    "# -----------------------\n",
    "dbutils.widgets.text(\"subject\", \"\")\n",
    "dbutils.widgets.text(\"body\", \"\")\n",
    "dbutils.widgets.text(\"to_emails\", \"\")\n",
    "\n",
    "subject = dbutils.widgets.get(\"subject\")\n",
    "body = dbutils.widgets.get(\"body\")\n",
    "to_emails = dbutils.widgets.get(\"to_emails\")  # Comma-separated emails"
   ]
  },
  {
   "cell_type": "code",
   "execution_count": 0,
   "metadata": {
    "application/vnd.databricks.v1+cell": {
     "cellMetadata": {
      "byteLimit": 2048000,
      "rowLimit": 10000
     },
     "inputWidgets": {},
     "nuid": "c7f84242-7605-41e3-a721-27c11465a590",
     "showTitle": false,
     "tableResultSettingsMap": {},
     "title": ""
    }
   },
   "outputs": [],
   "source": [
    "\n",
    "# -----------------------\n",
    "# 2. SMTP configuration\n",
    "# -----------------------\n",
    "SMTP_SERVER = \"smtp.gmail.com\"  # Change as needed\n",
    "SMTP_PORT = 587\n",
    "SMTP_USER = \"gmailid@gmail.com\"  # Your sending email\n",
    "SMTP_PASS = \"password\"     # Secure password recommended\n",
    "\n",
    "from_email = SMTP_USER"
   ]
  },
  {
   "cell_type": "code",
   "execution_count": 0,
   "metadata": {
    "application/vnd.databricks.v1+cell": {
     "cellMetadata": {
      "byteLimit": 2048000,
      "rowLimit": 10000
     },
     "inputWidgets": {},
     "nuid": "c356880f-9853-4e9b-aa6a-788bc24a1bd4",
     "showTitle": false,
     "tableResultSettingsMap": {},
     "title": ""
    }
   },
   "outputs": [],
   "source": [
    "\n",
    "\n",
    "# -----------------------\n",
    "# 3. Build email content\n",
    "# -----------------------\n",
    "from email.mime.text import MIMEText\n",
    "from email.mime.multipart import MIMEMultipart\n",
    "\n",
    "msg = MIMEMultipart()\n",
    "msg[\"From\"] = from_email\n",
    "msg[\"To\"] = to_emails\n",
    "msg[\"Subject\"] = subject\n",
    "msg.attach(MIMEText(body, \"plain\"))"
   ]
  },
  {
   "cell_type": "code",
   "execution_count": 0,
   "metadata": {
    "application/vnd.databricks.v1+cell": {
     "cellMetadata": {
      "byteLimit": 2048000,
      "rowLimit": 10000
     },
     "inputWidgets": {},
     "nuid": "20ecea54-a048-4495-8ecb-ccdcb8814376",
     "showTitle": false,
     "tableResultSettingsMap": {},
     "title": ""
    }
   },
   "outputs": [],
   "source": [
    "import smtplib\n",
    "\n",
    "try:\n",
    "    server = smtplib.SMTP(SMTP_SERVER, SMTP_PORT)\n",
    "    server.starttls()\n",
    "    server.login(SMTP_USER, SMTP_PASS)\n",
    "    server.sendmail(from_email, to_emails.split(\",\"), msg.as_string())\n",
    "    server.quit()\n",
    "    print(\"✅ Email sent successfully.\")\n",
    "except smtplib.SMTPAuthenticationError as e:\n",
    "    print(f\"❌ Failed to send email: Authentication error - {str(e)}\")\n",
    "    raise\n",
    "except Exception as e:\n",
    "    print(f\"❌ Failed to send email: {str(e)}\")\n",
    "    raise"
   ]
  }
 ],
 "metadata": {
  "application/vnd.databricks.v1+notebook": {
   "computePreferences": null,
   "dashboards": [],
   "environmentMetadata": {
    "base_environment": "",
    "environment_version": "2"
   },
   "inputWidgetPreferences": null,
   "language": "python",
   "notebookMetadata": {
    "pythonIndentUnit": 4
   },
   "notebookName": "EmailSender",
   "widgets": {
    "body": {
     "currentValue": "",
     "nuid": "e903470f-7acb-4361-96aa-c36cb6cc428c",
     "typedWidgetInfo": {
      "autoCreated": false,
      "defaultValue": "",
      "label": null,
      "name": "body",
      "options": {
       "widgetDisplayType": "Text",
       "validationRegex": null
      },
      "parameterDataType": "String"
     },
     "widgetInfo": {
      "widgetType": "text",
      "defaultValue": "",
      "label": null,
      "name": "body",
      "options": {
       "widgetType": "text",
       "autoCreated": null,
       "validationRegex": null
      }
     }
    },
    "subject": {
     "currentValue": "",
     "nuid": "76e1174a-4302-4bff-9ad2-516c825353ec",
     "typedWidgetInfo": {
      "autoCreated": false,
      "defaultValue": "",
      "label": null,
      "name": "subject",
      "options": {
       "widgetDisplayType": "Text",
       "validationRegex": null
      },
      "parameterDataType": "String"
     },
     "widgetInfo": {
      "widgetType": "text",
      "defaultValue": "",
      "label": null,
      "name": "subject",
      "options": {
       "widgetType": "text",
       "autoCreated": null,
       "validationRegex": null
      }
     }
    },
    "to_emails": {
     "currentValue": "",
     "nuid": "1727de65-d82e-49ad-8c95-65f3e3fdc311",
     "typedWidgetInfo": {
      "autoCreated": false,
      "defaultValue": "pysparktraining52@gmail.com",
      "label": null,
      "name": "to_emails",
      "options": {
       "widgetDisplayType": "Text",
       "validationRegex": null
      },
      "parameterDataType": "String"
     },
     "widgetInfo": {
      "widgetType": "text",
      "defaultValue": "pysparktraining52@gmail.com",
      "label": null,
      "name": "to_emails",
      "options": {
       "widgetType": "text",
       "autoCreated": null,
       "validationRegex": null
      }
     }
    }
   }
  },
  "language_info": {
   "name": "python"
  }
 },
 "nbformat": 4,
 "nbformat_minor": 0
}
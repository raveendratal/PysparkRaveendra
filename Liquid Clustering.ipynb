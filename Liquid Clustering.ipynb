{
 "cells": [
  {
   "cell_type": "code",
   "execution_count": 0,
   "metadata": {
    "application/vnd.databricks.v1+cell": {
     "cellMetadata": {
      "byteLimit": 2048000,
      "rowLimit": 10000
     },
     "inputWidgets": {},
     "nuid": "970aa1c2-66cb-4940-8aa4-2d9acfc2221f",
     "showTitle": false,
     "title": ""
    }
   },
   "outputs": [
    {
     "output_type": "display_data",
     "data": {
      "text/html": [
       "<style scoped>\n",
       "  .table-result-container {\n",
       "    max-height: 300px;\n",
       "    overflow: auto;\n",
       "  }\n",
       "  table, th, td {\n",
       "    border: 1px solid black;\n",
       "    border-collapse: collapse;\n",
       "  }\n",
       "  th, td {\n",
       "    padding: 5px;\n",
       "  }\n",
       "  th {\n",
       "    text-align: left;\n",
       "  }\n",
       "</style><div class='table-result-container'><table class='table-result'><thead style='background-color: white'><tr><th>path</th><th>name</th><th>size</th><th>modificationTime</th></tr></thead><tbody><tr><td>dbfs:/databricks-datasets/asa/airlines/1987.csv</td><td>1987.csv</td><td>127162942</td><td>1459744248000</td></tr><tr><td>dbfs:/databricks-datasets/asa/airlines/1988.csv</td><td>1988.csv</td><td>501039472</td><td>1459744260000</td></tr><tr><td>dbfs:/databricks-datasets/asa/airlines/1989.csv</td><td>1989.csv</td><td>486518821</td><td>1459744335000</td></tr><tr><td>dbfs:/databricks-datasets/asa/airlines/1990.csv</td><td>1990.csv</td><td>509194687</td><td>1459744384000</td></tr><tr><td>dbfs:/databricks-datasets/asa/airlines/1991.csv</td><td>1991.csv</td><td>491210093</td><td>1459744438000</td></tr><tr><td>dbfs:/databricks-datasets/asa/airlines/1992.csv</td><td>1992.csv</td><td>492313731</td><td>1459744493000</td></tr><tr><td>dbfs:/databricks-datasets/asa/airlines/1993.csv</td><td>1993.csv</td><td>490753652</td><td>1459744545000</td></tr><tr><td>dbfs:/databricks-datasets/asa/airlines/1994.csv</td><td>1994.csv</td><td>501558665</td><td>1459744608000</td></tr><tr><td>dbfs:/databricks-datasets/asa/airlines/1995.csv</td><td>1995.csv</td><td>530751568</td><td>1459744663000</td></tr><tr><td>dbfs:/databricks-datasets/asa/airlines/1996.csv</td><td>1996.csv</td><td>533922363</td><td>1459744718000</td></tr><tr><td>dbfs:/databricks-datasets/asa/airlines/1997.csv</td><td>1997.csv</td><td>540347861</td><td>1459744776000</td></tr><tr><td>dbfs:/databricks-datasets/asa/airlines/1998.csv</td><td>1998.csv</td><td>538432875</td><td>1459744834000</td></tr><tr><td>dbfs:/databricks-datasets/asa/airlines/1999.csv</td><td>1999.csv</td><td>552926022</td><td>1459744896000</td></tr><tr><td>dbfs:/databricks-datasets/asa/airlines/2000.csv</td><td>2000.csv</td><td>570151613</td><td>1459744954000</td></tr><tr><td>dbfs:/databricks-datasets/asa/airlines/2001.csv</td><td>2001.csv</td><td>600411462</td><td>1459745016000</td></tr><tr><td>dbfs:/databricks-datasets/asa/airlines/2002.csv</td><td>2002.csv</td><td>530507013</td><td>1459745079000</td></tr><tr><td>dbfs:/databricks-datasets/asa/airlines/2003.csv</td><td>2003.csv</td><td>626745242</td><td>1459745141000</td></tr><tr><td>dbfs:/databricks-datasets/asa/airlines/2004.csv</td><td>2004.csv</td><td>669879113</td><td>1459745218000</td></tr><tr><td>dbfs:/databricks-datasets/asa/airlines/2005.csv</td><td>2005.csv</td><td>671027265</td><td>1459745287000</td></tr><tr><td>dbfs:/databricks-datasets/asa/airlines/2006.csv</td><td>2006.csv</td><td>672068096</td><td>1459745364000</td></tr><tr><td>dbfs:/databricks-datasets/asa/airlines/2007.csv</td><td>2007.csv</td><td>702878193</td><td>1459745438000</td></tr><tr><td>dbfs:/databricks-datasets/asa/airlines/2008.csv</td><td>2008.csv</td><td>689413344</td><td>1459745523000</td></tr></tbody></table></div>"
      ]
     },
     "metadata": {
      "application/vnd.databricks.v1+output": {
       "addedWidgets": {},
       "aggData": [],
       "aggError": "",
       "aggOverflow": false,
       "aggSchema": [],
       "aggSeriesLimitReached": false,
       "aggType": "",
       "arguments": {},
       "columnCustomDisplayInfos": {},
       "data": [
        [
         "dbfs:/databricks-datasets/asa/airlines/1987.csv",
         "1987.csv",
         127162942,
         1459744248000
        ],
        [
         "dbfs:/databricks-datasets/asa/airlines/1988.csv",
         "1988.csv",
         501039472,
         1459744260000
        ],
        [
         "dbfs:/databricks-datasets/asa/airlines/1989.csv",
         "1989.csv",
         486518821,
         1459744335000
        ],
        [
         "dbfs:/databricks-datasets/asa/airlines/1990.csv",
         "1990.csv",
         509194687,
         1459744384000
        ],
        [
         "dbfs:/databricks-datasets/asa/airlines/1991.csv",
         "1991.csv",
         491210093,
         1459744438000
        ],
        [
         "dbfs:/databricks-datasets/asa/airlines/1992.csv",
         "1992.csv",
         492313731,
         1459744493000
        ],
        [
         "dbfs:/databricks-datasets/asa/airlines/1993.csv",
         "1993.csv",
         490753652,
         1459744545000
        ],
        [
         "dbfs:/databricks-datasets/asa/airlines/1994.csv",
         "1994.csv",
         501558665,
         1459744608000
        ],
        [
         "dbfs:/databricks-datasets/asa/airlines/1995.csv",
         "1995.csv",
         530751568,
         1459744663000
        ],
        [
         "dbfs:/databricks-datasets/asa/airlines/1996.csv",
         "1996.csv",
         533922363,
         1459744718000
        ],
        [
         "dbfs:/databricks-datasets/asa/airlines/1997.csv",
         "1997.csv",
         540347861,
         1459744776000
        ],
        [
         "dbfs:/databricks-datasets/asa/airlines/1998.csv",
         "1998.csv",
         538432875,
         1459744834000
        ],
        [
         "dbfs:/databricks-datasets/asa/airlines/1999.csv",
         "1999.csv",
         552926022,
         1459744896000
        ],
        [
         "dbfs:/databricks-datasets/asa/airlines/2000.csv",
         "2000.csv",
         570151613,
         1459744954000
        ],
        [
         "dbfs:/databricks-datasets/asa/airlines/2001.csv",
         "2001.csv",
         600411462,
         1459745016000
        ],
        [
         "dbfs:/databricks-datasets/asa/airlines/2002.csv",
         "2002.csv",
         530507013,
         1459745079000
        ],
        [
         "dbfs:/databricks-datasets/asa/airlines/2003.csv",
         "2003.csv",
         626745242,
         1459745141000
        ],
        [
         "dbfs:/databricks-datasets/asa/airlines/2004.csv",
         "2004.csv",
         669879113,
         1459745218000
        ],
        [
         "dbfs:/databricks-datasets/asa/airlines/2005.csv",
         "2005.csv",
         671027265,
         1459745287000
        ],
        [
         "dbfs:/databricks-datasets/asa/airlines/2006.csv",
         "2006.csv",
         672068096,
         1459745364000
        ],
        [
         "dbfs:/databricks-datasets/asa/airlines/2007.csv",
         "2007.csv",
         702878193,
         1459745438000
        ],
        [
         "dbfs:/databricks-datasets/asa/airlines/2008.csv",
         "2008.csv",
         689413344,
         1459745523000
        ]
       ],
       "datasetInfos": [],
       "dbfsResultPath": null,
       "isJsonSchema": true,
       "metadata": {
        "isDbfsCommandResult": false
       },
       "overflow": false,
       "plotOptions": {
        "customPlotOptions": {},
        "displayType": "table",
        "pivotAggregation": null,
        "pivotColumns": null,
        "xColumns": null,
        "yColumns": null
       },
       "removedWidgets": [],
       "schema": [
        {
         "metadata": "{}",
         "name": "path",
         "type": "\"string\""
        },
        {
         "metadata": "{}",
         "name": "name",
         "type": "\"string\""
        },
        {
         "metadata": "{}",
         "name": "size",
         "type": "\"long\""
        },
        {
         "metadata": "{}",
         "name": "modificationTime",
         "type": "\"long\""
        }
       ],
       "type": "table"
      }
     },
     "output_type": "display_data"
    }
   ],
   "source": [
    "%fs ls /databricks-datasets/asa/airlines/"
   ]
  },
  {
   "cell_type": "code",
   "execution_count": 0,
   "metadata": {
    "application/vnd.databricks.v1+cell": {
     "cellMetadata": {
      "byteLimit": 2048000,
      "rowLimit": 10000
     },
     "inputWidgets": {},
     "nuid": "0099c517-5f7b-4453-968e-f5c073504fca",
     "showTitle": false,
     "title": ""
    }
   },
   "outputs": [],
   "source": [
    "df_arilines = spark.read.csv(\"dbfs:/databricks-datasets/asa/airlines/2007.csv\",header=True,inferSchema=True)"
   ]
  },
  {
   "cell_type": "code",
   "execution_count": 0,
   "metadata": {
    "application/vnd.databricks.v1+cell": {
     "cellMetadata": {
      "byteLimit": 2048000,
      "rowLimit": 10000
     },
     "inputWidgets": {},
     "nuid": "6cb23108-962e-4e37-aa80-df3315bcd885",
     "showTitle": false,
     "title": ""
    }
   },
   "outputs": [
    {
     "output_type": "display_data",
     "data": {
      "text/html": [
       "<style scoped>\n",
       "  .table-result-container {\n",
       "    max-height: 300px;\n",
       "    overflow: auto;\n",
       "  }\n",
       "  table, th, td {\n",
       "    border: 1px solid black;\n",
       "    border-collapse: collapse;\n",
       "  }\n",
       "  th, td {\n",
       "    padding: 5px;\n",
       "  }\n",
       "  th {\n",
       "    text-align: left;\n",
       "  }\n",
       "</style><div class='table-result-container'><table class='table-result'><thead style='background-color: white'><tr><th>Year</th><th>Month</th><th>DayofMonth</th><th>DayOfWeek</th><th>DepTime</th><th>CRSDepTime</th><th>ArrTime</th><th>CRSArrTime</th><th>UniqueCarrier</th><th>FlightNum</th><th>TailNum</th><th>ActualElapsedTime</th><th>CRSElapsedTime</th><th>AirTime</th><th>ArrDelay</th><th>DepDelay</th><th>Origin</th><th>Dest</th><th>Distance</th><th>TaxiIn</th><th>TaxiOut</th><th>Cancelled</th><th>CancellationCode</th><th>Diverted</th><th>CarrierDelay</th><th>WeatherDelay</th><th>NASDelay</th><th>SecurityDelay</th><th>LateAircraftDelay</th></tr></thead><tbody><tr><td>2007</td><td>1</td><td>1</td><td>1</td><td>1232</td><td>1225</td><td>1341</td><td>1340</td><td>WN</td><td>2891</td><td>N351</td><td>69</td><td>75</td><td>54</td><td>1</td><td>7</td><td>SMF</td><td>ONT</td><td>389</td><td>4</td><td>11</td><td>0</td><td>null</td><td>0</td><td>0</td><td>0</td><td>0</td><td>0</td><td>0</td></tr><tr><td>2007</td><td>1</td><td>1</td><td>1</td><td>1918</td><td>1905</td><td>2043</td><td>2035</td><td>WN</td><td>462</td><td>N370</td><td>85</td><td>90</td><td>74</td><td>8</td><td>13</td><td>SMF</td><td>PDX</td><td>479</td><td>5</td><td>6</td><td>0</td><td>null</td><td>0</td><td>0</td><td>0</td><td>0</td><td>0</td><td>0</td></tr><tr><td>2007</td><td>1</td><td>1</td><td>1</td><td>2206</td><td>2130</td><td>2334</td><td>2300</td><td>WN</td><td>1229</td><td>N685</td><td>88</td><td>90</td><td>73</td><td>34</td><td>36</td><td>SMF</td><td>PDX</td><td>479</td><td>6</td><td>9</td><td>0</td><td>null</td><td>0</td><td>3</td><td>0</td><td>0</td><td>0</td><td>31</td></tr><tr><td>2007</td><td>1</td><td>1</td><td>1</td><td>1230</td><td>1200</td><td>1356</td><td>1330</td><td>WN</td><td>1355</td><td>N364</td><td>86</td><td>90</td><td>75</td><td>26</td><td>30</td><td>SMF</td><td>PDX</td><td>479</td><td>3</td><td>8</td><td>0</td><td>null</td><td>0</td><td>23</td><td>0</td><td>0</td><td>0</td><td>3</td></tr><tr><td>2007</td><td>1</td><td>1</td><td>1</td><td>831</td><td>830</td><td>957</td><td>1000</td><td>WN</td><td>2278</td><td>N480</td><td>86</td><td>90</td><td>74</td><td>-3</td><td>1</td><td>SMF</td><td>PDX</td><td>479</td><td>3</td><td>9</td><td>0</td><td>null</td><td>0</td><td>0</td><td>0</td><td>0</td><td>0</td><td>0</td></tr><tr><td>2007</td><td>1</td><td>1</td><td>1</td><td>1430</td><td>1420</td><td>1553</td><td>1550</td><td>WN</td><td>2386</td><td>N611SW</td><td>83</td><td>90</td><td>74</td><td>3</td><td>10</td><td>SMF</td><td>PDX</td><td>479</td><td>2</td><td>7</td><td>0</td><td>null</td><td>0</td><td>0</td><td>0</td><td>0</td><td>0</td><td>0</td></tr><tr><td>2007</td><td>1</td><td>1</td><td>1</td><td>1936</td><td>1840</td><td>2217</td><td>2130</td><td>WN</td><td>409</td><td>N482</td><td>101</td><td>110</td><td>89</td><td>47</td><td>56</td><td>SMF</td><td>PHX</td><td>647</td><td>5</td><td>7</td><td>0</td><td>null</td><td>0</td><td>46</td><td>0</td><td>0</td><td>0</td><td>1</td></tr><tr><td>2007</td><td>1</td><td>1</td><td>1</td><td>944</td><td>935</td><td>1223</td><td>1225</td><td>WN</td><td>1131</td><td>N749SW</td><td>99</td><td>110</td><td>86</td><td>-2</td><td>9</td><td>SMF</td><td>PHX</td><td>647</td><td>4</td><td>9</td><td>0</td><td>null</td><td>0</td><td>0</td><td>0</td><td>0</td><td>0</td><td>0</td></tr><tr><td>2007</td><td>1</td><td>1</td><td>1</td><td>1537</td><td>1450</td><td>1819</td><td>1735</td><td>WN</td><td>1212</td><td>N451</td><td>102</td><td>105</td><td>90</td><td>44</td><td>47</td><td>SMF</td><td>PHX</td><td>647</td><td>5</td><td>7</td><td>0</td><td>null</td><td>0</td><td>20</td><td>0</td><td>0</td><td>0</td><td>24</td></tr><tr><td>2007</td><td>1</td><td>1</td><td>1</td><td>1318</td><td>1315</td><td>1603</td><td>1610</td><td>WN</td><td>2456</td><td>N630WN</td><td>105</td><td>115</td><td>92</td><td>-7</td><td>3</td><td>SMF</td><td>PHX</td><td>647</td><td>5</td><td>8</td><td>0</td><td>null</td><td>0</td><td>0</td><td>0</td><td>0</td><td>0</td><td>0</td></tr><tr><td>2007</td><td>1</td><td>1</td><td>1</td><td>836</td><td>835</td><td>1119</td><td>1130</td><td>WN</td><td>2575</td><td>N493</td><td>103</td><td>115</td><td>88</td><td>-11</td><td>1</td><td>SMF</td><td>PHX</td><td>647</td><td>7</td><td>8</td><td>0</td><td>null</td><td>0</td><td>0</td><td>0</td><td>0</td><td>0</td><td>0</td></tr><tr><td>2007</td><td>1</td><td>1</td><td>1</td><td>2047</td><td>1955</td><td>2332</td><td>2240</td><td>WN</td><td>2608</td><td>N733SW</td><td>105</td><td>105</td><td>89</td><td>52</td><td>52</td><td>SMF</td><td>PHX</td><td>647</td><td>7</td><td>9</td><td>0</td><td>null</td><td>0</td><td>49</td><td>0</td><td>0</td><td>0</td><td>3</td></tr><tr><td>2007</td><td>1</td><td>1</td><td>1</td><td>2128</td><td>2035</td><td>2245</td><td>2200</td><td>WN</td><td>139</td><td>N348</td><td>77</td><td>85</td><td>66</td><td>45</td><td>53</td><td>SMF</td><td>SAN</td><td>480</td><td>3</td><td>8</td><td>0</td><td>null</td><td>0</td><td>0</td><td>0</td><td>3</td><td>0</td><td>42</td></tr><tr><td>2007</td><td>1</td><td>1</td><td>1</td><td>935</td><td>940</td><td>1048</td><td>1105</td><td>WN</td><td>747</td><td>N358</td><td>73</td><td>85</td><td>63</td><td>-17</td><td>-5</td><td>SMF</td><td>SAN</td><td>480</td><td>2</td><td>8</td><td>0</td><td>null</td><td>0</td><td>0</td><td>0</td><td>0</td><td>0</td><td>0</td></tr><tr><td>2007</td><td>1</td><td>1</td><td>1</td><td>1251</td><td>1245</td><td>1405</td><td>1410</td><td>WN</td><td>933</td><td>N413</td><td>74</td><td>85</td><td>65</td><td>-5</td><td>6</td><td>SMF</td><td>SAN</td><td>480</td><td>2</td><td>7</td><td>0</td><td>null</td><td>0</td><td>0</td><td>0</td><td>0</td><td>0</td><td>0</td></tr><tr><td>2007</td><td>1</td><td>1</td><td>1</td><td>1729</td><td>1645</td><td>1843</td><td>1810</td><td>WN</td><td>1054</td><td>N416</td><td>74</td><td>85</td><td>64</td><td>33</td><td>44</td><td>SMF</td><td>SAN</td><td>480</td><td>3</td><td>7</td><td>0</td><td>null</td><td>0</td><td>3</td><td>0</td><td>0</td><td>0</td><td>30</td></tr><tr><td>2007</td><td>1</td><td>1</td><td>1</td><td>825</td><td>825</td><td>941</td><td>950</td><td>WN</td><td>1106</td><td>N383SW</td><td>76</td><td>85</td><td>63</td><td>-9</td><td>0</td><td>SMF</td><td>SAN</td><td>480</td><td>3</td><td>10</td><td>0</td><td>null</td><td>0</td><td>0</td><td>0</td><td>0</td><td>0</td><td>0</td></tr><tr><td>2007</td><td>1</td><td>1</td><td>1</td><td>1042</td><td>1040</td><td>1158</td><td>1205</td><td>WN</td><td>1554</td><td>N316SW</td><td>76</td><td>85</td><td>66</td><td>-7</td><td>2</td><td>SMF</td><td>SAN</td><td>480</td><td>2</td><td>8</td><td>0</td><td>null</td><td>0</td><td>0</td><td>0</td><td>0</td><td>0</td><td>0</td></tr><tr><td>2007</td><td>1</td><td>1</td><td>1</td><td>1726</td><td>1725</td><td>1839</td><td>1850</td><td>WN</td><td>1604</td><td>N691WN</td><td>73</td><td>85</td><td>63</td><td>-11</td><td>1</td><td>SMF</td><td>SAN</td><td>480</td><td>3</td><td>7</td><td>0</td><td>null</td><td>0</td><td>0</td><td>0</td><td>0</td><td>0</td><td>0</td></tr><tr><td>2007</td><td>1</td><td>1</td><td>1</td><td>1849</td><td>1820</td><td>2016</td><td>1940</td><td>WN</td><td>1975</td><td>N308SW</td><td>87</td><td>80</td><td>69</td><td>36</td><td>29</td><td>SMF</td><td>SAN</td><td>480</td><td>3</td><td>15</td><td>0</td><td>null</td><td>0</td><td>20</td><td>0</td><td>7</td><td>0</td><td>9</td></tr><tr><td>2007</td><td>1</td><td>1</td><td>1</td><td>2219</td><td>2105</td><td>2332</td><td>2225</td><td>WN</td><td>2083</td><td>N205</td><td>73</td><td>80</td><td>62</td><td>67</td><td>74</td><td>SMF</td><td>SAN</td><td>480</td><td>3</td><td>8</td><td>0</td><td>null</td><td>0</td><td>0</td><td>0</td><td>0</td><td>0</td><td>67</td></tr><tr><td>2007</td><td>1</td><td>1</td><td>1</td><td>2012</td><td>1940</td><td>2131</td><td>2105</td><td>WN</td><td>2577</td><td>N603SW</td><td>79</td><td>85</td><td>66</td><td>26</td><td>32</td><td>SMF</td><td>SAN</td><td>480</td><td>3</td><td>10</td><td>0</td><td>null</td><td>0</td><td>9</td><td>0</td><td>0</td><td>0</td><td>17</td></tr><tr><td>2007</td><td>1</td><td>1</td><td>1</td><td>1458</td><td>1455</td><td>1614</td><td>1620</td><td>WN</td><td>2587</td><td>N604SW</td><td>76</td><td>85</td><td>65</td><td>-6</td><td>3</td><td>SMF</td><td>SAN</td><td>480</td><td>2</td><td>9</td><td>0</td><td>null</td><td>0</td><td>0</td><td>0</td><td>0</td><td>0</td><td>0</td></tr><tr><td>2007</td><td>1</td><td>1</td><td>1</td><td>1345</td><td>1345</td><td>1456</td><td>1510</td><td>WN</td><td>2643</td><td>N700GS</td><td>71</td><td>85</td><td>62</td><td>-14</td><td>0</td><td>SMF</td><td>SAN</td><td>480</td><td>2</td><td>7</td><td>0</td><td>null</td><td>0</td><td>0</td><td>0</td><td>0</td><td>0</td><td>0</td></tr><tr><td>2007</td><td>1</td><td>1</td><td>1</td><td>715</td><td>720</td><td>836</td><td>845</td><td>WN</td><td>2755</td><td>N355</td><td>81</td><td>85</td><td>65</td><td>-9</td><td>-5</td><td>SMF</td><td>SAN</td><td>480</td><td>2</td><td>14</td><td>0</td><td>null</td><td>0</td><td>0</td><td>0</td><td>0</td><td>0</td><td>0</td></tr><tr><td>2007</td><td>1</td><td>1</td><td>1</td><td>2119</td><td>2100</td><td>2310</td><td>2250</td><td>WN</td><td>961</td><td>N771</td><td>111</td><td>110</td><td>94</td><td>20</td><td>19</td><td>SMF</td><td>SEA</td><td>605</td><td>9</td><td>8</td><td>0</td><td>null</td><td>0</td><td>19</td><td>0</td><td>1</td><td>0</td><td>0</td></tr><tr><td>2007</td><td>1</td><td>1</td><td>1</td><td>1530</td><td>1510</td><td>1714</td><td>1700</td><td>WN</td><td>1330</td><td>N469</td><td>104</td><td>110</td><td>91</td><td>14</td><td>20</td><td>SMF</td><td>SEA</td><td>605</td><td>5</td><td>8</td><td>0</td><td>null</td><td>0</td><td>0</td><td>0</td><td>0</td><td>0</td><td>0</td></tr><tr><td>2007</td><td>1</td><td>1</td><td>1</td><td>1045</td><td>1035</td><td>1240</td><td>1225</td><td>WN</td><td>1502</td><td>N327</td><td>115</td><td>110</td><td>104</td><td>15</td><td>10</td><td>SMF</td><td>SEA</td><td>605</td><td>5</td><td>6</td><td>0</td><td>null</td><td>0</td><td>6</td><td>0</td><td>5</td><td>0</td><td>4</td></tr><tr><td>2007</td><td>1</td><td>1</td><td>1</td><td>802</td><td>800</td><td>953</td><td>955</td><td>WN</td><td>2403</td><td>N304SW</td><td>111</td><td>115</td><td>98</td><td>-2</td><td>2</td><td>SMF</td><td>SEA</td><td>605</td><td>5</td><td>8</td><td>0</td><td>null</td><td>0</td><td>0</td><td>0</td><td>0</td><td>0</td><td>0</td></tr><tr><td>2007</td><td>1</td><td>1</td><td>1</td><td>1415</td><td>1405</td><td>1529</td><td>1525</td><td>WN</td><td>976</td><td>N204</td><td>74</td><td>80</td><td>64</td><td>4</td><td>10</td><td>SMF</td><td>SNA</td><td>404</td><td>4</td><td>6</td><td>0</td><td>null</td><td>0</td><td>0</td><td>0</td><td>0</td><td>0</td><td>0</td></tr><tr><td>2007</td><td>1</td><td>1</td><td>1</td><td>1630</td><td>1630</td><td>1746</td><td>1750</td><td>WN</td><td>1146</td><td>N707SA</td><td>76</td><td>80</td><td>60</td><td>-4</td><td>0</td><td>SMF</td><td>SNA</td><td>404</td><td>6</td><td>10</td><td>0</td><td>null</td><td>0</td><td>0</td><td>0</td><td>0</td><td>0</td><td>0</td></tr><tr><td>2007</td><td>1</td><td>1</td><td>1</td><td>1527</td><td>1525</td><td>1637</td><td>1645</td><td>WN</td><td>1240</td><td>N718SW</td><td>70</td><td>80</td><td>60</td><td>-8</td><td>2</td><td>SMF</td><td>SNA</td><td>404</td><td>4</td><td>6</td><td>0</td><td>null</td><td>0</td><td>0</td><td>0</td><td>0</td><td>0</td><td>0</td></tr><tr><td>2007</td><td>1</td><td>1</td><td>1</td><td>731</td><td>735</td><td>844</td><td>900</td><td>WN</td><td>1488</td><td>N465</td><td>73</td><td>85</td><td>60</td><td>-16</td><td>-4</td><td>SMF</td><td>SNA</td><td>404</td><td>5</td><td>8</td><td>0</td><td>null</td><td>0</td><td>0</td><td>0</td><td>0</td><td>0</td><td>0</td></tr><tr><td>2007</td><td>1</td><td>1</td><td>1</td><td>1140</td><td>1140</td><td>1253</td><td>1300</td><td>WN</td><td>1596</td><td>N725</td><td>73</td><td>80</td><td>61</td><td>-7</td><td>0</td><td>SMF</td><td>SNA</td><td>404</td><td>6</td><td>6</td><td>0</td><td>null</td><td>0</td><td>0</td><td>0</td><td>0</td><td>0</td><td>0</td></tr><tr><td>2007</td><td>1</td><td>1</td><td>1</td><td>2002</td><td>1935</td><td>2115</td><td>2055</td><td>WN</td><td>1784</td><td>N711HK</td><td>73</td><td>80</td><td>61</td><td>20</td><td>27</td><td>SMF</td><td>SNA</td><td>404</td><td>2</td><td>10</td><td>0</td><td>null</td><td>0</td><td>19</td><td>0</td><td>0</td><td>0</td><td>1</td></tr><tr><td>2007</td><td>1</td><td>1</td><td>1</td><td>946</td><td>950</td><td>1100</td><td>1115</td><td>WN</td><td>2806</td><td>N781</td><td>74</td><td>85</td><td>60</td><td>-15</td><td>-4</td><td>SMF</td><td>SNA</td><td>404</td><td>3</td><td>11</td><td>0</td><td>null</td><td>0</td><td>0</td><td>0</td><td>0</td><td>0</td><td>0</td></tr><tr><td>2007</td><td>1</td><td>1</td><td>1</td><td>1501</td><td>1455</td><td>1604</td><td>1555</td><td>WN</td><td>795</td><td>N781</td><td>63</td><td>60</td><td>46</td><td>9</td><td>6</td><td>SNA</td><td>LAS</td><td>226</td><td>7</td><td>10</td><td>0</td><td>null</td><td>0</td><td>0</td><td>0</td><td>0</td><td>0</td><td>0</td></tr><tr><td>2007</td><td>1</td><td>1</td><td>1</td><td>1233</td><td>1155</td><td>1342</td><td>1300</td><td>WN</td><td>851</td><td>N479</td><td>69</td><td>65</td><td>47</td><td>42</td><td>38</td><td>SNA</td><td>LAS</td><td>226</td><td>15</td><td>7</td><td>0</td><td>null</td><td>0</td><td>0</td><td>0</td><td>4</td><td>0</td><td>38</td></tr><tr><td>2007</td><td>1</td><td>1</td><td>1</td><td>NA</td><td>2030</td><td>NA</td><td>2135</td><td>WN</td><td>2734</td><td>0</td><td>NA</td><td>65</td><td>NA</td><td>NA</td><td>NA</td><td>SNA</td><td>LAS</td><td>226</td><td>0</td><td>0</td><td>1</td><td>A</td><td>0</td><td>0</td><td>0</td><td>0</td><td>0</td><td>0</td></tr><tr><td>2007</td><td>1</td><td>1</td><td>1</td><td>2057</td><td>1815</td><td>2205</td><td>1920</td><td>WN</td><td>2782</td><td>N781</td><td>68</td><td>65</td><td>50</td><td>165</td><td>162</td><td>SNA</td><td>LAS</td><td>226</td><td>4</td><td>14</td><td>0</td><td>null</td><td>0</td><td>162</td><td>0</td><td>3</td><td>0</td><td>0</td></tr><tr><td>2007</td><td>1</td><td>1</td><td>1</td><td>810</td><td>810</td><td>1347</td><td>1405</td><td>WN</td><td>873</td><td>N774</td><td>217</td><td>235</td><td>205</td><td>-18</td><td>0</td><td>SNA</td><td>MDW</td><td>1731</td><td>4</td><td>8</td><td>0</td><td>null</td><td>0</td><td>0</td><td>0</td><td>0</td><td>0</td><td>0</td></tr><tr><td>2007</td><td>1</td><td>1</td><td>1</td><td>1035</td><td>1035</td><td>1154</td><td>1155</td><td>WN</td><td>1184</td><td>N767</td><td>79</td><td>80</td><td>68</td><td>-1</td><td>0</td><td>SNA</td><td>OAK</td><td>371</td><td>5</td><td>6</td><td>0</td><td>null</td><td>0</td><td>0</td><td>0</td><td>0</td><td>0</td><td>0</td></tr><tr><td>2007</td><td>1</td><td>1</td><td>1</td><td>1714</td><td>1715</td><td>1835</td><td>1835</td><td>WN</td><td>1737</td><td>N718SW</td><td>81</td><td>80</td><td>63</td><td>0</td><td>-1</td><td>SNA</td><td>OAK</td><td>371</td><td>13</td><td>5</td><td>0</td><td>null</td><td>0</td><td>0</td><td>0</td><td>0</td><td>0</td><td>0</td></tr><tr><td>2007</td><td>1</td><td>1</td><td>1</td><td>1811</td><td>1805</td><td>1925</td><td>1925</td><td>WN</td><td>2217</td><td>N247</td><td>74</td><td>80</td><td>64</td><td>0</td><td>6</td><td>SNA</td><td>OAK</td><td>371</td><td>5</td><td>5</td><td>0</td><td>null</td><td>0</td><td>0</td><td>0</td><td>0</td><td>0</td><td>0</td></tr><tr><td>2007</td><td>1</td><td>1</td><td>1</td><td>1946</td><td>1920</td><td>2110</td><td>2045</td><td>WN</td><td>2347</td><td>N204</td><td>84</td><td>85</td><td>67</td><td>25</td><td>26</td><td>SNA</td><td>OAK</td><td>371</td><td>5</td><td>12</td><td>0</td><td>null</td><td>0</td><td>10</td><td>0</td><td>0</td><td>0</td><td>15</td></tr><tr><td>2007</td><td>1</td><td>1</td><td>1</td><td>2154</td><td>2115</td><td>2308</td><td>2235</td><td>WN</td><td>2449</td><td>N711HK</td><td>74</td><td>80</td><td>63</td><td>33</td><td>39</td><td>SNA</td><td>OAK</td><td>371</td><td>5</td><td>6</td><td>0</td><td>null</td><td>0</td><td>16</td><td>0</td><td>0</td><td>0</td><td>17</td></tr><tr><td>2007</td><td>1</td><td>1</td><td>1</td><td>1600</td><td>1550</td><td>1718</td><td>1710</td><td>WN</td><td>2450</td><td>N204</td><td>78</td><td>80</td><td>68</td><td>8</td><td>10</td><td>SNA</td><td>OAK</td><td>371</td><td>4</td><td>6</td><td>0</td><td>null</td><td>0</td><td>0</td><td>0</td><td>0</td><td>0</td><td>0</td></tr><tr><td>2007</td><td>1</td><td>1</td><td>1</td><td>1325</td><td>1325</td><td>1443</td><td>1445</td><td>WN</td><td>2786</td><td>N725</td><td>78</td><td>80</td><td>65</td><td>-2</td><td>0</td><td>SNA</td><td>OAK</td><td>371</td><td>4</td><td>9</td><td>0</td><td>null</td><td>0</td><td>0</td><td>0</td><td>0</td><td>0</td><td>0</td></tr><tr><td>2007</td><td>1</td><td>1</td><td>1</td><td>2052</td><td>2005</td><td>2214</td><td>2130</td><td>WN</td><td>2790</td><td>N774</td><td>82</td><td>85</td><td>65</td><td>44</td><td>47</td><td>SNA</td><td>OAK</td><td>371</td><td>8</td><td>9</td><td>0</td><td>null</td><td>0</td><td>16</td><td>0</td><td>0</td><td>0</td><td>28</td></tr><tr><td>2007</td><td>1</td><td>1</td><td>1</td><td>905</td><td>905</td><td>1024</td><td>1025</td><td>WN</td><td>2992</td><td>N448</td><td>79</td><td>80</td><td>69</td><td>-1</td><td>0</td><td>SNA</td><td>OAK</td><td>371</td><td>4</td><td>6</td><td>0</td><td>null</td><td>0</td><td>0</td><td>0</td><td>0</td><td>0</td><td>0</td></tr><tr><td>2007</td><td>1</td><td>1</td><td>1</td><td>1737</td><td>1645</td><td>1946</td><td>1855</td><td>WN</td><td>212</td><td>N663SW</td><td>69</td><td>70</td><td>55</td><td>51</td><td>52</td><td>SNA</td><td>PHX</td><td>338</td><td>6</td><td>8</td><td>0</td><td>null</td><td>0</td><td>20</td><td>0</td><td>0</td><td>0</td><td>31</td></tr><tr><td>2007</td><td>1</td><td>1</td><td>1</td><td>1101</td><td>1100</td><td>1307</td><td>1315</td><td>WN</td><td>324</td><td>N765</td><td>66</td><td>75</td><td>54</td><td>-8</td><td>1</td><td>SNA</td><td>PHX</td><td>338</td><td>5</td><td>7</td><td>0</td><td>null</td><td>0</td><td>0</td><td>0</td><td>0</td><td>0</td><td>0</td></tr><tr><td>2007</td><td>1</td><td>1</td><td>1</td><td>1402</td><td>1350</td><td>1610</td><td>1600</td><td>WN</td><td>466</td><td>N467</td><td>68</td><td>70</td><td>47</td><td>10</td><td>12</td><td>SNA</td><td>PHX</td><td>338</td><td>13</td><td>8</td><td>0</td><td>null</td><td>0</td><td>0</td><td>0</td><td>0</td><td>0</td><td>0</td></tr><tr><td>2007</td><td>1</td><td>1</td><td>1</td><td>921</td><td>925</td><td>1119</td><td>1140</td><td>WN</td><td>1488</td><td>N465</td><td>58</td><td>75</td><td>49</td><td>-21</td><td>-4</td><td>SNA</td><td>PHX</td><td>338</td><td>4</td><td>5</td><td>0</td><td>null</td><td>0</td><td>0</td><td>0</td><td>0</td><td>0</td><td>0</td></tr><tr><td>2007</td><td>1</td><td>1</td><td>1</td><td>2108</td><td>2055</td><td>2312</td><td>2305</td><td>WN</td><td>1504</td><td>N718SW</td><td>64</td><td>70</td><td>53</td><td>7</td><td>13</td><td>SNA</td><td>PHX</td><td>338</td><td>4</td><td>7</td><td>0</td><td>null</td><td>0</td><td>0</td><td>0</td><td>0</td><td>0</td><td>0</td></tr><tr><td>2007</td><td>1</td><td>1</td><td>1</td><td>1245</td><td>1245</td><td>1457</td><td>1450</td><td>WN</td><td>1684</td><td>N493</td><td>72</td><td>65</td><td>56</td><td>7</td><td>0</td><td>SNA</td><td>PHX</td><td>338</td><td>5</td><td>11</td><td>0</td><td>null</td><td>0</td><td>0</td><td>0</td><td>0</td><td>0</td><td>0</td></tr><tr><td>2007</td><td>1</td><td>1</td><td>1</td><td>1743</td><td>1730</td><td>1958</td><td>1945</td><td>WN</td><td>1984</td><td>N248</td><td>75</td><td>75</td><td>58</td><td>13</td><td>13</td><td>SNA</td><td>PHX</td><td>338</td><td>7</td><td>10</td><td>0</td><td>null</td><td>0</td><td>0</td><td>0</td><td>0</td><td>0</td><td>0</td></tr><tr><td>2007</td><td>1</td><td>1</td><td>1</td><td>1948</td><td>1905</td><td>2157</td><td>2115</td><td>WN</td><td>2515</td><td>N473</td><td>69</td><td>70</td><td>57</td><td>42</td><td>43</td><td>SNA</td><td>PHX</td><td>338</td><td>4</td><td>8</td><td>0</td><td>null</td><td>0</td><td>17</td><td>0</td><td>0</td><td>0</td><td>25</td></tr><tr><td>2007</td><td>1</td><td>1</td><td>1</td><td>1408</td><td>1405</td><td>1520</td><td>1520</td><td>WN</td><td>127</td><td>N231</td><td>72</td><td>75</td><td>62</td><td>0</td><td>3</td><td>SNA</td><td>SJC</td><td>342</td><td>3</td><td>7</td><td>0</td><td>null</td><td>0</td><td>0</td><td>0</td><td>0</td><td>0</td><td>0</td></tr><tr><td>2007</td><td>1</td><td>1</td><td>1</td><td>829</td><td>835</td><td>940</td><td>950</td><td>WN</td><td>528</td><td>N215</td><td>71</td><td>75</td><td>62</td><td>-10</td><td>-6</td><td>SNA</td><td>SJC</td><td>342</td><td>3</td><td>6</td><td>0</td><td>null</td><td>0</td><td>0</td><td>0</td><td>0</td><td>0</td><td>0</td></tr><tr><td>2007</td><td>1</td><td>1</td><td>1</td><td>1953</td><td>1935</td><td>2105</td><td>2050</td><td>WN</td><td>1137</td><td>N262</td><td>72</td><td>75</td><td>61</td><td>15</td><td>18</td><td>SNA</td><td>SJC</td><td>342</td><td>2</td><td>9</td><td>0</td><td>null</td><td>0</td><td>15</td><td>0</td><td>0</td><td>0</td><td>0</td></tr><tr><td>2007</td><td>1</td><td>1</td><td>1</td><td>2148</td><td>2040</td><td>2305</td><td>2155</td><td>WN</td><td>1243</td><td>N458</td><td>77</td><td>75</td><td>65</td><td>70</td><td>68</td><td>SNA</td><td>SJC</td><td>342</td><td>3</td><td>9</td><td>0</td><td>null</td><td>0</td><td>15</td><td>0</td><td>2</td><td>0</td><td>53</td></tr><tr><td>2007</td><td>1</td><td>1</td><td>1</td><td>1136</td><td>1135</td><td>1246</td><td>1250</td><td>WN</td><td>2037</td><td>N781</td><td>70</td><td>75</td><td>63</td><td>-4</td><td>1</td><td>SNA</td><td>SJC</td><td>342</td><td>2</td><td>5</td><td>0</td><td>null</td><td>0</td><td>0</td><td>0</td><td>0</td><td>0</td><td>0</td></tr><tr><td>2007</td><td>1</td><td>1</td><td>1</td><td>950</td><td>950</td><td>1102</td><td>1105</td><td>WN</td><td>2124</td><td>N713SW</td><td>72</td><td>75</td><td>62</td><td>-3</td><td>0</td><td>SNA</td><td>SJC</td><td>342</td><td>3</td><td>7</td><td>0</td><td>null</td><td>0</td><td>0</td><td>0</td><td>0</td><td>0</td><td>0</td></tr><tr><td>2007</td><td>1</td><td>1</td><td>1</td><td>1638</td><td>1640</td><td>1749</td><td>1755</td><td>WN</td><td>2299</td><td>N719SW</td><td>71</td><td>75</td><td>61</td><td>-6</td><td>-2</td><td>SNA</td><td>SJC</td><td>342</td><td>4</td><td>6</td><td>0</td><td>null</td><td>0</td><td>0</td><td>0</td><td>0</td><td>0</td><td>0</td></tr><tr><td>2007</td><td>1</td><td>1</td><td>1</td><td>938</td><td>940</td><td>1105</td><td>1105</td><td>WN</td><td>654</td><td>N245</td><td>87</td><td>85</td><td>75</td><td>0</td><td>-2</td><td>SNA</td><td>SMF</td><td>404</td><td>4</td><td>8</td><td>0</td><td>null</td><td>0</td><td>0</td><td>0</td><td>0</td><td>0</td><td>0</td></tr><tr><td>2007</td><td>1</td><td>1</td><td>1</td><td>1439</td><td>1440</td><td>1607</td><td>1605</td><td>WN</td><td>728</td><td>N707SA</td><td>88</td><td>85</td><td>70</td><td>2</td><td>-1</td><td>SNA</td><td>SMF</td><td>404</td><td>3</td><td>15</td><td>0</td><td>null</td><td>0</td><td>0</td><td>0</td><td>0</td><td>0</td><td>0</td></tr><tr><td>2007</td><td>1</td><td>1</td><td>1</td><td>1739</td><td>1740</td><td>1906</td><td>1905</td><td>WN</td><td>812</td><td>N482</td><td>87</td><td>85</td><td>70</td><td>1</td><td>-1</td><td>SNA</td><td>SMF</td><td>404</td><td>7</td><td>10</td><td>0</td><td>null</td><td>0</td><td>0</td><td>0</td><td>0</td><td>0</td><td>0</td></tr><tr><td>2007</td><td>1</td><td>1</td><td>1</td><td>1329</td><td>1330</td><td>1457</td><td>1455</td><td>WN</td><td>1803</td><td>N713SW</td><td>88</td><td>85</td><td>76</td><td>2</td><td>-1</td><td>SNA</td><td>SMF</td><td>404</td><td>2</td><td>10</td><td>0</td><td>null</td><td>0</td><td>0</td><td>0</td><td>0</td><td>0</td><td>0</td></tr><tr><td>2007</td><td>1</td><td>1</td><td>1</td><td>1052</td><td>1055</td><td>1220</td><td>1220</td><td>WN</td><td>1977</td><td>N413</td><td>88</td><td>85</td><td>72</td><td>0</td><td>-3</td><td>SNA</td><td>SMF</td><td>404</td><td>3</td><td>13</td><td>0</td><td>null</td><td>0</td><td>0</td><td>0</td><td>0</td><td>0</td><td>0</td></tr><tr><td>2007</td><td>1</td><td>1</td><td>1</td><td>2128</td><td>2105</td><td>2254</td><td>2230</td><td>WN</td><td>2042</td><td>N442</td><td>86</td><td>85</td><td>70</td><td>24</td><td>23</td><td>SNA</td><td>SMF</td><td>404</td><td>5</td><td>11</td><td>0</td><td>null</td><td>0</td><td>9</td><td>0</td><td>1</td><td>0</td><td>14</td></tr><tr><td>2007</td><td>1</td><td>1</td><td>1</td><td>1215</td><td>1215</td><td>1339</td><td>1340</td><td>WN</td><td>2588</td><td>N204</td><td>84</td><td>85</td><td>71</td><td>-1</td><td>0</td><td>SNA</td><td>SMF</td><td>404</td><td>4</td><td>9</td><td>0</td><td>null</td><td>0</td><td>0</td><td>0</td><td>0</td><td>0</td><td>0</td></tr><tr><td>2007</td><td>1</td><td>1</td><td>1</td><td>1634</td><td>1625</td><td>1808</td><td>1810</td><td>WN</td><td>291</td><td>N622SW</td><td>154</td><td>165</td><td>140</td><td>-2</td><td>9</td><td>STL</td><td>ABQ</td><td>934</td><td>5</td><td>9</td><td>0</td><td>null</td><td>0</td><td>0</td><td>0</td><td>0</td><td>0</td><td>0</td></tr><tr><td>2007</td><td>1</td><td>1</td><td>1</td><td>1830</td><td>1835</td><td>1937</td><td>1950</td><td>WN</td><td>794</td><td>N399WN</td><td>67</td><td>75</td><td>58</td><td>-13</td><td>-5</td><td>STL</td><td>BHM</td><td>410</td><td>3</td><td>6</td><td>0</td><td>null</td><td>0</td><td>0</td><td>0</td><td>0</td><td>0</td><td>0</td></tr><tr><td>2007</td><td>1</td><td>1</td><td>1</td><td>1621</td><td>1605</td><td>1908</td><td>1900</td><td>WN</td><td>357</td><td>N727SW</td><td>107</td><td>115</td><td>97</td><td>8</td><td>16</td><td>STL</td><td>BWI</td><td>737</td><td>4</td><td>6</td><td>0</td><td>null</td><td>0</td><td>0</td><td>0</td><td>0</td><td>0</td><td>0</td></tr><tr><td>2007</td><td>1</td><td>1</td><td>1</td><td>2050</td><td>2050</td><td>2338</td><td>2335</td><td>WN</td><td>675</td><td>N637SW</td><td>108</td><td>105</td><td>97</td><td>3</td><td>0</td><td>STL</td><td>BWI</td><td>737</td><td>4</td><td>7</td><td>0</td><td>null</td><td>0</td><td>0</td><td>0</td><td>0</td><td>0</td><td>0</td></tr><tr><td>2007</td><td>1</td><td>1</td><td>1</td><td>915</td><td>915</td><td>1158</td><td>1210</td><td>WN</td><td>2574</td><td>N664WN</td><td>103</td><td>115</td><td>94</td><td>-12</td><td>0</td><td>STL</td><td>BWI</td><td>737</td><td>3</td><td>6</td><td>0</td><td>null</td><td>0</td><td>0</td><td>0</td><td>0</td><td>0</td><td>0</td></tr><tr><td>2007</td><td>1</td><td>1</td><td>1</td><td>1936</td><td>1930</td><td>2159</td><td>2155</td><td>WN</td><td>1057</td><td>N742</td><td>83</td><td>85</td><td>72</td><td>4</td><td>6</td><td>STL</td><td>CLE</td><td>487</td><td>5</td><td>6</td><td>0</td><td>null</td><td>0</td><td>0</td><td>0</td><td>0</td><td>0</td><td>0</td></tr><tr><td>2007</td><td>1</td><td>1</td><td>1</td><td>959</td><td>1000</td><td>1222</td><td>1225</td><td>WN</td><td>1477</td><td>N390SW</td><td>83</td><td>85</td><td>70</td><td>-3</td><td>-1</td><td>STL</td><td>CLE</td><td>487</td><td>5</td><td>8</td><td>0</td><td>null</td><td>0</td><td>0</td><td>0</td><td>0</td><td>0</td><td>0</td></tr><tr><td>2007</td><td>1</td><td>1</td><td>1</td><td>1430</td><td>1420</td><td>1641</td><td>1635</td><td>WN</td><td>522</td><td>N444</td><td>71</td><td>75</td><td>60</td><td>6</td><td>10</td><td>STL</td><td>CMH</td><td>410</td><td>4</td><td>7</td><td>0</td><td>null</td><td>0</td><td>0</td><td>0</td><td>0</td><td>0</td><td>0</td></tr><tr><td>2007</td><td>1</td><td>1</td><td>1</td><td>2116</td><td>2110</td><td>2241</td><td>2250</td><td>WN</td><td>82</td><td>N270</td><td>85</td><td>100</td><td>77</td><td>-9</td><td>6</td><td>STL</td><td>DAL</td><td>546</td><td>2</td><td>6</td><td>0</td><td>null</td><td>0</td><td>0</td><td>0</td><td>0</td><td>0</td><td>0</td></tr><tr><td>2007</td><td>1</td><td>1</td><td>1</td><td>1423</td><td>1405</td><td>1554</td><td>1550</td><td>WN</td><td>86</td><td>N504</td><td>91</td><td>105</td><td>79</td><td>4</td><td>18</td><td>STL</td><td>DAL</td><td>546</td><td>3</td><td>9</td><td>0</td><td>null</td><td>0</td><td>0</td><td>0</td><td>0</td><td>0</td><td>0</td></tr><tr><td>2007</td><td>1</td><td>1</td><td>1</td><td>1902</td><td>1855</td><td>2036</td><td>2035</td><td>WN</td><td>939</td><td>N507</td><td>94</td><td>100</td><td>83</td><td>1</td><td>7</td><td>STL</td><td>DAL</td><td>546</td><td>3</td><td>8</td><td>0</td><td>null</td><td>0</td><td>0</td><td>0</td><td>0</td><td>0</td><td>0</td></tr><tr><td>2007</td><td>1</td><td>1</td><td>1</td><td>908</td><td>905</td><td>1035</td><td>1050</td><td>WN</td><td>1959</td><td>N270</td><td>87</td><td>105</td><td>78</td><td>-15</td><td>3</td><td>STL</td><td>DAL</td><td>546</td><td>3</td><td>6</td><td>0</td><td>null</td><td>0</td><td>0</td><td>0</td><td>0</td><td>0</td><td>0</td></tr><tr><td>2007</td><td>1</td><td>1</td><td>1</td><td>1058</td><td>1040</td><td>1224</td><td>1225</td><td>WN</td><td>2108</td><td>N671SW</td><td>86</td><td>105</td><td>77</td><td>-1</td><td>18</td><td>STL</td><td>DAL</td><td>546</td><td>3</td><td>6</td><td>0</td><td>null</td><td>0</td><td>0</td><td>0</td><td>0</td><td>0</td><td>0</td></tr><tr><td>2007</td><td>1</td><td>1</td><td>1</td><td>2112</td><td>2110</td><td>2322</td><td>2330</td><td>WN</td><td>198</td><td>N526</td><td>70</td><td>80</td><td>60</td><td>-8</td><td>2</td><td>STL</td><td>DTW</td><td>440</td><td>4</td><td>6</td><td>0</td><td>null</td><td>0</td><td>0</td><td>0</td><td>0</td><td>0</td><td>0</td></tr><tr><td>2007</td><td>1</td><td>1</td><td>1</td><td>1657</td><td>1700</td><td>1920</td><td>1925</td><td>WN</td><td>1880</td><td>N637SW</td><td>83</td><td>85</td><td>69</td><td>-5</td><td>-3</td><td>STL</td><td>DTW</td><td>440</td><td>7</td><td>7</td><td>0</td><td>null</td><td>0</td><td>0</td><td>0</td><td>0</td><td>0</td><td>0</td></tr><tr><td>2007</td><td>1</td><td>1</td><td>1</td><td>1649</td><td>1645</td><td>2019</td><td>2025</td><td>WN</td><td>1460</td><td>N730MA</td><td>150</td><td>160</td><td>140</td><td>-6</td><td>4</td><td>STL</td><td>FLL</td><td>1056</td><td>3</td><td>7</td><td>0</td><td>null</td><td>0</td><td>0</td><td>0</td><td>0</td><td>0</td><td>0</td></tr><tr><td>2007</td><td>1</td><td>1</td><td>1</td><td>816</td><td>815</td><td>1003</td><td>1020</td><td>WN</td><td>669</td><td>N625SW</td><td>107</td><td>125</td><td>97</td><td>-17</td><td>1</td><td>STL</td><td>HOU</td><td>687</td><td>4</td><td>6</td><td>0</td><td>null</td><td>0</td><td>0</td><td>0</td><td>0</td><td>0</td><td>0</td></tr><tr><td>2007</td><td>1</td><td>1</td><td>1</td><td>1442</td><td>1355</td><td>1632</td><td>1600</td><td>WN</td><td>1556</td><td>N367</td><td>110</td><td>125</td><td>98</td><td>32</td><td>47</td><td>STL</td><td>HOU</td><td>687</td><td>3</td><td>9</td><td>0</td><td>null</td><td>0</td><td>8</td><td>0</td><td>0</td><td>0</td><td>24</td></tr><tr><td>2007</td><td>1</td><td>1</td><td>1</td><td>1654</td><td>1655</td><td>1846</td><td>1905</td><td>WN</td><td>1629</td><td>N615SW</td><td>112</td><td>130</td><td>99</td><td>-19</td><td>-1</td><td>STL</td><td>HOU</td><td>687</td><td>5</td><td>8</td><td>0</td><td>null</td><td>0</td><td>0</td><td>0</td><td>0</td><td>0</td><td>0</td></tr><tr><td>2007</td><td>1</td><td>1</td><td>1</td><td>951</td><td>955</td><td>1139</td><td>1200</td><td>WN</td><td>2011</td><td>N636WN</td><td>108</td><td>125</td><td>96</td><td>-21</td><td>-4</td><td>STL</td><td>HOU</td><td>687</td><td>3</td><td>9</td><td>0</td><td>null</td><td>0</td><td>0</td><td>0</td><td>0</td><td>0</td><td>0</td></tr><tr><td>2007</td><td>1</td><td>1</td><td>1</td><td>2050</td><td>2045</td><td>2243</td><td>2250</td><td>WN</td><td>2948</td><td>N699SW</td><td>113</td><td>125</td><td>104</td><td>-7</td><td>5</td><td>STL</td><td>HOU</td><td>687</td><td>3</td><td>6</td><td>0</td><td>null</td><td>0</td><td>0</td><td>0</td><td>0</td><td>0</td><td>0</td></tr><tr><td>2007</td><td>1</td><td>1</td><td>1</td><td>808</td><td>810</td><td>946</td><td>950</td><td>WN</td><td>1214</td><td>N635SW</td><td>218</td><td>220</td><td>201</td><td>-4</td><td>-2</td><td>STL</td><td>LAS</td><td>1372</td><td>10</td><td>7</td><td>0</td><td>null</td><td>0</td><td>0</td><td>0</td><td>0</td><td>0</td><td>0</td></tr><tr><td>2007</td><td>1</td><td>1</td><td>1</td><td>1711</td><td>1710</td><td>1832</td><td>1850</td><td>WN</td><td>1516</td><td>N793</td><td>201</td><td>220</td><td>186</td><td>-18</td><td>1</td><td>STL</td><td>LAS</td><td>1372</td><td>8</td><td>7</td><td>0</td><td>null</td><td>0</td><td>0</td><td>0</td><td>0</td><td>0</td><td>0</td></tr><tr><td>2007</td><td>1</td><td>1</td><td>1</td><td>1446</td><td>1445</td><td>1631</td><td>1700</td><td>WN</td><td>732</td><td>N483</td><td>225</td><td>255</td><td>209</td><td>-29</td><td>1</td><td>STL</td><td>LAX</td><td>1593</td><td>7</td><td>9</td><td>0</td><td>null</td><td>0</td><td>0</td><td>0</td><td>0</td><td>0</td><td>0</td></tr><tr><td>2007</td><td>1</td><td>1</td><td>1</td><td>1014</td><td>1010</td><td>1106</td><td>1115</td><td>WN</td><td>1361</td><td>N338</td><td>52</td><td>65</td><td>42</td><td>-9</td><td>4</td><td>STL</td><td>LIT</td><td>296</td><td>3</td><td>7</td><td>0</td><td>null</td><td>0</td><td>0</td><td>0</td><td>0</td><td>0</td><td>0</td></tr><tr><td>2007</td><td>1</td><td>1</td><td>1</td><td>1813</td><td>1815</td><td>1910</td><td>1920</td><td>WN</td><td>1659</td><td>N682</td><td>57</td><td>65</td><td>48</td><td>-10</td><td>-2</td><td>STL</td><td>LIT</td><td>296</td><td>3</td><td>6</td><td>0</td><td>null</td><td>0</td><td>0</td><td>0</td><td>0</td><td>0</td><td>0</td></tr><tr><td>2007</td><td>1</td><td>1</td><td>1</td><td>1914</td><td>1850</td><td>2016</td><td>1950</td><td>WN</td><td>205</td><td>N477</td><td>62</td><td>60</td><td>44</td><td>26</td><td>24</td><td>STL</td><td>MCI</td><td>237</td><td>9</td><td>9</td><td>0</td><td>null</td><td>0</td><td>14</td><td>0</td><td>2</td><td>0</td><td>10</td></tr><tr><td>2007</td><td>1</td><td>1</td><td>1</td><td>1629</td><td>1630</td><td>1728</td><td>1730</td><td>WN</td><td>1315</td><td>N686SW</td><td>59</td><td>60</td><td>45</td><td>-2</td><td>-1</td><td>STL</td><td>MCI</td><td>237</td><td>6</td><td>8</td><td>0</td><td>null</td><td>0</td><td>0</td><td>0</td><td>0</td><td>0</td><td>0</td></tr></tbody></table></div>"
      ]
     },
     "metadata": {
      "application/vnd.databricks.v1+output": {
       "addedWidgets": {},
       "aggData": [],
       "aggError": "",
       "aggOverflow": false,
       "aggSchema": [],
       "aggSeriesLimitReached": false,
       "aggType": "",
       "arguments": {},
       "columnCustomDisplayInfos": {},
       "data": [
        [
         2007,
         1,
         1,
         1,
         "1232",
         1225,
         "1341",
         1340,
         "WN",
         2891,
         "N351",
         "69",
         "75",
         "54",
         "1",
         "7",
         "SMF",
         "ONT",
         389,
         4,
         11,
         0,
         null,
         0,
         0,
         0,
         0,
         0,
         0
        ],
        [
         2007,
         1,
         1,
         1,
         "1918",
         1905,
         "2043",
         2035,
         "WN",
         462,
         "N370",
         "85",
         "90",
         "74",
         "8",
         "13",
         "SMF",
         "PDX",
         479,
         5,
         6,
         0,
         null,
         0,
         0,
         0,
         0,
         0,
         0
        ],
        [
         2007,
         1,
         1,
         1,
         "2206",
         2130,
         "2334",
         2300,
         "WN",
         1229,
         "N685",
         "88",
         "90",
         "73",
         "34",
         "36",
         "SMF",
         "PDX",
         479,
         6,
         9,
         0,
         null,
         0,
         3,
         0,
         0,
         0,
         31
        ],
        [
         2007,
         1,
         1,
         1,
         "1230",
         1200,
         "1356",
         1330,
         "WN",
         1355,
         "N364",
         "86",
         "90",
         "75",
         "26",
         "30",
         "SMF",
         "PDX",
         479,
         3,
         8,
         0,
         null,
         0,
         23,
         0,
         0,
         0,
         3
        ],
        [
         2007,
         1,
         1,
         1,
         "831",
         830,
         "957",
         1000,
         "WN",
         2278,
         "N480",
         "86",
         "90",
         "74",
         "-3",
         "1",
         "SMF",
         "PDX",
         479,
         3,
         9,
         0,
         null,
         0,
         0,
         0,
         0,
         0,
         0
        ],
        [
         2007,
         1,
         1,
         1,
         "1430",
         1420,
         "1553",
         1550,
         "WN",
         2386,
         "N611SW",
         "83",
         "90",
         "74",
         "3",
         "10",
         "SMF",
         "PDX",
         479,
         2,
         7,
         0,
         null,
         0,
         0,
         0,
         0,
         0,
         0
        ],
        [
         2007,
         1,
         1,
         1,
         "1936",
         1840,
         "2217",
         2130,
         "WN",
         409,
         "N482",
         "101",
         "110",
         "89",
         "47",
         "56",
         "SMF",
         "PHX",
         647,
         5,
         7,
         0,
         null,
         0,
         46,
         0,
         0,
         0,
         1
        ],
        [
         2007,
         1,
         1,
         1,
         "944",
         935,
         "1223",
         1225,
         "WN",
         1131,
         "N749SW",
         "99",
         "110",
         "86",
         "-2",
         "9",
         "SMF",
         "PHX",
         647,
         4,
         9,
         0,
         null,
         0,
         0,
         0,
         0,
         0,
         0
        ],
        [
         2007,
         1,
         1,
         1,
         "1537",
         1450,
         "1819",
         1735,
         "WN",
         1212,
         "N451",
         "102",
         "105",
         "90",
         "44",
         "47",
         "SMF",
         "PHX",
         647,
         5,
         7,
         0,
         null,
         0,
         20,
         0,
         0,
         0,
         24
        ],
        [
         2007,
         1,
         1,
         1,
         "1318",
         1315,
         "1603",
         1610,
         "WN",
         2456,
         "N630WN",
         "105",
         "115",
         "92",
         "-7",
         "3",
         "SMF",
         "PHX",
         647,
         5,
         8,
         0,
         null,
         0,
         0,
         0,
         0,
         0,
         0
        ],
        [
         2007,
         1,
         1,
         1,
         "836",
         835,
         "1119",
         1130,
         "WN",
         2575,
         "N493",
         "103",
         "115",
         "88",
         "-11",
         "1",
         "SMF",
         "PHX",
         647,
         7,
         8,
         0,
         null,
         0,
         0,
         0,
         0,
         0,
         0
        ],
        [
         2007,
         1,
         1,
         1,
         "2047",
         1955,
         "2332",
         2240,
         "WN",
         2608,
         "N733SW",
         "105",
         "105",
         "89",
         "52",
         "52",
         "SMF",
         "PHX",
         647,
         7,
         9,
         0,
         null,
         0,
         49,
         0,
         0,
         0,
         3
        ],
        [
         2007,
         1,
         1,
         1,
         "2128",
         2035,
         "2245",
         2200,
         "WN",
         139,
         "N348",
         "77",
         "85",
         "66",
         "45",
         "53",
         "SMF",
         "SAN",
         480,
         3,
         8,
         0,
         null,
         0,
         0,
         0,
         3,
         0,
         42
        ],
        [
         2007,
         1,
         1,
         1,
         "935",
         940,
         "1048",
         1105,
         "WN",
         747,
         "N358",
         "73",
         "85",
         "63",
         "-17",
         "-5",
         "SMF",
         "SAN",
         480,
         2,
         8,
         0,
         null,
         0,
         0,
         0,
         0,
         0,
         0
        ],
        [
         2007,
         1,
         1,
         1,
         "1251",
         1245,
         "1405",
         1410,
         "WN",
         933,
         "N413",
         "74",
         "85",
         "65",
         "-5",
         "6",
         "SMF",
         "SAN",
         480,
         2,
         7,
         0,
         null,
         0,
         0,
         0,
         0,
         0,
         0
        ],
        [
         2007,
         1,
         1,
         1,
         "1729",
         1645,
         "1843",
         1810,
         "WN",
         1054,
         "N416",
         "74",
         "85",
         "64",
         "33",
         "44",
         "SMF",
         "SAN",
         480,
         3,
         7,
         0,
         null,
         0,
         3,
         0,
         0,
         0,
         30
        ],
        [
         2007,
         1,
         1,
         1,
         "825",
         825,
         "941",
         950,
         "WN",
         1106,
         "N383SW",
         "76",
         "85",
         "63",
         "-9",
         "0",
         "SMF",
         "SAN",
         480,
         3,
         10,
         0,
         null,
         0,
         0,
         0,
         0,
         0,
         0
        ],
        [
         2007,
         1,
         1,
         1,
         "1042",
         1040,
         "1158",
         1205,
         "WN",
         1554,
         "N316SW",
         "76",
         "85",
         "66",
         "-7",
         "2",
         "SMF",
         "SAN",
         480,
         2,
         8,
         0,
         null,
         0,
         0,
         0,
         0,
         0,
         0
        ],
        [
         2007,
         1,
         1,
         1,
         "1726",
         1725,
         "1839",
         1850,
         "WN",
         1604,
         "N691WN",
         "73",
         "85",
         "63",
         "-11",
         "1",
         "SMF",
         "SAN",
         480,
         3,
         7,
         0,
         null,
         0,
         0,
         0,
         0,
         0,
         0
        ],
        [
         2007,
         1,
         1,
         1,
         "1849",
         1820,
         "2016",
         1940,
         "WN",
         1975,
         "N308SW",
         "87",
         "80",
         "69",
         "36",
         "29",
         "SMF",
         "SAN",
         480,
         3,
         15,
         0,
         null,
         0,
         20,
         0,
         7,
         0,
         9
        ],
        [
         2007,
         1,
         1,
         1,
         "2219",
         2105,
         "2332",
         2225,
         "WN",
         2083,
         "N205",
         "73",
         "80",
         "62",
         "67",
         "74",
         "SMF",
         "SAN",
         480,
         3,
         8,
         0,
         null,
         0,
         0,
         0,
         0,
         0,
         67
        ],
        [
         2007,
         1,
         1,
         1,
         "2012",
         1940,
         "2131",
         2105,
         "WN",
         2577,
         "N603SW",
         "79",
         "85",
         "66",
         "26",
         "32",
         "SMF",
         "SAN",
         480,
         3,
         10,
         0,
         null,
         0,
         9,
         0,
         0,
         0,
         17
        ],
        [
         2007,
         1,
         1,
         1,
         "1458",
         1455,
         "1614",
         1620,
         "WN",
         2587,
         "N604SW",
         "76",
         "85",
         "65",
         "-6",
         "3",
         "SMF",
         "SAN",
         480,
         2,
         9,
         0,
         null,
         0,
         0,
         0,
         0,
         0,
         0
        ],
        [
         2007,
         1,
         1,
         1,
         "1345",
         1345,
         "1456",
         1510,
         "WN",
         2643,
         "N700GS",
         "71",
         "85",
         "62",
         "-14",
         "0",
         "SMF",
         "SAN",
         480,
         2,
         7,
         0,
         null,
         0,
         0,
         0,
         0,
         0,
         0
        ],
        [
         2007,
         1,
         1,
         1,
         "715",
         720,
         "836",
         845,
         "WN",
         2755,
         "N355",
         "81",
         "85",
         "65",
         "-9",
         "-5",
         "SMF",
         "SAN",
         480,
         2,
         14,
         0,
         null,
         0,
         0,
         0,
         0,
         0,
         0
        ],
        [
         2007,
         1,
         1,
         1,
         "2119",
         2100,
         "2310",
         2250,
         "WN",
         961,
         "N771",
         "111",
         "110",
         "94",
         "20",
         "19",
         "SMF",
         "SEA",
         605,
         9,
         8,
         0,
         null,
         0,
         19,
         0,
         1,
         0,
         0
        ],
        [
         2007,
         1,
         1,
         1,
         "1530",
         1510,
         "1714",
         1700,
         "WN",
         1330,
         "N469",
         "104",
         "110",
         "91",
         "14",
         "20",
         "SMF",
         "SEA",
         605,
         5,
         8,
         0,
         null,
         0,
         0,
         0,
         0,
         0,
         0
        ],
        [
         2007,
         1,
         1,
         1,
         "1045",
         1035,
         "1240",
         1225,
         "WN",
         1502,
         "N327",
         "115",
         "110",
         "104",
         "15",
         "10",
         "SMF",
         "SEA",
         605,
         5,
         6,
         0,
         null,
         0,
         6,
         0,
         5,
         0,
         4
        ],
        [
         2007,
         1,
         1,
         1,
         "802",
         800,
         "953",
         955,
         "WN",
         2403,
         "N304SW",
         "111",
         "115",
         "98",
         "-2",
         "2",
         "SMF",
         "SEA",
         605,
         5,
         8,
         0,
         null,
         0,
         0,
         0,
         0,
         0,
         0
        ],
        [
         2007,
         1,
         1,
         1,
         "1415",
         1405,
         "1529",
         1525,
         "WN",
         976,
         "N204",
         "74",
         "80",
         "64",
         "4",
         "10",
         "SMF",
         "SNA",
         404,
         4,
         6,
         0,
         null,
         0,
         0,
         0,
         0,
         0,
         0
        ],
        [
         2007,
         1,
         1,
         1,
         "1630",
         1630,
         "1746",
         1750,
         "WN",
         1146,
         "N707SA",
         "76",
         "80",
         "60",
         "-4",
         "0",
         "SMF",
         "SNA",
         404,
         6,
         10,
         0,
         null,
         0,
         0,
         0,
         0,
         0,
         0
        ],
        [
         2007,
         1,
         1,
         1,
         "1527",
         1525,
         "1637",
         1645,
         "WN",
         1240,
         "N718SW",
         "70",
         "80",
         "60",
         "-8",
         "2",
         "SMF",
         "SNA",
         404,
         4,
         6,
         0,
         null,
         0,
         0,
         0,
         0,
         0,
         0
        ],
        [
         2007,
         1,
         1,
         1,
         "731",
         735,
         "844",
         900,
         "WN",
         1488,
         "N465",
         "73",
         "85",
         "60",
         "-16",
         "-4",
         "SMF",
         "SNA",
         404,
         5,
         8,
         0,
         null,
         0,
         0,
         0,
         0,
         0,
         0
        ],
        [
         2007,
         1,
         1,
         1,
         "1140",
         1140,
         "1253",
         1300,
         "WN",
         1596,
         "N725",
         "73",
         "80",
         "61",
         "-7",
         "0",
         "SMF",
         "SNA",
         404,
         6,
         6,
         0,
         null,
         0,
         0,
         0,
         0,
         0,
         0
        ],
        [
         2007,
         1,
         1,
         1,
         "2002",
         1935,
         "2115",
         2055,
         "WN",
         1784,
         "N711HK",
         "73",
         "80",
         "61",
         "20",
         "27",
         "SMF",
         "SNA",
         404,
         2,
         10,
         0,
         null,
         0,
         19,
         0,
         0,
         0,
         1
        ],
        [
         2007,
         1,
         1,
         1,
         "946",
         950,
         "1100",
         1115,
         "WN",
         2806,
         "N781",
         "74",
         "85",
         "60",
         "-15",
         "-4",
         "SMF",
         "SNA",
         404,
         3,
         11,
         0,
         null,
         0,
         0,
         0,
         0,
         0,
         0
        ],
        [
         2007,
         1,
         1,
         1,
         "1501",
         1455,
         "1604",
         1555,
         "WN",
         795,
         "N781",
         "63",
         "60",
         "46",
         "9",
         "6",
         "SNA",
         "LAS",
         226,
         7,
         10,
         0,
         null,
         0,
         0,
         0,
         0,
         0,
         0
        ],
        [
         2007,
         1,
         1,
         1,
         "1233",
         1155,
         "1342",
         1300,
         "WN",
         851,
         "N479",
         "69",
         "65",
         "47",
         "42",
         "38",
         "SNA",
         "LAS",
         226,
         15,
         7,
         0,
         null,
         0,
         0,
         0,
         4,
         0,
         38
        ],
        [
         2007,
         1,
         1,
         1,
         "NA",
         2030,
         "NA",
         2135,
         "WN",
         2734,
         "0",
         "NA",
         "65",
         "NA",
         "NA",
         "NA",
         "SNA",
         "LAS",
         226,
         0,
         0,
         1,
         "A",
         0,
         0,
         0,
         0,
         0,
         0
        ],
        [
         2007,
         1,
         1,
         1,
         "2057",
         1815,
         "2205",
         1920,
         "WN",
         2782,
         "N781",
         "68",
         "65",
         "50",
         "165",
         "162",
         "SNA",
         "LAS",
         226,
         4,
         14,
         0,
         null,
         0,
         162,
         0,
         3,
         0,
         0
        ],
        [
         2007,
         1,
         1,
         1,
         "810",
         810,
         "1347",
         1405,
         "WN",
         873,
         "N774",
         "217",
         "235",
         "205",
         "-18",
         "0",
         "SNA",
         "MDW",
         1731,
         4,
         8,
         0,
         null,
         0,
         0,
         0,
         0,
         0,
         0
        ],
        [
         2007,
         1,
         1,
         1,
         "1035",
         1035,
         "1154",
         1155,
         "WN",
         1184,
         "N767",
         "79",
         "80",
         "68",
         "-1",
         "0",
         "SNA",
         "OAK",
         371,
         5,
         6,
         0,
         null,
         0,
         0,
         0,
         0,
         0,
         0
        ],
        [
         2007,
         1,
         1,
         1,
         "1714",
         1715,
         "1835",
         1835,
         "WN",
         1737,
         "N718SW",
         "81",
         "80",
         "63",
         "0",
         "-1",
         "SNA",
         "OAK",
         371,
         13,
         5,
         0,
         null,
         0,
         0,
         0,
         0,
         0,
         0
        ],
        [
         2007,
         1,
         1,
         1,
         "1811",
         1805,
         "1925",
         1925,
         "WN",
         2217,
         "N247",
         "74",
         "80",
         "64",
         "0",
         "6",
         "SNA",
         "OAK",
         371,
         5,
         5,
         0,
         null,
         0,
         0,
         0,
         0,
         0,
         0
        ],
        [
         2007,
         1,
         1,
         1,
         "1946",
         1920,
         "2110",
         2045,
         "WN",
         2347,
         "N204",
         "84",
         "85",
         "67",
         "25",
         "26",
         "SNA",
         "OAK",
         371,
         5,
         12,
         0,
         null,
         0,
         10,
         0,
         0,
         0,
         15
        ],
        [
         2007,
         1,
         1,
         1,
         "2154",
         2115,
         "2308",
         2235,
         "WN",
         2449,
         "N711HK",
         "74",
         "80",
         "63",
         "33",
         "39",
         "SNA",
         "OAK",
         371,
         5,
         6,
         0,
         null,
         0,
         16,
         0,
         0,
         0,
         17
        ],
        [
         2007,
         1,
         1,
         1,
         "1600",
         1550,
         "1718",
         1710,
         "WN",
         2450,
         "N204",
         "78",
         "80",
         "68",
         "8",
         "10",
         "SNA",
         "OAK",
         371,
         4,
         6,
         0,
         null,
         0,
         0,
         0,
         0,
         0,
         0
        ],
        [
         2007,
         1,
         1,
         1,
         "1325",
         1325,
         "1443",
         1445,
         "WN",
         2786,
         "N725",
         "78",
         "80",
         "65",
         "-2",
         "0",
         "SNA",
         "OAK",
         371,
         4,
         9,
         0,
         null,
         0,
         0,
         0,
         0,
         0,
         0
        ],
        [
         2007,
         1,
         1,
         1,
         "2052",
         2005,
         "2214",
         2130,
         "WN",
         2790,
         "N774",
         "82",
         "85",
         "65",
         "44",
         "47",
         "SNA",
         "OAK",
         371,
         8,
         9,
         0,
         null,
         0,
         16,
         0,
         0,
         0,
         28
        ],
        [
         2007,
         1,
         1,
         1,
         "905",
         905,
         "1024",
         1025,
         "WN",
         2992,
         "N448",
         "79",
         "80",
         "69",
         "-1",
         "0",
         "SNA",
         "OAK",
         371,
         4,
         6,
         0,
         null,
         0,
         0,
         0,
         0,
         0,
         0
        ],
        [
         2007,
         1,
         1,
         1,
         "1737",
         1645,
         "1946",
         1855,
         "WN",
         212,
         "N663SW",
         "69",
         "70",
         "55",
         "51",
         "52",
         "SNA",
         "PHX",
         338,
         6,
         8,
         0,
         null,
         0,
         20,
         0,
         0,
         0,
         31
        ],
        [
         2007,
         1,
         1,
         1,
         "1101",
         1100,
         "1307",
         1315,
         "WN",
         324,
         "N765",
         "66",
         "75",
         "54",
         "-8",
         "1",
         "SNA",
         "PHX",
         338,
         5,
         7,
         0,
         null,
         0,
         0,
         0,
         0,
         0,
         0
        ],
        [
         2007,
         1,
         1,
         1,
         "1402",
         1350,
         "1610",
         1600,
         "WN",
         466,
         "N467",
         "68",
         "70",
         "47",
         "10",
         "12",
         "SNA",
         "PHX",
         338,
         13,
         8,
         0,
         null,
         0,
         0,
         0,
         0,
         0,
         0
        ],
        [
         2007,
         1,
         1,
         1,
         "921",
         925,
         "1119",
         1140,
         "WN",
         1488,
         "N465",
         "58",
         "75",
         "49",
         "-21",
         "-4",
         "SNA",
         "PHX",
         338,
         4,
         5,
         0,
         null,
         0,
         0,
         0,
         0,
         0,
         0
        ],
        [
         2007,
         1,
         1,
         1,
         "2108",
         2055,
         "2312",
         2305,
         "WN",
         1504,
         "N718SW",
         "64",
         "70",
         "53",
         "7",
         "13",
         "SNA",
         "PHX",
         338,
         4,
         7,
         0,
         null,
         0,
         0,
         0,
         0,
         0,
         0
        ],
        [
         2007,
         1,
         1,
         1,
         "1245",
         1245,
         "1457",
         1450,
         "WN",
         1684,
         "N493",
         "72",
         "65",
         "56",
         "7",
         "0",
         "SNA",
         "PHX",
         338,
         5,
         11,
         0,
         null,
         0,
         0,
         0,
         0,
         0,
         0
        ],
        [
         2007,
         1,
         1,
         1,
         "1743",
         1730,
         "1958",
         1945,
         "WN",
         1984,
         "N248",
         "75",
         "75",
         "58",
         "13",
         "13",
         "SNA",
         "PHX",
         338,
         7,
         10,
         0,
         null,
         0,
         0,
         0,
         0,
         0,
         0
        ],
        [
         2007,
         1,
         1,
         1,
         "1948",
         1905,
         "2157",
         2115,
         "WN",
         2515,
         "N473",
         "69",
         "70",
         "57",
         "42",
         "43",
         "SNA",
         "PHX",
         338,
         4,
         8,
         0,
         null,
         0,
         17,
         0,
         0,
         0,
         25
        ],
        [
         2007,
         1,
         1,
         1,
         "1408",
         1405,
         "1520",
         1520,
         "WN",
         127,
         "N231",
         "72",
         "75",
         "62",
         "0",
         "3",
         "SNA",
         "SJC",
         342,
         3,
         7,
         0,
         null,
         0,
         0,
         0,
         0,
         0,
         0
        ],
        [
         2007,
         1,
         1,
         1,
         "829",
         835,
         "940",
         950,
         "WN",
         528,
         "N215",
         "71",
         "75",
         "62",
         "-10",
         "-6",
         "SNA",
         "SJC",
         342,
         3,
         6,
         0,
         null,
         0,
         0,
         0,
         0,
         0,
         0
        ],
        [
         2007,
         1,
         1,
         1,
         "1953",
         1935,
         "2105",
         2050,
         "WN",
         1137,
         "N262",
         "72",
         "75",
         "61",
         "15",
         "18",
         "SNA",
         "SJC",
         342,
         2,
         9,
         0,
         null,
         0,
         15,
         0,
         0,
         0,
         0
        ],
        [
         2007,
         1,
         1,
         1,
         "2148",
         2040,
         "2305",
         2155,
         "WN",
         1243,
         "N458",
         "77",
         "75",
         "65",
         "70",
         "68",
         "SNA",
         "SJC",
         342,
         3,
         9,
         0,
         null,
         0,
         15,
         0,
         2,
         0,
         53
        ],
        [
         2007,
         1,
         1,
         1,
         "1136",
         1135,
         "1246",
         1250,
         "WN",
         2037,
         "N781",
         "70",
         "75",
         "63",
         "-4",
         "1",
         "SNA",
         "SJC",
         342,
         2,
         5,
         0,
         null,
         0,
         0,
         0,
         0,
         0,
         0
        ],
        [
         2007,
         1,
         1,
         1,
         "950",
         950,
         "1102",
         1105,
         "WN",
         2124,
         "N713SW",
         "72",
         "75",
         "62",
         "-3",
         "0",
         "SNA",
         "SJC",
         342,
         3,
         7,
         0,
         null,
         0,
         0,
         0,
         0,
         0,
         0
        ],
        [
         2007,
         1,
         1,
         1,
         "1638",
         1640,
         "1749",
         1755,
         "WN",
         2299,
         "N719SW",
         "71",
         "75",
         "61",
         "-6",
         "-2",
         "SNA",
         "SJC",
         342,
         4,
         6,
         0,
         null,
         0,
         0,
         0,
         0,
         0,
         0
        ],
        [
         2007,
         1,
         1,
         1,
         "938",
         940,
         "1105",
         1105,
         "WN",
         654,
         "N245",
         "87",
         "85",
         "75",
         "0",
         "-2",
         "SNA",
         "SMF",
         404,
         4,
         8,
         0,
         null,
         0,
         0,
         0,
         0,
         0,
         0
        ],
        [
         2007,
         1,
         1,
         1,
         "1439",
         1440,
         "1607",
         1605,
         "WN",
         728,
         "N707SA",
         "88",
         "85",
         "70",
         "2",
         "-1",
         "SNA",
         "SMF",
         404,
         3,
         15,
         0,
         null,
         0,
         0,
         0,
         0,
         0,
         0
        ],
        [
         2007,
         1,
         1,
         1,
         "1739",
         1740,
         "1906",
         1905,
         "WN",
         812,
         "N482",
         "87",
         "85",
         "70",
         "1",
         "-1",
         "SNA",
         "SMF",
         404,
         7,
         10,
         0,
         null,
         0,
         0,
         0,
         0,
         0,
         0
        ],
        [
         2007,
         1,
         1,
         1,
         "1329",
         1330,
         "1457",
         1455,
         "WN",
         1803,
         "N713SW",
         "88",
         "85",
         "76",
         "2",
         "-1",
         "SNA",
         "SMF",
         404,
         2,
         10,
         0,
         null,
         0,
         0,
         0,
         0,
         0,
         0
        ],
        [
         2007,
         1,
         1,
         1,
         "1052",
         1055,
         "1220",
         1220,
         "WN",
         1977,
         "N413",
         "88",
         "85",
         "72",
         "0",
         "-3",
         "SNA",
         "SMF",
         404,
         3,
         13,
         0,
         null,
         0,
         0,
         0,
         0,
         0,
         0
        ],
        [
         2007,
         1,
         1,
         1,
         "2128",
         2105,
         "2254",
         2230,
         "WN",
         2042,
         "N442",
         "86",
         "85",
         "70",
         "24",
         "23",
         "SNA",
         "SMF",
         404,
         5,
         11,
         0,
         null,
         0,
         9,
         0,
         1,
         0,
         14
        ],
        [
         2007,
         1,
         1,
         1,
         "1215",
         1215,
         "1339",
         1340,
         "WN",
         2588,
         "N204",
         "84",
         "85",
         "71",
         "-1",
         "0",
         "SNA",
         "SMF",
         404,
         4,
         9,
         0,
         null,
         0,
         0,
         0,
         0,
         0,
         0
        ],
        [
         2007,
         1,
         1,
         1,
         "1634",
         1625,
         "1808",
         1810,
         "WN",
         291,
         "N622SW",
         "154",
         "165",
         "140",
         "-2",
         "9",
         "STL",
         "ABQ",
         934,
         5,
         9,
         0,
         null,
         0,
         0,
         0,
         0,
         0,
         0
        ],
        [
         2007,
         1,
         1,
         1,
         "1830",
         1835,
         "1937",
         1950,
         "WN",
         794,
         "N399WN",
         "67",
         "75",
         "58",
         "-13",
         "-5",
         "STL",
         "BHM",
         410,
         3,
         6,
         0,
         null,
         0,
         0,
         0,
         0,
         0,
         0
        ],
        [
         2007,
         1,
         1,
         1,
         "1621",
         1605,
         "1908",
         1900,
         "WN",
         357,
         "N727SW",
         "107",
         "115",
         "97",
         "8",
         "16",
         "STL",
         "BWI",
         737,
         4,
         6,
         0,
         null,
         0,
         0,
         0,
         0,
         0,
         0
        ],
        [
         2007,
         1,
         1,
         1,
         "2050",
         2050,
         "2338",
         2335,
         "WN",
         675,
         "N637SW",
         "108",
         "105",
         "97",
         "3",
         "0",
         "STL",
         "BWI",
         737,
         4,
         7,
         0,
         null,
         0,
         0,
         0,
         0,
         0,
         0
        ],
        [
         2007,
         1,
         1,
         1,
         "915",
         915,
         "1158",
         1210,
         "WN",
         2574,
         "N664WN",
         "103",
         "115",
         "94",
         "-12",
         "0",
         "STL",
         "BWI",
         737,
         3,
         6,
         0,
         null,
         0,
         0,
         0,
         0,
         0,
         0
        ],
        [
         2007,
         1,
         1,
         1,
         "1936",
         1930,
         "2159",
         2155,
         "WN",
         1057,
         "N742",
         "83",
         "85",
         "72",
         "4",
         "6",
         "STL",
         "CLE",
         487,
         5,
         6,
         0,
         null,
         0,
         0,
         0,
         0,
         0,
         0
        ],
        [
         2007,
         1,
         1,
         1,
         "959",
         1000,
         "1222",
         1225,
         "WN",
         1477,
         "N390SW",
         "83",
         "85",
         "70",
         "-3",
         "-1",
         "STL",
         "CLE",
         487,
         5,
         8,
         0,
         null,
         0,
         0,
         0,
         0,
         0,
         0
        ],
        [
         2007,
         1,
         1,
         1,
         "1430",
         1420,
         "1641",
         1635,
         "WN",
         522,
         "N444",
         "71",
         "75",
         "60",
         "6",
         "10",
         "STL",
         "CMH",
         410,
         4,
         7,
         0,
         null,
         0,
         0,
         0,
         0,
         0,
         0
        ],
        [
         2007,
         1,
         1,
         1,
         "2116",
         2110,
         "2241",
         2250,
         "WN",
         82,
         "N270",
         "85",
         "100",
         "77",
         "-9",
         "6",
         "STL",
         "DAL",
         546,
         2,
         6,
         0,
         null,
         0,
         0,
         0,
         0,
         0,
         0
        ],
        [
         2007,
         1,
         1,
         1,
         "1423",
         1405,
         "1554",
         1550,
         "WN",
         86,
         "N504",
         "91",
         "105",
         "79",
         "4",
         "18",
         "STL",
         "DAL",
         546,
         3,
         9,
         0,
         null,
         0,
         0,
         0,
         0,
         0,
         0
        ],
        [
         2007,
         1,
         1,
         1,
         "1902",
         1855,
         "2036",
         2035,
         "WN",
         939,
         "N507",
         "94",
         "100",
         "83",
         "1",
         "7",
         "STL",
         "DAL",
         546,
         3,
         8,
         0,
         null,
         0,
         0,
         0,
         0,
         0,
         0
        ],
        [
         2007,
         1,
         1,
         1,
         "908",
         905,
         "1035",
         1050,
         "WN",
         1959,
         "N270",
         "87",
         "105",
         "78",
         "-15",
         "3",
         "STL",
         "DAL",
         546,
         3,
         6,
         0,
         null,
         0,
         0,
         0,
         0,
         0,
         0
        ],
        [
         2007,
         1,
         1,
         1,
         "1058",
         1040,
         "1224",
         1225,
         "WN",
         2108,
         "N671SW",
         "86",
         "105",
         "77",
         "-1",
         "18",
         "STL",
         "DAL",
         546,
         3,
         6,
         0,
         null,
         0,
         0,
         0,
         0,
         0,
         0
        ],
        [
         2007,
         1,
         1,
         1,
         "2112",
         2110,
         "2322",
         2330,
         "WN",
         198,
         "N526",
         "70",
         "80",
         "60",
         "-8",
         "2",
         "STL",
         "DTW",
         440,
         4,
         6,
         0,
         null,
         0,
         0,
         0,
         0,
         0,
         0
        ],
        [
         2007,
         1,
         1,
         1,
         "1657",
         1700,
         "1920",
         1925,
         "WN",
         1880,
         "N637SW",
         "83",
         "85",
         "69",
         "-5",
         "-3",
         "STL",
         "DTW",
         440,
         7,
         7,
         0,
         null,
         0,
         0,
         0,
         0,
         0,
         0
        ],
        [
         2007,
         1,
         1,
         1,
         "1649",
         1645,
         "2019",
         2025,
         "WN",
         1460,
         "N730MA",
         "150",
         "160",
         "140",
         "-6",
         "4",
         "STL",
         "FLL",
         1056,
         3,
         7,
         0,
         null,
         0,
         0,
         0,
         0,
         0,
         0
        ],
        [
         2007,
         1,
         1,
         1,
         "816",
         815,
         "1003",
         1020,
         "WN",
         669,
         "N625SW",
         "107",
         "125",
         "97",
         "-17",
         "1",
         "STL",
         "HOU",
         687,
         4,
         6,
         0,
         null,
         0,
         0,
         0,
         0,
         0,
         0
        ],
        [
         2007,
         1,
         1,
         1,
         "1442",
         1355,
         "1632",
         1600,
         "WN",
         1556,
         "N367",
         "110",
         "125",
         "98",
         "32",
         "47",
         "STL",
         "HOU",
         687,
         3,
         9,
         0,
         null,
         0,
         8,
         0,
         0,
         0,
         24
        ],
        [
         2007,
         1,
         1,
         1,
         "1654",
         1655,
         "1846",
         1905,
         "WN",
         1629,
         "N615SW",
         "112",
         "130",
         "99",
         "-19",
         "-1",
         "STL",
         "HOU",
         687,
         5,
         8,
         0,
         null,
         0,
         0,
         0,
         0,
         0,
         0
        ],
        [
         2007,
         1,
         1,
         1,
         "951",
         955,
         "1139",
         1200,
         "WN",
         2011,
         "N636WN",
         "108",
         "125",
         "96",
         "-21",
         "-4",
         "STL",
         "HOU",
         687,
         3,
         9,
         0,
         null,
         0,
         0,
         0,
         0,
         0,
         0
        ],
        [
         2007,
         1,
         1,
         1,
         "2050",
         2045,
         "2243",
         2250,
         "WN",
         2948,
         "N699SW",
         "113",
         "125",
         "104",
         "-7",
         "5",
         "STL",
         "HOU",
         687,
         3,
         6,
         0,
         null,
         0,
         0,
         0,
         0,
         0,
         0
        ],
        [
         2007,
         1,
         1,
         1,
         "808",
         810,
         "946",
         950,
         "WN",
         1214,
         "N635SW",
         "218",
         "220",
         "201",
         "-4",
         "-2",
         "STL",
         "LAS",
         1372,
         10,
         7,
         0,
         null,
         0,
         0,
         0,
         0,
         0,
         0
        ],
        [
         2007,
         1,
         1,
         1,
         "1711",
         1710,
         "1832",
         1850,
         "WN",
         1516,
         "N793",
         "201",
         "220",
         "186",
         "-18",
         "1",
         "STL",
         "LAS",
         1372,
         8,
         7,
         0,
         null,
         0,
         0,
         0,
         0,
         0,
         0
        ],
        [
         2007,
         1,
         1,
         1,
         "1446",
         1445,
         "1631",
         1700,
         "WN",
         732,
         "N483",
         "225",
         "255",
         "209",
         "-29",
         "1",
         "STL",
         "LAX",
         1593,
         7,
         9,
         0,
         null,
         0,
         0,
         0,
         0,
         0,
         0
        ],
        [
         2007,
         1,
         1,
         1,
         "1014",
         1010,
         "1106",
         1115,
         "WN",
         1361,
         "N338",
         "52",
         "65",
         "42",
         "-9",
         "4",
         "STL",
         "LIT",
         296,
         3,
         7,
         0,
         null,
         0,
         0,
         0,
         0,
         0,
         0
        ],
        [
         2007,
         1,
         1,
         1,
         "1813",
         1815,
         "1910",
         1920,
         "WN",
         1659,
         "N682",
         "57",
         "65",
         "48",
         "-10",
         "-2",
         "STL",
         "LIT",
         296,
         3,
         6,
         0,
         null,
         0,
         0,
         0,
         0,
         0,
         0
        ],
        [
         2007,
         1,
         1,
         1,
         "1914",
         1850,
         "2016",
         1950,
         "WN",
         205,
         "N477",
         "62",
         "60",
         "44",
         "26",
         "24",
         "STL",
         "MCI",
         237,
         9,
         9,
         0,
         null,
         0,
         14,
         0,
         2,
         0,
         10
        ],
        [
         2007,
         1,
         1,
         1,
         "1629",
         1630,
         "1728",
         1730,
         "WN",
         1315,
         "N686SW",
         "59",
         "60",
         "45",
         "-2",
         "-1",
         "STL",
         "MCI",
         237,
         6,
         8,
         0,
         null,
         0,
         0,
         0,
         0,
         0,
         0
        ]
       ],
       "datasetInfos": [],
       "dbfsResultPath": null,
       "isJsonSchema": true,
       "metadata": {},
       "overflow": false,
       "plotOptions": {
        "customPlotOptions": {},
        "displayType": "table",
        "pivotAggregation": null,
        "pivotColumns": null,
        "xColumns": null,
        "yColumns": null
       },
       "removedWidgets": [],
       "schema": [
        {
         "metadata": "{}",
         "name": "Year",
         "type": "\"integer\""
        },
        {
         "metadata": "{}",
         "name": "Month",
         "type": "\"integer\""
        },
        {
         "metadata": "{}",
         "name": "DayofMonth",
         "type": "\"integer\""
        },
        {
         "metadata": "{}",
         "name": "DayOfWeek",
         "type": "\"integer\""
        },
        {
         "metadata": "{}",
         "name": "DepTime",
         "type": "\"string\""
        },
        {
         "metadata": "{}",
         "name": "CRSDepTime",
         "type": "\"integer\""
        },
        {
         "metadata": "{}",
         "name": "ArrTime",
         "type": "\"string\""
        },
        {
         "metadata": "{}",
         "name": "CRSArrTime",
         "type": "\"integer\""
        },
        {
         "metadata": "{}",
         "name": "UniqueCarrier",
         "type": "\"string\""
        },
        {
         "metadata": "{}",
         "name": "FlightNum",
         "type": "\"integer\""
        },
        {
         "metadata": "{}",
         "name": "TailNum",
         "type": "\"string\""
        },
        {
         "metadata": "{}",
         "name": "ActualElapsedTime",
         "type": "\"string\""
        },
        {
         "metadata": "{}",
         "name": "CRSElapsedTime",
         "type": "\"string\""
        },
        {
         "metadata": "{}",
         "name": "AirTime",
         "type": "\"string\""
        },
        {
         "metadata": "{}",
         "name": "ArrDelay",
         "type": "\"string\""
        },
        {
         "metadata": "{}",
         "name": "DepDelay",
         "type": "\"string\""
        },
        {
         "metadata": "{}",
         "name": "Origin",
         "type": "\"string\""
        },
        {
         "metadata": "{}",
         "name": "Dest",
         "type": "\"string\""
        },
        {
         "metadata": "{}",
         "name": "Distance",
         "type": "\"integer\""
        },
        {
         "metadata": "{}",
         "name": "TaxiIn",
         "type": "\"integer\""
        },
        {
         "metadata": "{}",
         "name": "TaxiOut",
         "type": "\"integer\""
        },
        {
         "metadata": "{}",
         "name": "Cancelled",
         "type": "\"integer\""
        },
        {
         "metadata": "{}",
         "name": "CancellationCode",
         "type": "\"string\""
        },
        {
         "metadata": "{}",
         "name": "Diverted",
         "type": "\"integer\""
        },
        {
         "metadata": "{}",
         "name": "CarrierDelay",
         "type": "\"integer\""
        },
        {
         "metadata": "{}",
         "name": "WeatherDelay",
         "type": "\"integer\""
        },
        {
         "metadata": "{}",
         "name": "NASDelay",
         "type": "\"integer\""
        },
        {
         "metadata": "{}",
         "name": "SecurityDelay",
         "type": "\"integer\""
        },
        {
         "metadata": "{}",
         "name": "LateAircraftDelay",
         "type": "\"integer\""
        }
       ],
       "type": "table"
      }
     },
     "output_type": "display_data"
    }
   ],
   "source": [
    "display(df_arilines.limit(100))"
   ]
  },
  {
   "cell_type": "code",
   "execution_count": 0,
   "metadata": {
    "application/vnd.databricks.v1+cell": {
     "cellMetadata": {
      "byteLimit": 2048000,
      "rowLimit": 10000
     },
     "inputWidgets": {},
     "nuid": "fd1b4fc7-a0fd-47b8-a7f5-59530a65ce90",
     "showTitle": false,
     "title": ""
    }
   },
   "outputs": [],
   "source": [
    "df_arilines.write.format(\"delta\").partitionBy(\"origin\").saveAsTable(\"airline_part\")"
   ]
  },
  {
   "cell_type": "code",
   "execution_count": 0,
   "metadata": {
    "application/vnd.databricks.v1+cell": {
     "cellMetadata": {
      "byteLimit": 2048000,
      "rowLimit": 10000
     },
     "inputWidgets": {},
     "nuid": "652e94a5-aaa6-44ce-8149-a399f707b997",
     "showTitle": false,
     "title": ""
    }
   },
   "outputs": [],
   "source": [
    "df_arilines.write.format(\"delta\").mode(\"append\").saveAsTable(\"airline_cluster\")"
   ]
  },
  {
   "cell_type": "code",
   "execution_count": 0,
   "metadata": {
    "application/vnd.databricks.v1+cell": {
     "cellMetadata": {
      "byteLimit": 2048000,
      "rowLimit": 10000
     },
     "inputWidgets": {},
     "nuid": "dfb6d1f5-8615-44fd-a8f6-78f4b0ad7e38",
     "showTitle": false,
     "title": ""
    }
   },
   "outputs": [
    {
     "output_type": "display_data",
     "data": {
      "text/html": [
       "<style scoped>\n",
       "  .table-result-container {\n",
       "    max-height: 300px;\n",
       "    overflow: auto;\n",
       "  }\n",
       "  table, th, td {\n",
       "    border: 1px solid black;\n",
       "    border-collapse: collapse;\n",
       "  }\n",
       "  th, td {\n",
       "    padding: 5px;\n",
       "  }\n",
       "  th {\n",
       "    text-align: left;\n",
       "  }\n",
       "</style><div class='table-result-container'><table class='table-result'><thead style='background-color: white'><tr><th>path</th><th>name</th><th>size</th><th>modificationTime</th></tr></thead><tbody><tr><td>dbfs:/user/hive/warehouse/airline_cluster/_delta_log/</td><td>_delta_log/</td><td>0</td><td>1696577346000</td></tr><tr><td>dbfs:/user/hive/warehouse/airline_cluster/part-00000-052c6375-afa3-4233-adfe-2cf7db56c00e-c000.snappy.parquet</td><td>part-00000-052c6375-afa3-4233-adfe-2cf7db56c00e-c000.snappy.parquet</td><td>163398237</td><td>1696578441000</td></tr></tbody></table></div>"
      ]
     },
     "metadata": {
      "application/vnd.databricks.v1+output": {
       "addedWidgets": {},
       "aggData": [],
       "aggError": "",
       "aggOverflow": false,
       "aggSchema": [],
       "aggSeriesLimitReached": false,
       "aggType": "",
       "arguments": {},
       "columnCustomDisplayInfos": {},
       "data": [
        [
         "dbfs:/user/hive/warehouse/airline_cluster/_delta_log/",
         "_delta_log/",
         0,
         1696577346000
        ],
        [
         "dbfs:/user/hive/warehouse/airline_cluster/part-00000-052c6375-afa3-4233-adfe-2cf7db56c00e-c000.snappy.parquet",
         "part-00000-052c6375-afa3-4233-adfe-2cf7db56c00e-c000.snappy.parquet",
         163398237,
         1696578441000
        ]
       ],
       "datasetInfos": [],
       "dbfsResultPath": null,
       "isJsonSchema": true,
       "metadata": {
        "isDbfsCommandResult": false
       },
       "overflow": false,
       "plotOptions": {
        "customPlotOptions": {},
        "displayType": "table",
        "pivotAggregation": null,
        "pivotColumns": null,
        "xColumns": null,
        "yColumns": null
       },
       "removedWidgets": [],
       "schema": [
        {
         "metadata": "{}",
         "name": "path",
         "type": "\"string\""
        },
        {
         "metadata": "{}",
         "name": "name",
         "type": "\"string\""
        },
        {
         "metadata": "{}",
         "name": "size",
         "type": "\"long\""
        },
        {
         "metadata": "{}",
         "name": "modificationTime",
         "type": "\"long\""
        }
       ],
       "type": "table"
      }
     },
     "output_type": "display_data"
    }
   ],
   "source": [
    "%fs ls /user/hive/warehouse/airline_cluster/"
   ]
  },
  {
   "cell_type": "code",
   "execution_count": 0,
   "metadata": {
    "application/vnd.databricks.v1+cell": {
     "cellMetadata": {
      "byteLimit": 2048000,
      "rowLimit": 10000
     },
     "inputWidgets": {},
     "nuid": "44f2f14f-a811-48a3-82be-5e8a71af4f3f",
     "showTitle": false,
     "title": ""
    }
   },
   "outputs": [
    {
     "output_type": "display_data",
     "data": {
      "text/html": [
       "<style scoped>\n",
       "  .table-result-container {\n",
       "    max-height: 300px;\n",
       "    overflow: auto;\n",
       "  }\n",
       "  table, th, td {\n",
       "    border: 1px solid black;\n",
       "    border-collapse: collapse;\n",
       "  }\n",
       "  th, td {\n",
       "    padding: 5px;\n",
       "  }\n",
       "  th {\n",
       "    text-align: left;\n",
       "  }\n",
       "</style><div class='table-result-container'><table class='table-result'><thead style='background-color: white'><tr><th>path</th><th>name</th><th>size</th><th>modificationTime</th></tr></thead><tbody><tr><td>dbfs:/user/hive/warehouse/airline_part/Origin=ABE/</td><td>Origin=ABE/</td><td>0</td><td>1696577174000</td></tr><tr><td>dbfs:/user/hive/warehouse/airline_part/Origin=ABI/</td><td>Origin=ABI/</td><td>0</td><td>1696577177000</td></tr><tr><td>dbfs:/user/hive/warehouse/airline_part/Origin=ABQ/</td><td>Origin=ABQ/</td><td>0</td><td>1696577177000</td></tr><tr><td>dbfs:/user/hive/warehouse/airline_part/Origin=ABY/</td><td>Origin=ABY/</td><td>0</td><td>1696577178000</td></tr><tr><td>dbfs:/user/hive/warehouse/airline_part/Origin=ACK/</td><td>Origin=ACK/</td><td>0</td><td>1696577178000</td></tr><tr><td>dbfs:/user/hive/warehouse/airline_part/Origin=ACT/</td><td>Origin=ACT/</td><td>0</td><td>1696577178000</td></tr><tr><td>dbfs:/user/hive/warehouse/airline_part/Origin=ACV/</td><td>Origin=ACV/</td><td>0</td><td>1696577178000</td></tr><tr><td>dbfs:/user/hive/warehouse/airline_part/Origin=ACY/</td><td>Origin=ACY/</td><td>0</td><td>1696577179000</td></tr><tr><td>dbfs:/user/hive/warehouse/airline_part/Origin=ADK/</td><td>Origin=ADK/</td><td>0</td><td>1696577179000</td></tr><tr><td>dbfs:/user/hive/warehouse/airline_part/Origin=ADQ/</td><td>Origin=ADQ/</td><td>0</td><td>1696577179000</td></tr><tr><td>dbfs:/user/hive/warehouse/airline_part/Origin=AEX/</td><td>Origin=AEX/</td><td>0</td><td>1696577179000</td></tr><tr><td>dbfs:/user/hive/warehouse/airline_part/Origin=AGS/</td><td>Origin=AGS/</td><td>0</td><td>1696577179000</td></tr><tr><td>dbfs:/user/hive/warehouse/airline_part/Origin=AKN/</td><td>Origin=AKN/</td><td>0</td><td>1696577180000</td></tr><tr><td>dbfs:/user/hive/warehouse/airline_part/Origin=ALB/</td><td>Origin=ALB/</td><td>0</td><td>1696577180000</td></tr><tr><td>dbfs:/user/hive/warehouse/airline_part/Origin=ALO/</td><td>Origin=ALO/</td><td>0</td><td>1696577180000</td></tr><tr><td>dbfs:/user/hive/warehouse/airline_part/Origin=AMA/</td><td>Origin=AMA/</td><td>0</td><td>1696577180000</td></tr><tr><td>dbfs:/user/hive/warehouse/airline_part/Origin=ANC/</td><td>Origin=ANC/</td><td>0</td><td>1696577180000</td></tr><tr><td>dbfs:/user/hive/warehouse/airline_part/Origin=APF/</td><td>Origin=APF/</td><td>0</td><td>1696577180000</td></tr><tr><td>dbfs:/user/hive/warehouse/airline_part/Origin=ASE/</td><td>Origin=ASE/</td><td>0</td><td>1696577180000</td></tr><tr><td>dbfs:/user/hive/warehouse/airline_part/Origin=ATL/</td><td>Origin=ATL/</td><td>0</td><td>1696577180000</td></tr><tr><td>dbfs:/user/hive/warehouse/airline_part/Origin=ATW/</td><td>Origin=ATW/</td><td>0</td><td>1696577181000</td></tr><tr><td>dbfs:/user/hive/warehouse/airline_part/Origin=AUS/</td><td>Origin=AUS/</td><td>0</td><td>1696577181000</td></tr><tr><td>dbfs:/user/hive/warehouse/airline_part/Origin=AVL/</td><td>Origin=AVL/</td><td>0</td><td>1696577181000</td></tr><tr><td>dbfs:/user/hive/warehouse/airline_part/Origin=AVP/</td><td>Origin=AVP/</td><td>0</td><td>1696577182000</td></tr><tr><td>dbfs:/user/hive/warehouse/airline_part/Origin=AZO/</td><td>Origin=AZO/</td><td>0</td><td>1696577182000</td></tr><tr><td>dbfs:/user/hive/warehouse/airline_part/Origin=BDL/</td><td>Origin=BDL/</td><td>0</td><td>1696577182000</td></tr><tr><td>dbfs:/user/hive/warehouse/airline_part/Origin=BET/</td><td>Origin=BET/</td><td>0</td><td>1696577182000</td></tr><tr><td>dbfs:/user/hive/warehouse/airline_part/Origin=BFL/</td><td>Origin=BFL/</td><td>0</td><td>1696577182000</td></tr><tr><td>dbfs:/user/hive/warehouse/airline_part/Origin=BGM/</td><td>Origin=BGM/</td><td>0</td><td>1696577182000</td></tr><tr><td>dbfs:/user/hive/warehouse/airline_part/Origin=BGR/</td><td>Origin=BGR/</td><td>0</td><td>1696577182000</td></tr><tr><td>dbfs:/user/hive/warehouse/airline_part/Origin=BHM/</td><td>Origin=BHM/</td><td>0</td><td>1696577182000</td></tr><tr><td>dbfs:/user/hive/warehouse/airline_part/Origin=BIL/</td><td>Origin=BIL/</td><td>0</td><td>1696577183000</td></tr><tr><td>dbfs:/user/hive/warehouse/airline_part/Origin=BIS/</td><td>Origin=BIS/</td><td>0</td><td>1696577183000</td></tr><tr><td>dbfs:/user/hive/warehouse/airline_part/Origin=BJI/</td><td>Origin=BJI/</td><td>0</td><td>1696577183000</td></tr><tr><td>dbfs:/user/hive/warehouse/airline_part/Origin=BLI/</td><td>Origin=BLI/</td><td>0</td><td>1696577183000</td></tr><tr><td>dbfs:/user/hive/warehouse/airline_part/Origin=BMI/</td><td>Origin=BMI/</td><td>0</td><td>1696577183000</td></tr><tr><td>dbfs:/user/hive/warehouse/airline_part/Origin=BNA/</td><td>Origin=BNA/</td><td>0</td><td>1696577183000</td></tr><tr><td>dbfs:/user/hive/warehouse/airline_part/Origin=BOI/</td><td>Origin=BOI/</td><td>0</td><td>1696577183000</td></tr><tr><td>dbfs:/user/hive/warehouse/airline_part/Origin=BOS/</td><td>Origin=BOS/</td><td>0</td><td>1696577183000</td></tr><tr><td>dbfs:/user/hive/warehouse/airline_part/Origin=BPT/</td><td>Origin=BPT/</td><td>0</td><td>1696577184000</td></tr><tr><td>dbfs:/user/hive/warehouse/airline_part/Origin=BQK/</td><td>Origin=BQK/</td><td>0</td><td>1696577184000</td></tr><tr><td>dbfs:/user/hive/warehouse/airline_part/Origin=BQN/</td><td>Origin=BQN/</td><td>0</td><td>1696577184000</td></tr><tr><td>dbfs:/user/hive/warehouse/airline_part/Origin=BRO/</td><td>Origin=BRO/</td><td>0</td><td>1696577184000</td></tr><tr><td>dbfs:/user/hive/warehouse/airline_part/Origin=BRW/</td><td>Origin=BRW/</td><td>0</td><td>1696577184000</td></tr><tr><td>dbfs:/user/hive/warehouse/airline_part/Origin=BTM/</td><td>Origin=BTM/</td><td>0</td><td>1696577184000</td></tr><tr><td>dbfs:/user/hive/warehouse/airline_part/Origin=BTR/</td><td>Origin=BTR/</td><td>0</td><td>1696577184000</td></tr><tr><td>dbfs:/user/hive/warehouse/airline_part/Origin=BTV/</td><td>Origin=BTV/</td><td>0</td><td>1696577185000</td></tr><tr><td>dbfs:/user/hive/warehouse/airline_part/Origin=BUF/</td><td>Origin=BUF/</td><td>0</td><td>1696577185000</td></tr><tr><td>dbfs:/user/hive/warehouse/airline_part/Origin=BUR/</td><td>Origin=BUR/</td><td>0</td><td>1696577185000</td></tr><tr><td>dbfs:/user/hive/warehouse/airline_part/Origin=BWI/</td><td>Origin=BWI/</td><td>0</td><td>1696577185000</td></tr><tr><td>dbfs:/user/hive/warehouse/airline_part/Origin=BZN/</td><td>Origin=BZN/</td><td>0</td><td>1696577185000</td></tr><tr><td>dbfs:/user/hive/warehouse/airline_part/Origin=CAE/</td><td>Origin=CAE/</td><td>0</td><td>1696577186000</td></tr><tr><td>dbfs:/user/hive/warehouse/airline_part/Origin=CAK/</td><td>Origin=CAK/</td><td>0</td><td>1696577186000</td></tr><tr><td>dbfs:/user/hive/warehouse/airline_part/Origin=CDV/</td><td>Origin=CDV/</td><td>0</td><td>1696577186000</td></tr><tr><td>dbfs:/user/hive/warehouse/airline_part/Origin=CEC/</td><td>Origin=CEC/</td><td>0</td><td>1696577186000</td></tr><tr><td>dbfs:/user/hive/warehouse/airline_part/Origin=CHA/</td><td>Origin=CHA/</td><td>0</td><td>1696577186000</td></tr><tr><td>dbfs:/user/hive/warehouse/airline_part/Origin=CHO/</td><td>Origin=CHO/</td><td>0</td><td>1696577186000</td></tr><tr><td>dbfs:/user/hive/warehouse/airline_part/Origin=CHS/</td><td>Origin=CHS/</td><td>0</td><td>1696577186000</td></tr><tr><td>dbfs:/user/hive/warehouse/airline_part/Origin=CIC/</td><td>Origin=CIC/</td><td>0</td><td>1696577187000</td></tr><tr><td>dbfs:/user/hive/warehouse/airline_part/Origin=CID/</td><td>Origin=CID/</td><td>0</td><td>1696577187000</td></tr><tr><td>dbfs:/user/hive/warehouse/airline_part/Origin=CLD/</td><td>Origin=CLD/</td><td>0</td><td>1696577187000</td></tr><tr><td>dbfs:/user/hive/warehouse/airline_part/Origin=CLE/</td><td>Origin=CLE/</td><td>0</td><td>1696577187000</td></tr><tr><td>dbfs:/user/hive/warehouse/airline_part/Origin=CLL/</td><td>Origin=CLL/</td><td>0</td><td>1696577187000</td></tr><tr><td>dbfs:/user/hive/warehouse/airline_part/Origin=CLT/</td><td>Origin=CLT/</td><td>0</td><td>1696577187000</td></tr><tr><td>dbfs:/user/hive/warehouse/airline_part/Origin=CMH/</td><td>Origin=CMH/</td><td>0</td><td>1696577188000</td></tr><tr><td>dbfs:/user/hive/warehouse/airline_part/Origin=CMI/</td><td>Origin=CMI/</td><td>0</td><td>1696577188000</td></tr><tr><td>dbfs:/user/hive/warehouse/airline_part/Origin=CMX/</td><td>Origin=CMX/</td><td>0</td><td>1696577188000</td></tr><tr><td>dbfs:/user/hive/warehouse/airline_part/Origin=COD/</td><td>Origin=COD/</td><td>0</td><td>1696577188000</td></tr><tr><td>dbfs:/user/hive/warehouse/airline_part/Origin=COS/</td><td>Origin=COS/</td><td>0</td><td>1696577188000</td></tr><tr><td>dbfs:/user/hive/warehouse/airline_part/Origin=CPR/</td><td>Origin=CPR/</td><td>0</td><td>1696577189000</td></tr><tr><td>dbfs:/user/hive/warehouse/airline_part/Origin=CRP/</td><td>Origin=CRP/</td><td>0</td><td>1696577189000</td></tr><tr><td>dbfs:/user/hive/warehouse/airline_part/Origin=CRW/</td><td>Origin=CRW/</td><td>0</td><td>1696577189000</td></tr><tr><td>dbfs:/user/hive/warehouse/airline_part/Origin=CSG/</td><td>Origin=CSG/</td><td>0</td><td>1696577189000</td></tr><tr><td>dbfs:/user/hive/warehouse/airline_part/Origin=CVG/</td><td>Origin=CVG/</td><td>0</td><td>1696577189000</td></tr><tr><td>dbfs:/user/hive/warehouse/airline_part/Origin=CWA/</td><td>Origin=CWA/</td><td>0</td><td>1696577189000</td></tr><tr><td>dbfs:/user/hive/warehouse/airline_part/Origin=DAB/</td><td>Origin=DAB/</td><td>0</td><td>1696577189000</td></tr><tr><td>dbfs:/user/hive/warehouse/airline_part/Origin=DAL/</td><td>Origin=DAL/</td><td>0</td><td>1696577190000</td></tr><tr><td>dbfs:/user/hive/warehouse/airline_part/Origin=DAY/</td><td>Origin=DAY/</td><td>0</td><td>1696577190000</td></tr><tr><td>dbfs:/user/hive/warehouse/airline_part/Origin=DBQ/</td><td>Origin=DBQ/</td><td>0</td><td>1696577190000</td></tr><tr><td>dbfs:/user/hive/warehouse/airline_part/Origin=DCA/</td><td>Origin=DCA/</td><td>0</td><td>1696577190000</td></tr><tr><td>dbfs:/user/hive/warehouse/airline_part/Origin=DEN/</td><td>Origin=DEN/</td><td>0</td><td>1696577190000</td></tr><tr><td>dbfs:/user/hive/warehouse/airline_part/Origin=DFW/</td><td>Origin=DFW/</td><td>0</td><td>1696577191000</td></tr><tr><td>dbfs:/user/hive/warehouse/airline_part/Origin=DHN/</td><td>Origin=DHN/</td><td>0</td><td>1696577191000</td></tr><tr><td>dbfs:/user/hive/warehouse/airline_part/Origin=DLG/</td><td>Origin=DLG/</td><td>0</td><td>1696577192000</td></tr><tr><td>dbfs:/user/hive/warehouse/airline_part/Origin=DLH/</td><td>Origin=DLH/</td><td>0</td><td>1696577192000</td></tr><tr><td>dbfs:/user/hive/warehouse/airline_part/Origin=DRO/</td><td>Origin=DRO/</td><td>0</td><td>1696577192000</td></tr><tr><td>dbfs:/user/hive/warehouse/airline_part/Origin=DSM/</td><td>Origin=DSM/</td><td>0</td><td>1696577192000</td></tr><tr><td>dbfs:/user/hive/warehouse/airline_part/Origin=DTW/</td><td>Origin=DTW/</td><td>0</td><td>1696577192000</td></tr><tr><td>dbfs:/user/hive/warehouse/airline_part/Origin=EAU/</td><td>Origin=EAU/</td><td>0</td><td>1696577192000</td></tr><tr><td>dbfs:/user/hive/warehouse/airline_part/Origin=EGE/</td><td>Origin=EGE/</td><td>0</td><td>1696577192000</td></tr><tr><td>dbfs:/user/hive/warehouse/airline_part/Origin=EKO/</td><td>Origin=EKO/</td><td>0</td><td>1696577193000</td></tr><tr><td>dbfs:/user/hive/warehouse/airline_part/Origin=ELM/</td><td>Origin=ELM/</td><td>0</td><td>1696577193000</td></tr><tr><td>dbfs:/user/hive/warehouse/airline_part/Origin=ELP/</td><td>Origin=ELP/</td><td>0</td><td>1696577193000</td></tr><tr><td>dbfs:/user/hive/warehouse/airline_part/Origin=ERI/</td><td>Origin=ERI/</td><td>0</td><td>1696577193000</td></tr><tr><td>dbfs:/user/hive/warehouse/airline_part/Origin=EUG/</td><td>Origin=EUG/</td><td>0</td><td>1696577193000</td></tr><tr><td>dbfs:/user/hive/warehouse/airline_part/Origin=EVV/</td><td>Origin=EVV/</td><td>0</td><td>1696577193000</td></tr><tr><td>dbfs:/user/hive/warehouse/airline_part/Origin=EWN/</td><td>Origin=EWN/</td><td>0</td><td>1696577193000</td></tr><tr><td>dbfs:/user/hive/warehouse/airline_part/Origin=EWR/</td><td>Origin=EWR/</td><td>0</td><td>1696577193000</td></tr><tr><td>dbfs:/user/hive/warehouse/airline_part/Origin=EYW/</td><td>Origin=EYW/</td><td>0</td><td>1696577194000</td></tr><tr><td>dbfs:/user/hive/warehouse/airline_part/Origin=FAI/</td><td>Origin=FAI/</td><td>0</td><td>1696577194000</td></tr><tr><td>dbfs:/user/hive/warehouse/airline_part/Origin=FAR/</td><td>Origin=FAR/</td><td>0</td><td>1696577194000</td></tr><tr><td>dbfs:/user/hive/warehouse/airline_part/Origin=FAT/</td><td>Origin=FAT/</td><td>0</td><td>1696577194000</td></tr><tr><td>dbfs:/user/hive/warehouse/airline_part/Origin=FAY/</td><td>Origin=FAY/</td><td>0</td><td>1696577194000</td></tr><tr><td>dbfs:/user/hive/warehouse/airline_part/Origin=FCA/</td><td>Origin=FCA/</td><td>0</td><td>1696577194000</td></tr><tr><td>dbfs:/user/hive/warehouse/airline_part/Origin=FLG/</td><td>Origin=FLG/</td><td>0</td><td>1696577194000</td></tr><tr><td>dbfs:/user/hive/warehouse/airline_part/Origin=FLL/</td><td>Origin=FLL/</td><td>0</td><td>1696577194000</td></tr><tr><td>dbfs:/user/hive/warehouse/airline_part/Origin=FLO/</td><td>Origin=FLO/</td><td>0</td><td>1696577195000</td></tr><tr><td>dbfs:/user/hive/warehouse/airline_part/Origin=FNT/</td><td>Origin=FNT/</td><td>0</td><td>1696577195000</td></tr><tr><td>dbfs:/user/hive/warehouse/airline_part/Origin=FSD/</td><td>Origin=FSD/</td><td>0</td><td>1696577195000</td></tr><tr><td>dbfs:/user/hive/warehouse/airline_part/Origin=FSM/</td><td>Origin=FSM/</td><td>0</td><td>1696577195000</td></tr><tr><td>dbfs:/user/hive/warehouse/airline_part/Origin=FWA/</td><td>Origin=FWA/</td><td>0</td><td>1696577195000</td></tr><tr><td>dbfs:/user/hive/warehouse/airline_part/Origin=GEG/</td><td>Origin=GEG/</td><td>0</td><td>1696577195000</td></tr><tr><td>dbfs:/user/hive/warehouse/airline_part/Origin=GFK/</td><td>Origin=GFK/</td><td>0</td><td>1696577195000</td></tr><tr><td>dbfs:/user/hive/warehouse/airline_part/Origin=GGG/</td><td>Origin=GGG/</td><td>0</td><td>1696577196000</td></tr><tr><td>dbfs:/user/hive/warehouse/airline_part/Origin=GJT/</td><td>Origin=GJT/</td><td>0</td><td>1696577196000</td></tr><tr><td>dbfs:/user/hive/warehouse/airline_part/Origin=GLH/</td><td>Origin=GLH/</td><td>0</td><td>1696577196000</td></tr><tr><td>dbfs:/user/hive/warehouse/airline_part/Origin=GNV/</td><td>Origin=GNV/</td><td>0</td><td>1696577196000</td></tr><tr><td>dbfs:/user/hive/warehouse/airline_part/Origin=GPT/</td><td>Origin=GPT/</td><td>0</td><td>1696577196000</td></tr><tr><td>dbfs:/user/hive/warehouse/airline_part/Origin=GRB/</td><td>Origin=GRB/</td><td>0</td><td>1696577196000</td></tr><tr><td>dbfs:/user/hive/warehouse/airline_part/Origin=GRK/</td><td>Origin=GRK/</td><td>0</td><td>1696577196000</td></tr><tr><td>dbfs:/user/hive/warehouse/airline_part/Origin=GRR/</td><td>Origin=GRR/</td><td>0</td><td>1696577196000</td></tr><tr><td>dbfs:/user/hive/warehouse/airline_part/Origin=GSO/</td><td>Origin=GSO/</td><td>0</td><td>1696577197000</td></tr><tr><td>dbfs:/user/hive/warehouse/airline_part/Origin=GSP/</td><td>Origin=GSP/</td><td>0</td><td>1696577197000</td></tr><tr><td>dbfs:/user/hive/warehouse/airline_part/Origin=GST/</td><td>Origin=GST/</td><td>0</td><td>1696577197000</td></tr><tr><td>dbfs:/user/hive/warehouse/airline_part/Origin=GTF/</td><td>Origin=GTF/</td><td>0</td><td>1696577197000</td></tr><tr><td>dbfs:/user/hive/warehouse/airline_part/Origin=GTR/</td><td>Origin=GTR/</td><td>0</td><td>1696577197000</td></tr><tr><td>dbfs:/user/hive/warehouse/airline_part/Origin=GUC/</td><td>Origin=GUC/</td><td>0</td><td>1696577197000</td></tr><tr><td>dbfs:/user/hive/warehouse/airline_part/Origin=HDN/</td><td>Origin=HDN/</td><td>0</td><td>1696577197000</td></tr><tr><td>dbfs:/user/hive/warehouse/airline_part/Origin=HHH/</td><td>Origin=HHH/</td><td>0</td><td>1696577197000</td></tr><tr><td>dbfs:/user/hive/warehouse/airline_part/Origin=HLN/</td><td>Origin=HLN/</td><td>0</td><td>1696577197000</td></tr><tr><td>dbfs:/user/hive/warehouse/airline_part/Origin=HNL/</td><td>Origin=HNL/</td><td>0</td><td>1696577198000</td></tr><tr><td>dbfs:/user/hive/warehouse/airline_part/Origin=HOU/</td><td>Origin=HOU/</td><td>0</td><td>1696577198000</td></tr><tr><td>dbfs:/user/hive/warehouse/airline_part/Origin=HPN/</td><td>Origin=HPN/</td><td>0</td><td>1696577198000</td></tr><tr><td>dbfs:/user/hive/warehouse/airline_part/Origin=HRL/</td><td>Origin=HRL/</td><td>0</td><td>1696577198000</td></tr><tr><td>dbfs:/user/hive/warehouse/airline_part/Origin=HSV/</td><td>Origin=HSV/</td><td>0</td><td>1696577198000</td></tr><tr><td>dbfs:/user/hive/warehouse/airline_part/Origin=HTS/</td><td>Origin=HTS/</td><td>0</td><td>1696577198000</td></tr><tr><td>dbfs:/user/hive/warehouse/airline_part/Origin=IAD/</td><td>Origin=IAD/</td><td>0</td><td>1696577198000</td></tr><tr><td>dbfs:/user/hive/warehouse/airline_part/Origin=IAH/</td><td>Origin=IAH/</td><td>0</td><td>1696577199000</td></tr><tr><td>dbfs:/user/hive/warehouse/airline_part/Origin=ICT/</td><td>Origin=ICT/</td><td>0</td><td>1696577199000</td></tr><tr><td>dbfs:/user/hive/warehouse/airline_part/Origin=IDA/</td><td>Origin=IDA/</td><td>0</td><td>1696577199000</td></tr><tr><td>dbfs:/user/hive/warehouse/airline_part/Origin=ILG/</td><td>Origin=ILG/</td><td>0</td><td>1696577199000</td></tr><tr><td>dbfs:/user/hive/warehouse/airline_part/Origin=ILM/</td><td>Origin=ILM/</td><td>0</td><td>1696577200000</td></tr><tr><td>dbfs:/user/hive/warehouse/airline_part/Origin=IND/</td><td>Origin=IND/</td><td>0</td><td>1696577200000</td></tr><tr><td>dbfs:/user/hive/warehouse/airline_part/Origin=INL/</td><td>Origin=INL/</td><td>0</td><td>1696577200000</td></tr><tr><td>dbfs:/user/hive/warehouse/airline_part/Origin=IPL/</td><td>Origin=IPL/</td><td>0</td><td>1696577200000</td></tr><tr><td>dbfs:/user/hive/warehouse/airline_part/Origin=ISO/</td><td>Origin=ISO/</td><td>0</td><td>1696577200000</td></tr><tr><td>dbfs:/user/hive/warehouse/airline_part/Origin=ISP/</td><td>Origin=ISP/</td><td>0</td><td>1696577200000</td></tr><tr><td>dbfs:/user/hive/warehouse/airline_part/Origin=ITO/</td><td>Origin=ITO/</td><td>0</td><td>1696577200000</td></tr><tr><td>dbfs:/user/hive/warehouse/airline_part/Origin=IYK/</td><td>Origin=IYK/</td><td>0</td><td>1696577200000</td></tr><tr><td>dbfs:/user/hive/warehouse/airline_part/Origin=JAC/</td><td>Origin=JAC/</td><td>0</td><td>1696577200000</td></tr><tr><td>dbfs:/user/hive/warehouse/airline_part/Origin=JAN/</td><td>Origin=JAN/</td><td>0</td><td>1696577200000</td></tr><tr><td>dbfs:/user/hive/warehouse/airline_part/Origin=JAX/</td><td>Origin=JAX/</td><td>0</td><td>1696577200000</td></tr><tr><td>dbfs:/user/hive/warehouse/airline_part/Origin=JFK/</td><td>Origin=JFK/</td><td>0</td><td>1696577201000</td></tr><tr><td>dbfs:/user/hive/warehouse/airline_part/Origin=JNU/</td><td>Origin=JNU/</td><td>0</td><td>1696577201000</td></tr><tr><td>dbfs:/user/hive/warehouse/airline_part/Origin=KOA/</td><td>Origin=KOA/</td><td>0</td><td>1696577201000</td></tr><tr><td>dbfs:/user/hive/warehouse/airline_part/Origin=KTN/</td><td>Origin=KTN/</td><td>0</td><td>1696577201000</td></tr><tr><td>dbfs:/user/hive/warehouse/airline_part/Origin=LAN/</td><td>Origin=LAN/</td><td>0</td><td>1696577201000</td></tr><tr><td>dbfs:/user/hive/warehouse/airline_part/Origin=LAS/</td><td>Origin=LAS/</td><td>0</td><td>1696577201000</td></tr><tr><td>dbfs:/user/hive/warehouse/airline_part/Origin=LAW/</td><td>Origin=LAW/</td><td>0</td><td>1696577202000</td></tr><tr><td>dbfs:/user/hive/warehouse/airline_part/Origin=LAX/</td><td>Origin=LAX/</td><td>0</td><td>1696577202000</td></tr><tr><td>dbfs:/user/hive/warehouse/airline_part/Origin=LBB/</td><td>Origin=LBB/</td><td>0</td><td>1696577202000</td></tr><tr><td>dbfs:/user/hive/warehouse/airline_part/Origin=LCH/</td><td>Origin=LCH/</td><td>0</td><td>1696577203000</td></tr><tr><td>dbfs:/user/hive/warehouse/airline_part/Origin=LEX/</td><td>Origin=LEX/</td><td>0</td><td>1696577203000</td></tr><tr><td>dbfs:/user/hive/warehouse/airline_part/Origin=LFT/</td><td>Origin=LFT/</td><td>0</td><td>1696577203000</td></tr><tr><td>dbfs:/user/hive/warehouse/airline_part/Origin=LGA/</td><td>Origin=LGA/</td><td>0</td><td>1696577203000</td></tr><tr><td>dbfs:/user/hive/warehouse/airline_part/Origin=LGB/</td><td>Origin=LGB/</td><td>0</td><td>1696577203000</td></tr><tr><td>dbfs:/user/hive/warehouse/airline_part/Origin=LIH/</td><td>Origin=LIH/</td><td>0</td><td>1696577203000</td></tr><tr><td>dbfs:/user/hive/warehouse/airline_part/Origin=LIT/</td><td>Origin=LIT/</td><td>0</td><td>1696577203000</td></tr><tr><td>dbfs:/user/hive/warehouse/airline_part/Origin=LNK/</td><td>Origin=LNK/</td><td>0</td><td>1696577204000</td></tr><tr><td>dbfs:/user/hive/warehouse/airline_part/Origin=LRD/</td><td>Origin=LRD/</td><td>0</td><td>1696577204000</td></tr><tr><td>dbfs:/user/hive/warehouse/airline_part/Origin=LSE/</td><td>Origin=LSE/</td><td>0</td><td>1696577204000</td></tr><tr><td>dbfs:/user/hive/warehouse/airline_part/Origin=LWB/</td><td>Origin=LWB/</td><td>0</td><td>1696577204000</td></tr><tr><td>dbfs:/user/hive/warehouse/airline_part/Origin=LWS/</td><td>Origin=LWS/</td><td>0</td><td>1696577204000</td></tr><tr><td>dbfs:/user/hive/warehouse/airline_part/Origin=LYH/</td><td>Origin=LYH/</td><td>0</td><td>1696577204000</td></tr><tr><td>dbfs:/user/hive/warehouse/airline_part/Origin=MAF/</td><td>Origin=MAF/</td><td>0</td><td>1696577204000</td></tr><tr><td>dbfs:/user/hive/warehouse/airline_part/Origin=MBS/</td><td>Origin=MBS/</td><td>0</td><td>1696577204000</td></tr><tr><td>dbfs:/user/hive/warehouse/airline_part/Origin=MCI/</td><td>Origin=MCI/</td><td>0</td><td>1696577204000</td></tr><tr><td>dbfs:/user/hive/warehouse/airline_part/Origin=MCN/</td><td>Origin=MCN/</td><td>0</td><td>1696577205000</td></tr><tr><td>dbfs:/user/hive/warehouse/airline_part/Origin=MCO/</td><td>Origin=MCO/</td><td>0</td><td>1696577205000</td></tr><tr><td>dbfs:/user/hive/warehouse/airline_part/Origin=MDT/</td><td>Origin=MDT/</td><td>0</td><td>1696577205000</td></tr><tr><td>dbfs:/user/hive/warehouse/airline_part/Origin=MDW/</td><td>Origin=MDW/</td><td>0</td><td>1696577205000</td></tr><tr><td>dbfs:/user/hive/warehouse/airline_part/Origin=MEI/</td><td>Origin=MEI/</td><td>0</td><td>1696577206000</td></tr><tr><td>dbfs:/user/hive/warehouse/airline_part/Origin=MEM/</td><td>Origin=MEM/</td><td>0</td><td>1696577206000</td></tr><tr><td>dbfs:/user/hive/warehouse/airline_part/Origin=MFE/</td><td>Origin=MFE/</td><td>0</td><td>1696577206000</td></tr><tr><td>dbfs:/user/hive/warehouse/airline_part/Origin=MFR/</td><td>Origin=MFR/</td><td>0</td><td>1696577206000</td></tr><tr><td>dbfs:/user/hive/warehouse/airline_part/Origin=MGM/</td><td>Origin=MGM/</td><td>0</td><td>1696577206000</td></tr><tr><td>dbfs:/user/hive/warehouse/airline_part/Origin=MHT/</td><td>Origin=MHT/</td><td>0</td><td>1696577206000</td></tr><tr><td>dbfs:/user/hive/warehouse/airline_part/Origin=MIA/</td><td>Origin=MIA/</td><td>0</td><td>1696577206000</td></tr><tr><td>dbfs:/user/hive/warehouse/airline_part/Origin=MKC/</td><td>Origin=MKC/</td><td>0</td><td>1696577207000</td></tr><tr><td>dbfs:/user/hive/warehouse/airline_part/Origin=MKE/</td><td>Origin=MKE/</td><td>0</td><td>1696577207000</td></tr><tr><td>dbfs:/user/hive/warehouse/airline_part/Origin=MLB/</td><td>Origin=MLB/</td><td>0</td><td>1696577207000</td></tr><tr><td>dbfs:/user/hive/warehouse/airline_part/Origin=MLI/</td><td>Origin=MLI/</td><td>0</td><td>1696577207000</td></tr><tr><td>dbfs:/user/hive/warehouse/airline_part/Origin=MLU/</td><td>Origin=MLU/</td><td>0</td><td>1696577207000</td></tr><tr><td>dbfs:/user/hive/warehouse/airline_part/Origin=MOB/</td><td>Origin=MOB/</td><td>0</td><td>1696577207000</td></tr><tr><td>dbfs:/user/hive/warehouse/airline_part/Origin=MOD/</td><td>Origin=MOD/</td><td>0</td><td>1696577208000</td></tr><tr><td>dbfs:/user/hive/warehouse/airline_part/Origin=MOT/</td><td>Origin=MOT/</td><td>0</td><td>1696577208000</td></tr><tr><td>dbfs:/user/hive/warehouse/airline_part/Origin=MQT/</td><td>Origin=MQT/</td><td>0</td><td>1696577208000</td></tr><tr><td>dbfs:/user/hive/warehouse/airline_part/Origin=MRY/</td><td>Origin=MRY/</td><td>0</td><td>1696577208000</td></tr><tr><td>dbfs:/user/hive/warehouse/airline_part/Origin=MSN/</td><td>Origin=MSN/</td><td>0</td><td>1696577208000</td></tr><tr><td>dbfs:/user/hive/warehouse/airline_part/Origin=MSO/</td><td>Origin=MSO/</td><td>0</td><td>1696577208000</td></tr><tr><td>dbfs:/user/hive/warehouse/airline_part/Origin=MSP/</td><td>Origin=MSP/</td><td>0</td><td>1696577208000</td></tr><tr><td>dbfs:/user/hive/warehouse/airline_part/Origin=MSY/</td><td>Origin=MSY/</td><td>0</td><td>1696577209000</td></tr><tr><td>dbfs:/user/hive/warehouse/airline_part/Origin=MTH/</td><td>Origin=MTH/</td><td>0</td><td>1696577209000</td></tr><tr><td>dbfs:/user/hive/warehouse/airline_part/Origin=MTJ/</td><td>Origin=MTJ/</td><td>0</td><td>1696577209000</td></tr><tr><td>dbfs:/user/hive/warehouse/airline_part/Origin=MYR/</td><td>Origin=MYR/</td><td>0</td><td>1696577209000</td></tr><tr><td>dbfs:/user/hive/warehouse/airline_part/Origin=OAJ/</td><td>Origin=OAJ/</td><td>0</td><td>1696577209000</td></tr><tr><td>dbfs:/user/hive/warehouse/airline_part/Origin=OAK/</td><td>Origin=OAK/</td><td>0</td><td>1696577209000</td></tr><tr><td>dbfs:/user/hive/warehouse/airline_part/Origin=OGG/</td><td>Origin=OGG/</td><td>0</td><td>1696577210000</td></tr><tr><td>dbfs:/user/hive/warehouse/airline_part/Origin=OKC/</td><td>Origin=OKC/</td><td>0</td><td>1696577210000</td></tr><tr><td>dbfs:/user/hive/warehouse/airline_part/Origin=OMA/</td><td>Origin=OMA/</td><td>0</td><td>1696577210000</td></tr><tr><td>dbfs:/user/hive/warehouse/airline_part/Origin=OME/</td><td>Origin=OME/</td><td>0</td><td>1696577210000</td></tr><tr><td>dbfs:/user/hive/warehouse/airline_part/Origin=ONT/</td><td>Origin=ONT/</td><td>0</td><td>1696577210000</td></tr><tr><td>dbfs:/user/hive/warehouse/airline_part/Origin=ORD/</td><td>Origin=ORD/</td><td>0</td><td>1696577210000</td></tr><tr><td>dbfs:/user/hive/warehouse/airline_part/Origin=ORF/</td><td>Origin=ORF/</td><td>0</td><td>1696577211000</td></tr><tr><td>dbfs:/user/hive/warehouse/airline_part/Origin=OTZ/</td><td>Origin=OTZ/</td><td>0</td><td>1696577211000</td></tr><tr><td>dbfs:/user/hive/warehouse/airline_part/Origin=OXR/</td><td>Origin=OXR/</td><td>0</td><td>1696577211000</td></tr><tr><td>dbfs:/user/hive/warehouse/airline_part/Origin=PBI/</td><td>Origin=PBI/</td><td>0</td><td>1696577211000</td></tr><tr><td>dbfs:/user/hive/warehouse/airline_part/Origin=PDX/</td><td>Origin=PDX/</td><td>0</td><td>1696577212000</td></tr><tr><td>dbfs:/user/hive/warehouse/airline_part/Origin=PFN/</td><td>Origin=PFN/</td><td>0</td><td>1696577212000</td></tr><tr><td>dbfs:/user/hive/warehouse/airline_part/Origin=PHF/</td><td>Origin=PHF/</td><td>0</td><td>1696577212000</td></tr><tr><td>dbfs:/user/hive/warehouse/airline_part/Origin=PHL/</td><td>Origin=PHL/</td><td>0</td><td>1696577212000</td></tr><tr><td>dbfs:/user/hive/warehouse/airline_part/Origin=PHX/</td><td>Origin=PHX/</td><td>0</td><td>1696577212000</td></tr><tr><td>dbfs:/user/hive/warehouse/airline_part/Origin=PIA/</td><td>Origin=PIA/</td><td>0</td><td>1696577213000</td></tr><tr><td>dbfs:/user/hive/warehouse/airline_part/Origin=PIH/</td><td>Origin=PIH/</td><td>0</td><td>1696577213000</td></tr><tr><td>dbfs:/user/hive/warehouse/airline_part/Origin=PIR/</td><td>Origin=PIR/</td><td>0</td><td>1696577248000</td></tr><tr><td>dbfs:/user/hive/warehouse/airline_part/Origin=PIT/</td><td>Origin=PIT/</td><td>0</td><td>1696577213000</td></tr><tr><td>dbfs:/user/hive/warehouse/airline_part/Origin=PLN/</td><td>Origin=PLN/</td><td>0</td><td>1696577213000</td></tr><tr><td>dbfs:/user/hive/warehouse/airline_part/Origin=PMD/</td><td>Origin=PMD/</td><td>0</td><td>1696577213000</td></tr><tr><td>dbfs:/user/hive/warehouse/airline_part/Origin=PNS/</td><td>Origin=PNS/</td><td>0</td><td>1696577213000</td></tr><tr><td>dbfs:/user/hive/warehouse/airline_part/Origin=PSC/</td><td>Origin=PSC/</td><td>0</td><td>1696577213000</td></tr><tr><td>dbfs:/user/hive/warehouse/airline_part/Origin=PSE/</td><td>Origin=PSE/</td><td>0</td><td>1696577213000</td></tr><tr><td>dbfs:/user/hive/warehouse/airline_part/Origin=PSG/</td><td>Origin=PSG/</td><td>0</td><td>1696577214000</td></tr><tr><td>dbfs:/user/hive/warehouse/airline_part/Origin=PSP/</td><td>Origin=PSP/</td><td>0</td><td>1696577214000</td></tr><tr><td>dbfs:/user/hive/warehouse/airline_part/Origin=PVD/</td><td>Origin=PVD/</td><td>0</td><td>1696577214000</td></tr><tr><td>dbfs:/user/hive/warehouse/airline_part/Origin=PWM/</td><td>Origin=PWM/</td><td>0</td><td>1696577214000</td></tr><tr><td>dbfs:/user/hive/warehouse/airline_part/Origin=RAP/</td><td>Origin=RAP/</td><td>0</td><td>1696577214000</td></tr><tr><td>dbfs:/user/hive/warehouse/airline_part/Origin=RDD/</td><td>Origin=RDD/</td><td>0</td><td>1696577214000</td></tr><tr><td>dbfs:/user/hive/warehouse/airline_part/Origin=RDM/</td><td>Origin=RDM/</td><td>0</td><td>1696577214000</td></tr><tr><td>dbfs:/user/hive/warehouse/airline_part/Origin=RDU/</td><td>Origin=RDU/</td><td>0</td><td>1696577215000</td></tr><tr><td>dbfs:/user/hive/warehouse/airline_part/Origin=RFD/</td><td>Origin=RFD/</td><td>0</td><td>1696577215000</td></tr><tr><td>dbfs:/user/hive/warehouse/airline_part/Origin=RHI/</td><td>Origin=RHI/</td><td>0</td><td>1696577215000</td></tr><tr><td>dbfs:/user/hive/warehouse/airline_part/Origin=RIC/</td><td>Origin=RIC/</td><td>0</td><td>1696577215000</td></tr><tr><td>dbfs:/user/hive/warehouse/airline_part/Origin=RNO/</td><td>Origin=RNO/</td><td>0</td><td>1696577215000</td></tr><tr><td>dbfs:/user/hive/warehouse/airline_part/Origin=ROA/</td><td>Origin=ROA/</td><td>0</td><td>1696577215000</td></tr><tr><td>dbfs:/user/hive/warehouse/airline_part/Origin=ROC/</td><td>Origin=ROC/</td><td>0</td><td>1696577215000</td></tr><tr><td>dbfs:/user/hive/warehouse/airline_part/Origin=ROW/</td><td>Origin=ROW/</td><td>0</td><td>1696577216000</td></tr><tr><td>dbfs:/user/hive/warehouse/airline_part/Origin=RST/</td><td>Origin=RST/</td><td>0</td><td>1696577216000</td></tr><tr><td>dbfs:/user/hive/warehouse/airline_part/Origin=RSW/</td><td>Origin=RSW/</td><td>0</td><td>1696577216000</td></tr><tr><td>dbfs:/user/hive/warehouse/airline_part/Origin=SAN/</td><td>Origin=SAN/</td><td>0</td><td>1696577216000</td></tr><tr><td>dbfs:/user/hive/warehouse/airline_part/Origin=SAT/</td><td>Origin=SAT/</td><td>0</td><td>1696577216000</td></tr><tr><td>dbfs:/user/hive/warehouse/airline_part/Origin=SAV/</td><td>Origin=SAV/</td><td>0</td><td>1696577217000</td></tr><tr><td>dbfs:/user/hive/warehouse/airline_part/Origin=SBA/</td><td>Origin=SBA/</td><td>0</td><td>1696577217000</td></tr><tr><td>dbfs:/user/hive/warehouse/airline_part/Origin=SBN/</td><td>Origin=SBN/</td><td>0</td><td>1696577217000</td></tr><tr><td>dbfs:/user/hive/warehouse/airline_part/Origin=SBP/</td><td>Origin=SBP/</td><td>0</td><td>1696577217000</td></tr><tr><td>dbfs:/user/hive/warehouse/airline_part/Origin=SCC/</td><td>Origin=SCC/</td><td>0</td><td>1696577217000</td></tr><tr><td>dbfs:/user/hive/warehouse/airline_part/Origin=SCE/</td><td>Origin=SCE/</td><td>0</td><td>1696577217000</td></tr><tr><td>dbfs:/user/hive/warehouse/airline_part/Origin=SDF/</td><td>Origin=SDF/</td><td>0</td><td>1696577217000</td></tr><tr><td>dbfs:/user/hive/warehouse/airline_part/Origin=SEA/</td><td>Origin=SEA/</td><td>0</td><td>1696577218000</td></tr><tr><td>dbfs:/user/hive/warehouse/airline_part/Origin=SFO/</td><td>Origin=SFO/</td><td>0</td><td>1696577218000</td></tr><tr><td>dbfs:/user/hive/warehouse/airline_part/Origin=SGF/</td><td>Origin=SGF/</td><td>0</td><td>1696577218000</td></tr><tr><td>dbfs:/user/hive/warehouse/airline_part/Origin=SGU/</td><td>Origin=SGU/</td><td>0</td><td>1696577219000</td></tr><tr><td>dbfs:/user/hive/warehouse/airline_part/Origin=SHV/</td><td>Origin=SHV/</td><td>0</td><td>1696577219000</td></tr><tr><td>dbfs:/user/hive/warehouse/airline_part/Origin=SIT/</td><td>Origin=SIT/</td><td>0</td><td>1696577219000</td></tr><tr><td>dbfs:/user/hive/warehouse/airline_part/Origin=SJC/</td><td>Origin=SJC/</td><td>0</td><td>1696577219000</td></tr><tr><td>dbfs:/user/hive/warehouse/airline_part/Origin=SJT/</td><td>Origin=SJT/</td><td>0</td><td>1696577219000</td></tr><tr><td>dbfs:/user/hive/warehouse/airline_part/Origin=SJU/</td><td>Origin=SJU/</td><td>0</td><td>1696577219000</td></tr><tr><td>dbfs:/user/hive/warehouse/airline_part/Origin=SLC/</td><td>Origin=SLC/</td><td>0</td><td>1696577220000</td></tr><tr><td>dbfs:/user/hive/warehouse/airline_part/Origin=SLE/</td><td>Origin=SLE/</td><td>0</td><td>1696577220000</td></tr><tr><td>dbfs:/user/hive/warehouse/airline_part/Origin=SMF/</td><td>Origin=SMF/</td><td>0</td><td>1696577220000</td></tr><tr><td>dbfs:/user/hive/warehouse/airline_part/Origin=SMX/</td><td>Origin=SMX/</td><td>0</td><td>1696577221000</td></tr><tr><td>dbfs:/user/hive/warehouse/airline_part/Origin=SNA/</td><td>Origin=SNA/</td><td>0</td><td>1696577221000</td></tr><tr><td>dbfs:/user/hive/warehouse/airline_part/Origin=SOP/</td><td>Origin=SOP/</td><td>0</td><td>1696577221000</td></tr><tr><td>dbfs:/user/hive/warehouse/airline_part/Origin=SPI/</td><td>Origin=SPI/</td><td>0</td><td>1696577221000</td></tr><tr><td>dbfs:/user/hive/warehouse/airline_part/Origin=SPS/</td><td>Origin=SPS/</td><td>0</td><td>1696577221000</td></tr><tr><td>dbfs:/user/hive/warehouse/airline_part/Origin=SRQ/</td><td>Origin=SRQ/</td><td>0</td><td>1696577221000</td></tr><tr><td>dbfs:/user/hive/warehouse/airline_part/Origin=STL/</td><td>Origin=STL/</td><td>0</td><td>1696577221000</td></tr><tr><td>dbfs:/user/hive/warehouse/airline_part/Origin=STT/</td><td>Origin=STT/</td><td>0</td><td>1696577221000</td></tr><tr><td>dbfs:/user/hive/warehouse/airline_part/Origin=STX/</td><td>Origin=STX/</td><td>0</td><td>1696577222000</td></tr><tr><td>dbfs:/user/hive/warehouse/airline_part/Origin=SUN/</td><td>Origin=SUN/</td><td>0</td><td>1696577222000</td></tr><tr><td>dbfs:/user/hive/warehouse/airline_part/Origin=SUX/</td><td>Origin=SUX/</td><td>0</td><td>1696577222000</td></tr><tr><td>dbfs:/user/hive/warehouse/airline_part/Origin=SWF/</td><td>Origin=SWF/</td><td>0</td><td>1696577222000</td></tr><tr><td>dbfs:/user/hive/warehouse/airline_part/Origin=SYR/</td><td>Origin=SYR/</td><td>0</td><td>1696577222000</td></tr><tr><td>dbfs:/user/hive/warehouse/airline_part/Origin=TEX/</td><td>Origin=TEX/</td><td>0</td><td>1696577222000</td></tr><tr><td>dbfs:/user/hive/warehouse/airline_part/Origin=TLH/</td><td>Origin=TLH/</td><td>0</td><td>1696577222000</td></tr><tr><td>dbfs:/user/hive/warehouse/airline_part/Origin=TOL/</td><td>Origin=TOL/</td><td>0</td><td>1696577222000</td></tr><tr><td>dbfs:/user/hive/warehouse/airline_part/Origin=TPA/</td><td>Origin=TPA/</td><td>0</td><td>1696577222000</td></tr><tr><td>dbfs:/user/hive/warehouse/airline_part/Origin=TRI/</td><td>Origin=TRI/</td><td>0</td><td>1696577223000</td></tr><tr><td>dbfs:/user/hive/warehouse/airline_part/Origin=TTN/</td><td>Origin=TTN/</td><td>0</td><td>1696577223000</td></tr><tr><td>dbfs:/user/hive/warehouse/airline_part/Origin=TUL/</td><td>Origin=TUL/</td><td>0</td><td>1696577223000</td></tr><tr><td>dbfs:/user/hive/warehouse/airline_part/Origin=TUP/</td><td>Origin=TUP/</td><td>0</td><td>1696577223000</td></tr><tr><td>dbfs:/user/hive/warehouse/airline_part/Origin=TUS/</td><td>Origin=TUS/</td><td>0</td><td>1696577223000</td></tr><tr><td>dbfs:/user/hive/warehouse/airline_part/Origin=TVC/</td><td>Origin=TVC/</td><td>0</td><td>1696577223000</td></tr><tr><td>dbfs:/user/hive/warehouse/airline_part/Origin=TWF/</td><td>Origin=TWF/</td><td>0</td><td>1696577223000</td></tr><tr><td>dbfs:/user/hive/warehouse/airline_part/Origin=TXK/</td><td>Origin=TXK/</td><td>0</td><td>1696577223000</td></tr><tr><td>dbfs:/user/hive/warehouse/airline_part/Origin=TYR/</td><td>Origin=TYR/</td><td>0</td><td>1696577223000</td></tr><tr><td>dbfs:/user/hive/warehouse/airline_part/Origin=TYS/</td><td>Origin=TYS/</td><td>0</td><td>1696577223000</td></tr><tr><td>dbfs:/user/hive/warehouse/airline_part/Origin=VLD/</td><td>Origin=VLD/</td><td>0</td><td>1696577224000</td></tr><tr><td>dbfs:/user/hive/warehouse/airline_part/Origin=VPS/</td><td>Origin=VPS/</td><td>0</td><td>1696577224000</td></tr><tr><td>dbfs:/user/hive/warehouse/airline_part/Origin=WRG/</td><td>Origin=WRG/</td><td>0</td><td>1696577224000</td></tr><tr><td>dbfs:/user/hive/warehouse/airline_part/Origin=WYS/</td><td>Origin=WYS/</td><td>0</td><td>1696577224000</td></tr><tr><td>dbfs:/user/hive/warehouse/airline_part/Origin=XNA/</td><td>Origin=XNA/</td><td>0</td><td>1696577224000</td></tr><tr><td>dbfs:/user/hive/warehouse/airline_part/Origin=YAK/</td><td>Origin=YAK/</td><td>0</td><td>1696577224000</td></tr><tr><td>dbfs:/user/hive/warehouse/airline_part/Origin=YKM/</td><td>Origin=YKM/</td><td>0</td><td>1696577224000</td></tr><tr><td>dbfs:/user/hive/warehouse/airline_part/Origin=YUM/</td><td>Origin=YUM/</td><td>0</td><td>1696577224000</td></tr><tr><td>dbfs:/user/hive/warehouse/airline_part/_delta_log/</td><td>_delta_log/</td><td>0</td><td>1696577158000</td></tr></tbody></table></div>"
      ]
     },
     "metadata": {
      "application/vnd.databricks.v1+output": {
       "addedWidgets": {},
       "aggData": [],
       "aggError": "",
       "aggOverflow": false,
       "aggSchema": [],
       "aggSeriesLimitReached": false,
       "aggType": "",
       "arguments": {},
       "columnCustomDisplayInfos": {},
       "data": [
        [
         "dbfs:/user/hive/warehouse/airline_part/Origin=ABE/",
         "Origin=ABE/",
         0,
         1696577174000
        ],
        [
         "dbfs:/user/hive/warehouse/airline_part/Origin=ABI/",
         "Origin=ABI/",
         0,
         1696577177000
        ],
        [
         "dbfs:/user/hive/warehouse/airline_part/Origin=ABQ/",
         "Origin=ABQ/",
         0,
         1696577177000
        ],
        [
         "dbfs:/user/hive/warehouse/airline_part/Origin=ABY/",
         "Origin=ABY/",
         0,
         1696577178000
        ],
        [
         "dbfs:/user/hive/warehouse/airline_part/Origin=ACK/",
         "Origin=ACK/",
         0,
         1696577178000
        ],
        [
         "dbfs:/user/hive/warehouse/airline_part/Origin=ACT/",
         "Origin=ACT/",
         0,
         1696577178000
        ],
        [
         "dbfs:/user/hive/warehouse/airline_part/Origin=ACV/",
         "Origin=ACV/",
         0,
         1696577178000
        ],
        [
         "dbfs:/user/hive/warehouse/airline_part/Origin=ACY/",
         "Origin=ACY/",
         0,
         1696577179000
        ],
        [
         "dbfs:/user/hive/warehouse/airline_part/Origin=ADK/",
         "Origin=ADK/",
         0,
         1696577179000
        ],
        [
         "dbfs:/user/hive/warehouse/airline_part/Origin=ADQ/",
         "Origin=ADQ/",
         0,
         1696577179000
        ],
        [
         "dbfs:/user/hive/warehouse/airline_part/Origin=AEX/",
         "Origin=AEX/",
         0,
         1696577179000
        ],
        [
         "dbfs:/user/hive/warehouse/airline_part/Origin=AGS/",
         "Origin=AGS/",
         0,
         1696577179000
        ],
        [
         "dbfs:/user/hive/warehouse/airline_part/Origin=AKN/",
         "Origin=AKN/",
         0,
         1696577180000
        ],
        [
         "dbfs:/user/hive/warehouse/airline_part/Origin=ALB/",
         "Origin=ALB/",
         0,
         1696577180000
        ],
        [
         "dbfs:/user/hive/warehouse/airline_part/Origin=ALO/",
         "Origin=ALO/",
         0,
         1696577180000
        ],
        [
         "dbfs:/user/hive/warehouse/airline_part/Origin=AMA/",
         "Origin=AMA/",
         0,
         1696577180000
        ],
        [
         "dbfs:/user/hive/warehouse/airline_part/Origin=ANC/",
         "Origin=ANC/",
         0,
         1696577180000
        ],
        [
         "dbfs:/user/hive/warehouse/airline_part/Origin=APF/",
         "Origin=APF/",
         0,
         1696577180000
        ],
        [
         "dbfs:/user/hive/warehouse/airline_part/Origin=ASE/",
         "Origin=ASE/",
         0,
         1696577180000
        ],
        [
         "dbfs:/user/hive/warehouse/airline_part/Origin=ATL/",
         "Origin=ATL/",
         0,
         1696577180000
        ],
        [
         "dbfs:/user/hive/warehouse/airline_part/Origin=ATW/",
         "Origin=ATW/",
         0,
         1696577181000
        ],
        [
         "dbfs:/user/hive/warehouse/airline_part/Origin=AUS/",
         "Origin=AUS/",
         0,
         1696577181000
        ],
        [
         "dbfs:/user/hive/warehouse/airline_part/Origin=AVL/",
         "Origin=AVL/",
         0,
         1696577181000
        ],
        [
         "dbfs:/user/hive/warehouse/airline_part/Origin=AVP/",
         "Origin=AVP/",
         0,
         1696577182000
        ],
        [
         "dbfs:/user/hive/warehouse/airline_part/Origin=AZO/",
         "Origin=AZO/",
         0,
         1696577182000
        ],
        [
         "dbfs:/user/hive/warehouse/airline_part/Origin=BDL/",
         "Origin=BDL/",
         0,
         1696577182000
        ],
        [
         "dbfs:/user/hive/warehouse/airline_part/Origin=BET/",
         "Origin=BET/",
         0,
         1696577182000
        ],
        [
         "dbfs:/user/hive/warehouse/airline_part/Origin=BFL/",
         "Origin=BFL/",
         0,
         1696577182000
        ],
        [
         "dbfs:/user/hive/warehouse/airline_part/Origin=BGM/",
         "Origin=BGM/",
         0,
         1696577182000
        ],
        [
         "dbfs:/user/hive/warehouse/airline_part/Origin=BGR/",
         "Origin=BGR/",
         0,
         1696577182000
        ],
        [
         "dbfs:/user/hive/warehouse/airline_part/Origin=BHM/",
         "Origin=BHM/",
         0,
         1696577182000
        ],
        [
         "dbfs:/user/hive/warehouse/airline_part/Origin=BIL/",
         "Origin=BIL/",
         0,
         1696577183000
        ],
        [
         "dbfs:/user/hive/warehouse/airline_part/Origin=BIS/",
         "Origin=BIS/",
         0,
         1696577183000
        ],
        [
         "dbfs:/user/hive/warehouse/airline_part/Origin=BJI/",
         "Origin=BJI/",
         0,
         1696577183000
        ],
        [
         "dbfs:/user/hive/warehouse/airline_part/Origin=BLI/",
         "Origin=BLI/",
         0,
         1696577183000
        ],
        [
         "dbfs:/user/hive/warehouse/airline_part/Origin=BMI/",
         "Origin=BMI/",
         0,
         1696577183000
        ],
        [
         "dbfs:/user/hive/warehouse/airline_part/Origin=BNA/",
         "Origin=BNA/",
         0,
         1696577183000
        ],
        [
         "dbfs:/user/hive/warehouse/airline_part/Origin=BOI/",
         "Origin=BOI/",
         0,
         1696577183000
        ],
        [
         "dbfs:/user/hive/warehouse/airline_part/Origin=BOS/",
         "Origin=BOS/",
         0,
         1696577183000
        ],
        [
         "dbfs:/user/hive/warehouse/airline_part/Origin=BPT/",
         "Origin=BPT/",
         0,
         1696577184000
        ],
        [
         "dbfs:/user/hive/warehouse/airline_part/Origin=BQK/",
         "Origin=BQK/",
         0,
         1696577184000
        ],
        [
         "dbfs:/user/hive/warehouse/airline_part/Origin=BQN/",
         "Origin=BQN/",
         0,
         1696577184000
        ],
        [
         "dbfs:/user/hive/warehouse/airline_part/Origin=BRO/",
         "Origin=BRO/",
         0,
         1696577184000
        ],
        [
         "dbfs:/user/hive/warehouse/airline_part/Origin=BRW/",
         "Origin=BRW/",
         0,
         1696577184000
        ],
        [
         "dbfs:/user/hive/warehouse/airline_part/Origin=BTM/",
         "Origin=BTM/",
         0,
         1696577184000
        ],
        [
         "dbfs:/user/hive/warehouse/airline_part/Origin=BTR/",
         "Origin=BTR/",
         0,
         1696577184000
        ],
        [
         "dbfs:/user/hive/warehouse/airline_part/Origin=BTV/",
         "Origin=BTV/",
         0,
         1696577185000
        ],
        [
         "dbfs:/user/hive/warehouse/airline_part/Origin=BUF/",
         "Origin=BUF/",
         0,
         1696577185000
        ],
        [
         "dbfs:/user/hive/warehouse/airline_part/Origin=BUR/",
         "Origin=BUR/",
         0,
         1696577185000
        ],
        [
         "dbfs:/user/hive/warehouse/airline_part/Origin=BWI/",
         "Origin=BWI/",
         0,
         1696577185000
        ],
        [
         "dbfs:/user/hive/warehouse/airline_part/Origin=BZN/",
         "Origin=BZN/",
         0,
         1696577185000
        ],
        [
         "dbfs:/user/hive/warehouse/airline_part/Origin=CAE/",
         "Origin=CAE/",
         0,
         1696577186000
        ],
        [
         "dbfs:/user/hive/warehouse/airline_part/Origin=CAK/",
         "Origin=CAK/",
         0,
         1696577186000
        ],
        [
         "dbfs:/user/hive/warehouse/airline_part/Origin=CDV/",
         "Origin=CDV/",
         0,
         1696577186000
        ],
        [
         "dbfs:/user/hive/warehouse/airline_part/Origin=CEC/",
         "Origin=CEC/",
         0,
         1696577186000
        ],
        [
         "dbfs:/user/hive/warehouse/airline_part/Origin=CHA/",
         "Origin=CHA/",
         0,
         1696577186000
        ],
        [
         "dbfs:/user/hive/warehouse/airline_part/Origin=CHO/",
         "Origin=CHO/",
         0,
         1696577186000
        ],
        [
         "dbfs:/user/hive/warehouse/airline_part/Origin=CHS/",
         "Origin=CHS/",
         0,
         1696577186000
        ],
        [
         "dbfs:/user/hive/warehouse/airline_part/Origin=CIC/",
         "Origin=CIC/",
         0,
         1696577187000
        ],
        [
         "dbfs:/user/hive/warehouse/airline_part/Origin=CID/",
         "Origin=CID/",
         0,
         1696577187000
        ],
        [
         "dbfs:/user/hive/warehouse/airline_part/Origin=CLD/",
         "Origin=CLD/",
         0,
         1696577187000
        ],
        [
         "dbfs:/user/hive/warehouse/airline_part/Origin=CLE/",
         "Origin=CLE/",
         0,
         1696577187000
        ],
        [
         "dbfs:/user/hive/warehouse/airline_part/Origin=CLL/",
         "Origin=CLL/",
         0,
         1696577187000
        ],
        [
         "dbfs:/user/hive/warehouse/airline_part/Origin=CLT/",
         "Origin=CLT/",
         0,
         1696577187000
        ],
        [
         "dbfs:/user/hive/warehouse/airline_part/Origin=CMH/",
         "Origin=CMH/",
         0,
         1696577188000
        ],
        [
         "dbfs:/user/hive/warehouse/airline_part/Origin=CMI/",
         "Origin=CMI/",
         0,
         1696577188000
        ],
        [
         "dbfs:/user/hive/warehouse/airline_part/Origin=CMX/",
         "Origin=CMX/",
         0,
         1696577188000
        ],
        [
         "dbfs:/user/hive/warehouse/airline_part/Origin=COD/",
         "Origin=COD/",
         0,
         1696577188000
        ],
        [
         "dbfs:/user/hive/warehouse/airline_part/Origin=COS/",
         "Origin=COS/",
         0,
         1696577188000
        ],
        [
         "dbfs:/user/hive/warehouse/airline_part/Origin=CPR/",
         "Origin=CPR/",
         0,
         1696577189000
        ],
        [
         "dbfs:/user/hive/warehouse/airline_part/Origin=CRP/",
         "Origin=CRP/",
         0,
         1696577189000
        ],
        [
         "dbfs:/user/hive/warehouse/airline_part/Origin=CRW/",
         "Origin=CRW/",
         0,
         1696577189000
        ],
        [
         "dbfs:/user/hive/warehouse/airline_part/Origin=CSG/",
         "Origin=CSG/",
         0,
         1696577189000
        ],
        [
         "dbfs:/user/hive/warehouse/airline_part/Origin=CVG/",
         "Origin=CVG/",
         0,
         1696577189000
        ],
        [
         "dbfs:/user/hive/warehouse/airline_part/Origin=CWA/",
         "Origin=CWA/",
         0,
         1696577189000
        ],
        [
         "dbfs:/user/hive/warehouse/airline_part/Origin=DAB/",
         "Origin=DAB/",
         0,
         1696577189000
        ],
        [
         "dbfs:/user/hive/warehouse/airline_part/Origin=DAL/",
         "Origin=DAL/",
         0,
         1696577190000
        ],
        [
         "dbfs:/user/hive/warehouse/airline_part/Origin=DAY/",
         "Origin=DAY/",
         0,
         1696577190000
        ],
        [
         "dbfs:/user/hive/warehouse/airline_part/Origin=DBQ/",
         "Origin=DBQ/",
         0,
         1696577190000
        ],
        [
         "dbfs:/user/hive/warehouse/airline_part/Origin=DCA/",
         "Origin=DCA/",
         0,
         1696577190000
        ],
        [
         "dbfs:/user/hive/warehouse/airline_part/Origin=DEN/",
         "Origin=DEN/",
         0,
         1696577190000
        ],
        [
         "dbfs:/user/hive/warehouse/airline_part/Origin=DFW/",
         "Origin=DFW/",
         0,
         1696577191000
        ],
        [
         "dbfs:/user/hive/warehouse/airline_part/Origin=DHN/",
         "Origin=DHN/",
         0,
         1696577191000
        ],
        [
         "dbfs:/user/hive/warehouse/airline_part/Origin=DLG/",
         "Origin=DLG/",
         0,
         1696577192000
        ],
        [
         "dbfs:/user/hive/warehouse/airline_part/Origin=DLH/",
         "Origin=DLH/",
         0,
         1696577192000
        ],
        [
         "dbfs:/user/hive/warehouse/airline_part/Origin=DRO/",
         "Origin=DRO/",
         0,
         1696577192000
        ],
        [
         "dbfs:/user/hive/warehouse/airline_part/Origin=DSM/",
         "Origin=DSM/",
         0,
         1696577192000
        ],
        [
         "dbfs:/user/hive/warehouse/airline_part/Origin=DTW/",
         "Origin=DTW/",
         0,
         1696577192000
        ],
        [
         "dbfs:/user/hive/warehouse/airline_part/Origin=EAU/",
         "Origin=EAU/",
         0,
         1696577192000
        ],
        [
         "dbfs:/user/hive/warehouse/airline_part/Origin=EGE/",
         "Origin=EGE/",
         0,
         1696577192000
        ],
        [
         "dbfs:/user/hive/warehouse/airline_part/Origin=EKO/",
         "Origin=EKO/",
         0,
         1696577193000
        ],
        [
         "dbfs:/user/hive/warehouse/airline_part/Origin=ELM/",
         "Origin=ELM/",
         0,
         1696577193000
        ],
        [
         "dbfs:/user/hive/warehouse/airline_part/Origin=ELP/",
         "Origin=ELP/",
         0,
         1696577193000
        ],
        [
         "dbfs:/user/hive/warehouse/airline_part/Origin=ERI/",
         "Origin=ERI/",
         0,
         1696577193000
        ],
        [
         "dbfs:/user/hive/warehouse/airline_part/Origin=EUG/",
         "Origin=EUG/",
         0,
         1696577193000
        ],
        [
         "dbfs:/user/hive/warehouse/airline_part/Origin=EVV/",
         "Origin=EVV/",
         0,
         1696577193000
        ],
        [
         "dbfs:/user/hive/warehouse/airline_part/Origin=EWN/",
         "Origin=EWN/",
         0,
         1696577193000
        ],
        [
         "dbfs:/user/hive/warehouse/airline_part/Origin=EWR/",
         "Origin=EWR/",
         0,
         1696577193000
        ],
        [
         "dbfs:/user/hive/warehouse/airline_part/Origin=EYW/",
         "Origin=EYW/",
         0,
         1696577194000
        ],
        [
         "dbfs:/user/hive/warehouse/airline_part/Origin=FAI/",
         "Origin=FAI/",
         0,
         1696577194000
        ],
        [
         "dbfs:/user/hive/warehouse/airline_part/Origin=FAR/",
         "Origin=FAR/",
         0,
         1696577194000
        ],
        [
         "dbfs:/user/hive/warehouse/airline_part/Origin=FAT/",
         "Origin=FAT/",
         0,
         1696577194000
        ],
        [
         "dbfs:/user/hive/warehouse/airline_part/Origin=FAY/",
         "Origin=FAY/",
         0,
         1696577194000
        ],
        [
         "dbfs:/user/hive/warehouse/airline_part/Origin=FCA/",
         "Origin=FCA/",
         0,
         1696577194000
        ],
        [
         "dbfs:/user/hive/warehouse/airline_part/Origin=FLG/",
         "Origin=FLG/",
         0,
         1696577194000
        ],
        [
         "dbfs:/user/hive/warehouse/airline_part/Origin=FLL/",
         "Origin=FLL/",
         0,
         1696577194000
        ],
        [
         "dbfs:/user/hive/warehouse/airline_part/Origin=FLO/",
         "Origin=FLO/",
         0,
         1696577195000
        ],
        [
         "dbfs:/user/hive/warehouse/airline_part/Origin=FNT/",
         "Origin=FNT/",
         0,
         1696577195000
        ],
        [
         "dbfs:/user/hive/warehouse/airline_part/Origin=FSD/",
         "Origin=FSD/",
         0,
         1696577195000
        ],
        [
         "dbfs:/user/hive/warehouse/airline_part/Origin=FSM/",
         "Origin=FSM/",
         0,
         1696577195000
        ],
        [
         "dbfs:/user/hive/warehouse/airline_part/Origin=FWA/",
         "Origin=FWA/",
         0,
         1696577195000
        ],
        [
         "dbfs:/user/hive/warehouse/airline_part/Origin=GEG/",
         "Origin=GEG/",
         0,
         1696577195000
        ],
        [
         "dbfs:/user/hive/warehouse/airline_part/Origin=GFK/",
         "Origin=GFK/",
         0,
         1696577195000
        ],
        [
         "dbfs:/user/hive/warehouse/airline_part/Origin=GGG/",
         "Origin=GGG/",
         0,
         1696577196000
        ],
        [
         "dbfs:/user/hive/warehouse/airline_part/Origin=GJT/",
         "Origin=GJT/",
         0,
         1696577196000
        ],
        [
         "dbfs:/user/hive/warehouse/airline_part/Origin=GLH/",
         "Origin=GLH/",
         0,
         1696577196000
        ],
        [
         "dbfs:/user/hive/warehouse/airline_part/Origin=GNV/",
         "Origin=GNV/",
         0,
         1696577196000
        ],
        [
         "dbfs:/user/hive/warehouse/airline_part/Origin=GPT/",
         "Origin=GPT/",
         0,
         1696577196000
        ],
        [
         "dbfs:/user/hive/warehouse/airline_part/Origin=GRB/",
         "Origin=GRB/",
         0,
         1696577196000
        ],
        [
         "dbfs:/user/hive/warehouse/airline_part/Origin=GRK/",
         "Origin=GRK/",
         0,
         1696577196000
        ],
        [
         "dbfs:/user/hive/warehouse/airline_part/Origin=GRR/",
         "Origin=GRR/",
         0,
         1696577196000
        ],
        [
         "dbfs:/user/hive/warehouse/airline_part/Origin=GSO/",
         "Origin=GSO/",
         0,
         1696577197000
        ],
        [
         "dbfs:/user/hive/warehouse/airline_part/Origin=GSP/",
         "Origin=GSP/",
         0,
         1696577197000
        ],
        [
         "dbfs:/user/hive/warehouse/airline_part/Origin=GST/",
         "Origin=GST/",
         0,
         1696577197000
        ],
        [
         "dbfs:/user/hive/warehouse/airline_part/Origin=GTF/",
         "Origin=GTF/",
         0,
         1696577197000
        ],
        [
         "dbfs:/user/hive/warehouse/airline_part/Origin=GTR/",
         "Origin=GTR/",
         0,
         1696577197000
        ],
        [
         "dbfs:/user/hive/warehouse/airline_part/Origin=GUC/",
         "Origin=GUC/",
         0,
         1696577197000
        ],
        [
         "dbfs:/user/hive/warehouse/airline_part/Origin=HDN/",
         "Origin=HDN/",
         0,
         1696577197000
        ],
        [
         "dbfs:/user/hive/warehouse/airline_part/Origin=HHH/",
         "Origin=HHH/",
         0,
         1696577197000
        ],
        [
         "dbfs:/user/hive/warehouse/airline_part/Origin=HLN/",
         "Origin=HLN/",
         0,
         1696577197000
        ],
        [
         "dbfs:/user/hive/warehouse/airline_part/Origin=HNL/",
         "Origin=HNL/",
         0,
         1696577198000
        ],
        [
         "dbfs:/user/hive/warehouse/airline_part/Origin=HOU/",
         "Origin=HOU/",
         0,
         1696577198000
        ],
        [
         "dbfs:/user/hive/warehouse/airline_part/Origin=HPN/",
         "Origin=HPN/",
         0,
         1696577198000
        ],
        [
         "dbfs:/user/hive/warehouse/airline_part/Origin=HRL/",
         "Origin=HRL/",
         0,
         1696577198000
        ],
        [
         "dbfs:/user/hive/warehouse/airline_part/Origin=HSV/",
         "Origin=HSV/",
         0,
         1696577198000
        ],
        [
         "dbfs:/user/hive/warehouse/airline_part/Origin=HTS/",
         "Origin=HTS/",
         0,
         1696577198000
        ],
        [
         "dbfs:/user/hive/warehouse/airline_part/Origin=IAD/",
         "Origin=IAD/",
         0,
         1696577198000
        ],
        [
         "dbfs:/user/hive/warehouse/airline_part/Origin=IAH/",
         "Origin=IAH/",
         0,
         1696577199000
        ],
        [
         "dbfs:/user/hive/warehouse/airline_part/Origin=ICT/",
         "Origin=ICT/",
         0,
         1696577199000
        ],
        [
         "dbfs:/user/hive/warehouse/airline_part/Origin=IDA/",
         "Origin=IDA/",
         0,
         1696577199000
        ],
        [
         "dbfs:/user/hive/warehouse/airline_part/Origin=ILG/",
         "Origin=ILG/",
         0,
         1696577199000
        ],
        [
         "dbfs:/user/hive/warehouse/airline_part/Origin=ILM/",
         "Origin=ILM/",
         0,
         1696577200000
        ],
        [
         "dbfs:/user/hive/warehouse/airline_part/Origin=IND/",
         "Origin=IND/",
         0,
         1696577200000
        ],
        [
         "dbfs:/user/hive/warehouse/airline_part/Origin=INL/",
         "Origin=INL/",
         0,
         1696577200000
        ],
        [
         "dbfs:/user/hive/warehouse/airline_part/Origin=IPL/",
         "Origin=IPL/",
         0,
         1696577200000
        ],
        [
         "dbfs:/user/hive/warehouse/airline_part/Origin=ISO/",
         "Origin=ISO/",
         0,
         1696577200000
        ],
        [
         "dbfs:/user/hive/warehouse/airline_part/Origin=ISP/",
         "Origin=ISP/",
         0,
         1696577200000
        ],
        [
         "dbfs:/user/hive/warehouse/airline_part/Origin=ITO/",
         "Origin=ITO/",
         0,
         1696577200000
        ],
        [
         "dbfs:/user/hive/warehouse/airline_part/Origin=IYK/",
         "Origin=IYK/",
         0,
         1696577200000
        ],
        [
         "dbfs:/user/hive/warehouse/airline_part/Origin=JAC/",
         "Origin=JAC/",
         0,
         1696577200000
        ],
        [
         "dbfs:/user/hive/warehouse/airline_part/Origin=JAN/",
         "Origin=JAN/",
         0,
         1696577200000
        ],
        [
         "dbfs:/user/hive/warehouse/airline_part/Origin=JAX/",
         "Origin=JAX/",
         0,
         1696577200000
        ],
        [
         "dbfs:/user/hive/warehouse/airline_part/Origin=JFK/",
         "Origin=JFK/",
         0,
         1696577201000
        ],
        [
         "dbfs:/user/hive/warehouse/airline_part/Origin=JNU/",
         "Origin=JNU/",
         0,
         1696577201000
        ],
        [
         "dbfs:/user/hive/warehouse/airline_part/Origin=KOA/",
         "Origin=KOA/",
         0,
         1696577201000
        ],
        [
         "dbfs:/user/hive/warehouse/airline_part/Origin=KTN/",
         "Origin=KTN/",
         0,
         1696577201000
        ],
        [
         "dbfs:/user/hive/warehouse/airline_part/Origin=LAN/",
         "Origin=LAN/",
         0,
         1696577201000
        ],
        [
         "dbfs:/user/hive/warehouse/airline_part/Origin=LAS/",
         "Origin=LAS/",
         0,
         1696577201000
        ],
        [
         "dbfs:/user/hive/warehouse/airline_part/Origin=LAW/",
         "Origin=LAW/",
         0,
         1696577202000
        ],
        [
         "dbfs:/user/hive/warehouse/airline_part/Origin=LAX/",
         "Origin=LAX/",
         0,
         1696577202000
        ],
        [
         "dbfs:/user/hive/warehouse/airline_part/Origin=LBB/",
         "Origin=LBB/",
         0,
         1696577202000
        ],
        [
         "dbfs:/user/hive/warehouse/airline_part/Origin=LCH/",
         "Origin=LCH/",
         0,
         1696577203000
        ],
        [
         "dbfs:/user/hive/warehouse/airline_part/Origin=LEX/",
         "Origin=LEX/",
         0,
         1696577203000
        ],
        [
         "dbfs:/user/hive/warehouse/airline_part/Origin=LFT/",
         "Origin=LFT/",
         0,
         1696577203000
        ],
        [
         "dbfs:/user/hive/warehouse/airline_part/Origin=LGA/",
         "Origin=LGA/",
         0,
         1696577203000
        ],
        [
         "dbfs:/user/hive/warehouse/airline_part/Origin=LGB/",
         "Origin=LGB/",
         0,
         1696577203000
        ],
        [
         "dbfs:/user/hive/warehouse/airline_part/Origin=LIH/",
         "Origin=LIH/",
         0,
         1696577203000
        ],
        [
         "dbfs:/user/hive/warehouse/airline_part/Origin=LIT/",
         "Origin=LIT/",
         0,
         1696577203000
        ],
        [
         "dbfs:/user/hive/warehouse/airline_part/Origin=LNK/",
         "Origin=LNK/",
         0,
         1696577204000
        ],
        [
         "dbfs:/user/hive/warehouse/airline_part/Origin=LRD/",
         "Origin=LRD/",
         0,
         1696577204000
        ],
        [
         "dbfs:/user/hive/warehouse/airline_part/Origin=LSE/",
         "Origin=LSE/",
         0,
         1696577204000
        ],
        [
         "dbfs:/user/hive/warehouse/airline_part/Origin=LWB/",
         "Origin=LWB/",
         0,
         1696577204000
        ],
        [
         "dbfs:/user/hive/warehouse/airline_part/Origin=LWS/",
         "Origin=LWS/",
         0,
         1696577204000
        ],
        [
         "dbfs:/user/hive/warehouse/airline_part/Origin=LYH/",
         "Origin=LYH/",
         0,
         1696577204000
        ],
        [
         "dbfs:/user/hive/warehouse/airline_part/Origin=MAF/",
         "Origin=MAF/",
         0,
         1696577204000
        ],
        [
         "dbfs:/user/hive/warehouse/airline_part/Origin=MBS/",
         "Origin=MBS/",
         0,
         1696577204000
        ],
        [
         "dbfs:/user/hive/warehouse/airline_part/Origin=MCI/",
         "Origin=MCI/",
         0,
         1696577204000
        ],
        [
         "dbfs:/user/hive/warehouse/airline_part/Origin=MCN/",
         "Origin=MCN/",
         0,
         1696577205000
        ],
        [
         "dbfs:/user/hive/warehouse/airline_part/Origin=MCO/",
         "Origin=MCO/",
         0,
         1696577205000
        ],
        [
         "dbfs:/user/hive/warehouse/airline_part/Origin=MDT/",
         "Origin=MDT/",
         0,
         1696577205000
        ],
        [
         "dbfs:/user/hive/warehouse/airline_part/Origin=MDW/",
         "Origin=MDW/",
         0,
         1696577205000
        ],
        [
         "dbfs:/user/hive/warehouse/airline_part/Origin=MEI/",
         "Origin=MEI/",
         0,
         1696577206000
        ],
        [
         "dbfs:/user/hive/warehouse/airline_part/Origin=MEM/",
         "Origin=MEM/",
         0,
         1696577206000
        ],
        [
         "dbfs:/user/hive/warehouse/airline_part/Origin=MFE/",
         "Origin=MFE/",
         0,
         1696577206000
        ],
        [
         "dbfs:/user/hive/warehouse/airline_part/Origin=MFR/",
         "Origin=MFR/",
         0,
         1696577206000
        ],
        [
         "dbfs:/user/hive/warehouse/airline_part/Origin=MGM/",
         "Origin=MGM/",
         0,
         1696577206000
        ],
        [
         "dbfs:/user/hive/warehouse/airline_part/Origin=MHT/",
         "Origin=MHT/",
         0,
         1696577206000
        ],
        [
         "dbfs:/user/hive/warehouse/airline_part/Origin=MIA/",
         "Origin=MIA/",
         0,
         1696577206000
        ],
        [
         "dbfs:/user/hive/warehouse/airline_part/Origin=MKC/",
         "Origin=MKC/",
         0,
         1696577207000
        ],
        [
         "dbfs:/user/hive/warehouse/airline_part/Origin=MKE/",
         "Origin=MKE/",
         0,
         1696577207000
        ],
        [
         "dbfs:/user/hive/warehouse/airline_part/Origin=MLB/",
         "Origin=MLB/",
         0,
         1696577207000
        ],
        [
         "dbfs:/user/hive/warehouse/airline_part/Origin=MLI/",
         "Origin=MLI/",
         0,
         1696577207000
        ],
        [
         "dbfs:/user/hive/warehouse/airline_part/Origin=MLU/",
         "Origin=MLU/",
         0,
         1696577207000
        ],
        [
         "dbfs:/user/hive/warehouse/airline_part/Origin=MOB/",
         "Origin=MOB/",
         0,
         1696577207000
        ],
        [
         "dbfs:/user/hive/warehouse/airline_part/Origin=MOD/",
         "Origin=MOD/",
         0,
         1696577208000
        ],
        [
         "dbfs:/user/hive/warehouse/airline_part/Origin=MOT/",
         "Origin=MOT/",
         0,
         1696577208000
        ],
        [
         "dbfs:/user/hive/warehouse/airline_part/Origin=MQT/",
         "Origin=MQT/",
         0,
         1696577208000
        ],
        [
         "dbfs:/user/hive/warehouse/airline_part/Origin=MRY/",
         "Origin=MRY/",
         0,
         1696577208000
        ],
        [
         "dbfs:/user/hive/warehouse/airline_part/Origin=MSN/",
         "Origin=MSN/",
         0,
         1696577208000
        ],
        [
         "dbfs:/user/hive/warehouse/airline_part/Origin=MSO/",
         "Origin=MSO/",
         0,
         1696577208000
        ],
        [
         "dbfs:/user/hive/warehouse/airline_part/Origin=MSP/",
         "Origin=MSP/",
         0,
         1696577208000
        ],
        [
         "dbfs:/user/hive/warehouse/airline_part/Origin=MSY/",
         "Origin=MSY/",
         0,
         1696577209000
        ],
        [
         "dbfs:/user/hive/warehouse/airline_part/Origin=MTH/",
         "Origin=MTH/",
         0,
         1696577209000
        ],
        [
         "dbfs:/user/hive/warehouse/airline_part/Origin=MTJ/",
         "Origin=MTJ/",
         0,
         1696577209000
        ],
        [
         "dbfs:/user/hive/warehouse/airline_part/Origin=MYR/",
         "Origin=MYR/",
         0,
         1696577209000
        ],
        [
         "dbfs:/user/hive/warehouse/airline_part/Origin=OAJ/",
         "Origin=OAJ/",
         0,
         1696577209000
        ],
        [
         "dbfs:/user/hive/warehouse/airline_part/Origin=OAK/",
         "Origin=OAK/",
         0,
         1696577209000
        ],
        [
         "dbfs:/user/hive/warehouse/airline_part/Origin=OGG/",
         "Origin=OGG/",
         0,
         1696577210000
        ],
        [
         "dbfs:/user/hive/warehouse/airline_part/Origin=OKC/",
         "Origin=OKC/",
         0,
         1696577210000
        ],
        [
         "dbfs:/user/hive/warehouse/airline_part/Origin=OMA/",
         "Origin=OMA/",
         0,
         1696577210000
        ],
        [
         "dbfs:/user/hive/warehouse/airline_part/Origin=OME/",
         "Origin=OME/",
         0,
         1696577210000
        ],
        [
         "dbfs:/user/hive/warehouse/airline_part/Origin=ONT/",
         "Origin=ONT/",
         0,
         1696577210000
        ],
        [
         "dbfs:/user/hive/warehouse/airline_part/Origin=ORD/",
         "Origin=ORD/",
         0,
         1696577210000
        ],
        [
         "dbfs:/user/hive/warehouse/airline_part/Origin=ORF/",
         "Origin=ORF/",
         0,
         1696577211000
        ],
        [
         "dbfs:/user/hive/warehouse/airline_part/Origin=OTZ/",
         "Origin=OTZ/",
         0,
         1696577211000
        ],
        [
         "dbfs:/user/hive/warehouse/airline_part/Origin=OXR/",
         "Origin=OXR/",
         0,
         1696577211000
        ],
        [
         "dbfs:/user/hive/warehouse/airline_part/Origin=PBI/",
         "Origin=PBI/",
         0,
         1696577211000
        ],
        [
         "dbfs:/user/hive/warehouse/airline_part/Origin=PDX/",
         "Origin=PDX/",
         0,
         1696577212000
        ],
        [
         "dbfs:/user/hive/warehouse/airline_part/Origin=PFN/",
         "Origin=PFN/",
         0,
         1696577212000
        ],
        [
         "dbfs:/user/hive/warehouse/airline_part/Origin=PHF/",
         "Origin=PHF/",
         0,
         1696577212000
        ],
        [
         "dbfs:/user/hive/warehouse/airline_part/Origin=PHL/",
         "Origin=PHL/",
         0,
         1696577212000
        ],
        [
         "dbfs:/user/hive/warehouse/airline_part/Origin=PHX/",
         "Origin=PHX/",
         0,
         1696577212000
        ],
        [
         "dbfs:/user/hive/warehouse/airline_part/Origin=PIA/",
         "Origin=PIA/",
         0,
         1696577213000
        ],
        [
         "dbfs:/user/hive/warehouse/airline_part/Origin=PIH/",
         "Origin=PIH/",
         0,
         1696577213000
        ],
        [
         "dbfs:/user/hive/warehouse/airline_part/Origin=PIR/",
         "Origin=PIR/",
         0,
         1696577248000
        ],
        [
         "dbfs:/user/hive/warehouse/airline_part/Origin=PIT/",
         "Origin=PIT/",
         0,
         1696577213000
        ],
        [
         "dbfs:/user/hive/warehouse/airline_part/Origin=PLN/",
         "Origin=PLN/",
         0,
         1696577213000
        ],
        [
         "dbfs:/user/hive/warehouse/airline_part/Origin=PMD/",
         "Origin=PMD/",
         0,
         1696577213000
        ],
        [
         "dbfs:/user/hive/warehouse/airline_part/Origin=PNS/",
         "Origin=PNS/",
         0,
         1696577213000
        ],
        [
         "dbfs:/user/hive/warehouse/airline_part/Origin=PSC/",
         "Origin=PSC/",
         0,
         1696577213000
        ],
        [
         "dbfs:/user/hive/warehouse/airline_part/Origin=PSE/",
         "Origin=PSE/",
         0,
         1696577213000
        ],
        [
         "dbfs:/user/hive/warehouse/airline_part/Origin=PSG/",
         "Origin=PSG/",
         0,
         1696577214000
        ],
        [
         "dbfs:/user/hive/warehouse/airline_part/Origin=PSP/",
         "Origin=PSP/",
         0,
         1696577214000
        ],
        [
         "dbfs:/user/hive/warehouse/airline_part/Origin=PVD/",
         "Origin=PVD/",
         0,
         1696577214000
        ],
        [
         "dbfs:/user/hive/warehouse/airline_part/Origin=PWM/",
         "Origin=PWM/",
         0,
         1696577214000
        ],
        [
         "dbfs:/user/hive/warehouse/airline_part/Origin=RAP/",
         "Origin=RAP/",
         0,
         1696577214000
        ],
        [
         "dbfs:/user/hive/warehouse/airline_part/Origin=RDD/",
         "Origin=RDD/",
         0,
         1696577214000
        ],
        [
         "dbfs:/user/hive/warehouse/airline_part/Origin=RDM/",
         "Origin=RDM/",
         0,
         1696577214000
        ],
        [
         "dbfs:/user/hive/warehouse/airline_part/Origin=RDU/",
         "Origin=RDU/",
         0,
         1696577215000
        ],
        [
         "dbfs:/user/hive/warehouse/airline_part/Origin=RFD/",
         "Origin=RFD/",
         0,
         1696577215000
        ],
        [
         "dbfs:/user/hive/warehouse/airline_part/Origin=RHI/",
         "Origin=RHI/",
         0,
         1696577215000
        ],
        [
         "dbfs:/user/hive/warehouse/airline_part/Origin=RIC/",
         "Origin=RIC/",
         0,
         1696577215000
        ],
        [
         "dbfs:/user/hive/warehouse/airline_part/Origin=RNO/",
         "Origin=RNO/",
         0,
         1696577215000
        ],
        [
         "dbfs:/user/hive/warehouse/airline_part/Origin=ROA/",
         "Origin=ROA/",
         0,
         1696577215000
        ],
        [
         "dbfs:/user/hive/warehouse/airline_part/Origin=ROC/",
         "Origin=ROC/",
         0,
         1696577215000
        ],
        [
         "dbfs:/user/hive/warehouse/airline_part/Origin=ROW/",
         "Origin=ROW/",
         0,
         1696577216000
        ],
        [
         "dbfs:/user/hive/warehouse/airline_part/Origin=RST/",
         "Origin=RST/",
         0,
         1696577216000
        ],
        [
         "dbfs:/user/hive/warehouse/airline_part/Origin=RSW/",
         "Origin=RSW/",
         0,
         1696577216000
        ],
        [
         "dbfs:/user/hive/warehouse/airline_part/Origin=SAN/",
         "Origin=SAN/",
         0,
         1696577216000
        ],
        [
         "dbfs:/user/hive/warehouse/airline_part/Origin=SAT/",
         "Origin=SAT/",
         0,
         1696577216000
        ],
        [
         "dbfs:/user/hive/warehouse/airline_part/Origin=SAV/",
         "Origin=SAV/",
         0,
         1696577217000
        ],
        [
         "dbfs:/user/hive/warehouse/airline_part/Origin=SBA/",
         "Origin=SBA/",
         0,
         1696577217000
        ],
        [
         "dbfs:/user/hive/warehouse/airline_part/Origin=SBN/",
         "Origin=SBN/",
         0,
         1696577217000
        ],
        [
         "dbfs:/user/hive/warehouse/airline_part/Origin=SBP/",
         "Origin=SBP/",
         0,
         1696577217000
        ],
        [
         "dbfs:/user/hive/warehouse/airline_part/Origin=SCC/",
         "Origin=SCC/",
         0,
         1696577217000
        ],
        [
         "dbfs:/user/hive/warehouse/airline_part/Origin=SCE/",
         "Origin=SCE/",
         0,
         1696577217000
        ],
        [
         "dbfs:/user/hive/warehouse/airline_part/Origin=SDF/",
         "Origin=SDF/",
         0,
         1696577217000
        ],
        [
         "dbfs:/user/hive/warehouse/airline_part/Origin=SEA/",
         "Origin=SEA/",
         0,
         1696577218000
        ],
        [
         "dbfs:/user/hive/warehouse/airline_part/Origin=SFO/",
         "Origin=SFO/",
         0,
         1696577218000
        ],
        [
         "dbfs:/user/hive/warehouse/airline_part/Origin=SGF/",
         "Origin=SGF/",
         0,
         1696577218000
        ],
        [
         "dbfs:/user/hive/warehouse/airline_part/Origin=SGU/",
         "Origin=SGU/",
         0,
         1696577219000
        ],
        [
         "dbfs:/user/hive/warehouse/airline_part/Origin=SHV/",
         "Origin=SHV/",
         0,
         1696577219000
        ],
        [
         "dbfs:/user/hive/warehouse/airline_part/Origin=SIT/",
         "Origin=SIT/",
         0,
         1696577219000
        ],
        [
         "dbfs:/user/hive/warehouse/airline_part/Origin=SJC/",
         "Origin=SJC/",
         0,
         1696577219000
        ],
        [
         "dbfs:/user/hive/warehouse/airline_part/Origin=SJT/",
         "Origin=SJT/",
         0,
         1696577219000
        ],
        [
         "dbfs:/user/hive/warehouse/airline_part/Origin=SJU/",
         "Origin=SJU/",
         0,
         1696577219000
        ],
        [
         "dbfs:/user/hive/warehouse/airline_part/Origin=SLC/",
         "Origin=SLC/",
         0,
         1696577220000
        ],
        [
         "dbfs:/user/hive/warehouse/airline_part/Origin=SLE/",
         "Origin=SLE/",
         0,
         1696577220000
        ],
        [
         "dbfs:/user/hive/warehouse/airline_part/Origin=SMF/",
         "Origin=SMF/",
         0,
         1696577220000
        ],
        [
         "dbfs:/user/hive/warehouse/airline_part/Origin=SMX/",
         "Origin=SMX/",
         0,
         1696577221000
        ],
        [
         "dbfs:/user/hive/warehouse/airline_part/Origin=SNA/",
         "Origin=SNA/",
         0,
         1696577221000
        ],
        [
         "dbfs:/user/hive/warehouse/airline_part/Origin=SOP/",
         "Origin=SOP/",
         0,
         1696577221000
        ],
        [
         "dbfs:/user/hive/warehouse/airline_part/Origin=SPI/",
         "Origin=SPI/",
         0,
         1696577221000
        ],
        [
         "dbfs:/user/hive/warehouse/airline_part/Origin=SPS/",
         "Origin=SPS/",
         0,
         1696577221000
        ],
        [
         "dbfs:/user/hive/warehouse/airline_part/Origin=SRQ/",
         "Origin=SRQ/",
         0,
         1696577221000
        ],
        [
         "dbfs:/user/hive/warehouse/airline_part/Origin=STL/",
         "Origin=STL/",
         0,
         1696577221000
        ],
        [
         "dbfs:/user/hive/warehouse/airline_part/Origin=STT/",
         "Origin=STT/",
         0,
         1696577221000
        ],
        [
         "dbfs:/user/hive/warehouse/airline_part/Origin=STX/",
         "Origin=STX/",
         0,
         1696577222000
        ],
        [
         "dbfs:/user/hive/warehouse/airline_part/Origin=SUN/",
         "Origin=SUN/",
         0,
         1696577222000
        ],
        [
         "dbfs:/user/hive/warehouse/airline_part/Origin=SUX/",
         "Origin=SUX/",
         0,
         1696577222000
        ],
        [
         "dbfs:/user/hive/warehouse/airline_part/Origin=SWF/",
         "Origin=SWF/",
         0,
         1696577222000
        ],
        [
         "dbfs:/user/hive/warehouse/airline_part/Origin=SYR/",
         "Origin=SYR/",
         0,
         1696577222000
        ],
        [
         "dbfs:/user/hive/warehouse/airline_part/Origin=TEX/",
         "Origin=TEX/",
         0,
         1696577222000
        ],
        [
         "dbfs:/user/hive/warehouse/airline_part/Origin=TLH/",
         "Origin=TLH/",
         0,
         1696577222000
        ],
        [
         "dbfs:/user/hive/warehouse/airline_part/Origin=TOL/",
         "Origin=TOL/",
         0,
         1696577222000
        ],
        [
         "dbfs:/user/hive/warehouse/airline_part/Origin=TPA/",
         "Origin=TPA/",
         0,
         1696577222000
        ],
        [
         "dbfs:/user/hive/warehouse/airline_part/Origin=TRI/",
         "Origin=TRI/",
         0,
         1696577223000
        ],
        [
         "dbfs:/user/hive/warehouse/airline_part/Origin=TTN/",
         "Origin=TTN/",
         0,
         1696577223000
        ],
        [
         "dbfs:/user/hive/warehouse/airline_part/Origin=TUL/",
         "Origin=TUL/",
         0,
         1696577223000
        ],
        [
         "dbfs:/user/hive/warehouse/airline_part/Origin=TUP/",
         "Origin=TUP/",
         0,
         1696577223000
        ],
        [
         "dbfs:/user/hive/warehouse/airline_part/Origin=TUS/",
         "Origin=TUS/",
         0,
         1696577223000
        ],
        [
         "dbfs:/user/hive/warehouse/airline_part/Origin=TVC/",
         "Origin=TVC/",
         0,
         1696577223000
        ],
        [
         "dbfs:/user/hive/warehouse/airline_part/Origin=TWF/",
         "Origin=TWF/",
         0,
         1696577223000
        ],
        [
         "dbfs:/user/hive/warehouse/airline_part/Origin=TXK/",
         "Origin=TXK/",
         0,
         1696577223000
        ],
        [
         "dbfs:/user/hive/warehouse/airline_part/Origin=TYR/",
         "Origin=TYR/",
         0,
         1696577223000
        ],
        [
         "dbfs:/user/hive/warehouse/airline_part/Origin=TYS/",
         "Origin=TYS/",
         0,
         1696577223000
        ],
        [
         "dbfs:/user/hive/warehouse/airline_part/Origin=VLD/",
         "Origin=VLD/",
         0,
         1696577224000
        ],
        [
         "dbfs:/user/hive/warehouse/airline_part/Origin=VPS/",
         "Origin=VPS/",
         0,
         1696577224000
        ],
        [
         "dbfs:/user/hive/warehouse/airline_part/Origin=WRG/",
         "Origin=WRG/",
         0,
         1696577224000
        ],
        [
         "dbfs:/user/hive/warehouse/airline_part/Origin=WYS/",
         "Origin=WYS/",
         0,
         1696577224000
        ],
        [
         "dbfs:/user/hive/warehouse/airline_part/Origin=XNA/",
         "Origin=XNA/",
         0,
         1696577224000
        ],
        [
         "dbfs:/user/hive/warehouse/airline_part/Origin=YAK/",
         "Origin=YAK/",
         0,
         1696577224000
        ],
        [
         "dbfs:/user/hive/warehouse/airline_part/Origin=YKM/",
         "Origin=YKM/",
         0,
         1696577224000
        ],
        [
         "dbfs:/user/hive/warehouse/airline_part/Origin=YUM/",
         "Origin=YUM/",
         0,
         1696577224000
        ],
        [
         "dbfs:/user/hive/warehouse/airline_part/_delta_log/",
         "_delta_log/",
         0,
         1696577158000
        ]
       ],
       "datasetInfos": [],
       "dbfsResultPath": null,
       "isJsonSchema": true,
       "metadata": {},
       "overflow": false,
       "plotOptions": {
        "customPlotOptions": {},
        "displayType": "table",
        "pivotAggregation": null,
        "pivotColumns": null,
        "xColumns": null,
        "yColumns": null
       },
       "removedWidgets": [],
       "schema": [
        {
         "metadata": "{}",
         "name": "path",
         "type": "\"string\""
        },
        {
         "metadata": "{}",
         "name": "name",
         "type": "\"string\""
        },
        {
         "metadata": "{}",
         "name": "size",
         "type": "\"long\""
        },
        {
         "metadata": "{}",
         "name": "modificationTime",
         "type": "\"long\""
        }
       ],
       "type": "table"
      }
     },
     "output_type": "display_data"
    }
   ],
   "source": [
    "%fs ls /user/hive/warehouse/airline_part/"
   ]
  },
  {
   "cell_type": "code",
   "execution_count": 0,
   "metadata": {
    "application/vnd.databricks.v1+cell": {
     "cellMetadata": {
      "byteLimit": 2048000,
      "rowLimit": 10000
     },
     "inputWidgets": {},
     "nuid": "37b9604b-bc75-4ab6-8832-9587dc389610",
     "showTitle": false,
     "title": ""
    }
   },
   "outputs": [
    {
     "output_type": "display_data",
     "data": {
      "text/html": [
       "<style scoped>\n",
       "  .table-result-container {\n",
       "    max-height: 300px;\n",
       "    overflow: auto;\n",
       "  }\n",
       "  table, th, td {\n",
       "    border: 1px solid black;\n",
       "    border-collapse: collapse;\n",
       "  }\n",
       "  th, td {\n",
       "    padding: 5px;\n",
       "  }\n",
       "  th {\n",
       "    text-align: left;\n",
       "  }\n",
       "</style><div class='table-result-container'><table class='table-result'><thead style='background-color: white'><tr><th>Month</th><th>Origin</th><th>TotalNoOfFlights</th></tr></thead><tbody><tr><td>10</td><td>ATL</td><td>6246</td></tr><tr><td>7</td><td>ATL</td><td>6140</td></tr><tr><td>4</td><td>ATL</td><td>5646</td></tr><tr><td>4</td><td>ORD</td><td>5361</td></tr><tr><td>10</td><td>ORD</td><td>5327</td></tr><tr><td>7</td><td>ORD</td><td>5320</td></tr><tr><td>12</td><td>ATL</td><td>5298</td></tr><tr><td>1</td><td>ATL</td><td>5296</td></tr><tr><td>1</td><td>ORD</td><td>5220</td></tr><tr><td>8</td><td>ATL</td><td>4996</td></tr></tbody></table></div>"
      ]
     },
     "metadata": {
      "application/vnd.databricks.v1+output": {
       "addedWidgets": {},
       "aggData": [],
       "aggError": "",
       "aggOverflow": false,
       "aggSchema": [],
       "aggSeriesLimitReached": false,
       "aggType": "",
       "arguments": {},
       "columnCustomDisplayInfos": {},
       "data": [
        [
         10,
         "ATL",
         6246
        ],
        [
         7,
         "ATL",
         6140
        ],
        [
         4,
         "ATL",
         5646
        ],
        [
         4,
         "ORD",
         5361
        ],
        [
         10,
         "ORD",
         5327
        ],
        [
         7,
         "ORD",
         5320
        ],
        [
         12,
         "ATL",
         5298
        ],
        [
         1,
         "ATL",
         5296
        ],
        [
         1,
         "ORD",
         5220
        ],
        [
         8,
         "ATL",
         4996
        ]
       ],
       "datasetInfos": [],
       "dbfsResultPath": null,
       "isJsonSchema": true,
       "metadata": {},
       "overflow": false,
       "plotOptions": {
        "customPlotOptions": {},
        "displayType": "table",
        "pivotAggregation": null,
        "pivotColumns": null,
        "xColumns": null,
        "yColumns": null
       },
       "removedWidgets": [],
       "schema": [
        {
         "metadata": "{}",
         "name": "Month",
         "type": "\"integer\""
        },
        {
         "metadata": "{}",
         "name": "Origin",
         "type": "\"string\""
        },
        {
         "metadata": "{}",
         "name": "TotalNoOfFlights",
         "type": "\"long\""
        }
       ],
       "type": "table"
      }
     },
     "output_type": "display_data"
    }
   ],
   "source": [
    "from pyspark.sql.functions import count\n",
    "df1 = spark.table(\"airline_cluster\")\n",
    "display(df1.filter(\"dayofweek=1\").groupBy(\"Month\",\"Origin\").agg(count(\"*\").alias(\"TotalNoOfFlights\")).orderBy(\"TotalNoOfFlights\",ascending=False).limit(10))"
   ]
  },
  {
   "cell_type": "code",
   "execution_count": 0,
   "metadata": {
    "application/vnd.databricks.v1+cell": {
     "cellMetadata": {},
     "inputWidgets": {},
     "nuid": "5c2b2a17-da57-4420-b630-b396d82f2a96",
     "showTitle": false,
     "title": ""
    }
   },
   "outputs": [],
   "source": [
    "%sql\n",
    "optimize airline_cluster"
   ]
  },
  {
   "cell_type": "code",
   "execution_count": 0,
   "metadata": {
    "application/vnd.databricks.v1+cell": {
     "cellMetadata": {
      "byteLimit": 2048000,
      "implicitDf": true,
      "rowLimit": 10000
     },
     "inputWidgets": {},
     "nuid": "553275c7-1fce-4c61-a5e1-177efbbb24b3",
     "showTitle": false,
     "title": ""
    }
   },
   "outputs": [
    {
     "output_type": "display_data",
     "data": {
      "text/html": [
       "<style scoped>\n",
       "  .table-result-container {\n",
       "    max-height: 300px;\n",
       "    overflow: auto;\n",
       "  }\n",
       "  table, th, td {\n",
       "    border: 1px solid black;\n",
       "    border-collapse: collapse;\n",
       "  }\n",
       "  th, td {\n",
       "    padding: 5px;\n",
       "  }\n",
       "  th {\n",
       "    text-align: left;\n",
       "  }\n",
       "</style><div class='table-result-container'><table class='table-result'><thead style='background-color: white'><tr><th>path</th><th>metrics</th></tr></thead><tbody><tr><td>dbfs:/user/hive/warehouse/airline_part</td><td>List(301, 1708, List(7716, 6627729, 385217.5780730897, 301, 115950491), List(7065, 1412413, 80757.97833723653, 1708, 137934627), 304, List(minCubeSize(107374182400), List(0, 0), List(1711, 137957438), 0, List(1708, 137934627), 301, null), 1, 1711, 3, false, 0, 0, 1696577934707, 1696578153963, 4, 301, null, List(0, 0), 29, 29, 273638, 0, null)</td></tr></tbody></table></div>"
      ]
     },
     "metadata": {
      "application/vnd.databricks.v1+output": {
       "addedWidgets": {},
       "aggData": [],
       "aggError": "",
       "aggOverflow": false,
       "aggSchema": [],
       "aggSeriesLimitReached": false,
       "aggType": "",
       "arguments": {},
       "columnCustomDisplayInfos": {},
       "data": [
        [
         "dbfs:/user/hive/warehouse/airline_part",
         [
          301,
          1708,
          [
           7716,
           6627729,
           385217.5780730897,
           301,
           115950491
          ],
          [
           7065,
           1412413,
           80757.97833723653,
           1708,
           137934627
          ],
          304,
          [
           "minCubeSize(107374182400)",
           [
            0,
            0
           ],
           [
            1711,
            137957438
           ],
           0,
           [
            1708,
            137934627
           ],
           301,
           null
          ],
          1,
          1711,
          3,
          false,
          0,
          0,
          1696577934707,
          1696578153963,
          4,
          301,
          null,
          [
           0,
           0
          ],
          29,
          29,
          273638,
          0,
          null
         ]
        ]
       ],
       "datasetInfos": [],
       "dbfsResultPath": null,
       "isJsonSchema": true,
       "metadata": {
        "dataframeName": "_sqldf",
        "executionCount": 11
       },
       "overflow": false,
       "plotOptions": {
        "customPlotOptions": {},
        "displayType": "table",
        "pivotAggregation": null,
        "pivotColumns": null,
        "xColumns": null,
        "yColumns": null
       },
       "removedWidgets": [],
       "schema": [
        {
         "metadata": "{}",
         "name": "path",
         "type": "\"string\""
        },
        {
         "metadata": "{}",
         "name": "metrics",
         "type": "{\"type\":\"struct\",\"fields\":[{\"name\":\"numFilesAdded\",\"type\":\"long\",\"nullable\":false,\"metadata\":{}},{\"name\":\"numFilesRemoved\",\"type\":\"long\",\"nullable\":false,\"metadata\":{}},{\"name\":\"filesAdded\",\"type\":{\"type\":\"struct\",\"fields\":[{\"name\":\"min\",\"type\":\"long\",\"nullable\":true,\"metadata\":{}},{\"name\":\"max\",\"type\":\"long\",\"nullable\":true,\"metadata\":{}},{\"name\":\"avg\",\"type\":\"double\",\"nullable\":false,\"metadata\":{}},{\"name\":\"totalFiles\",\"type\":\"long\",\"nullable\":false,\"metadata\":{}},{\"name\":\"totalSize\",\"type\":\"long\",\"nullable\":false,\"metadata\":{}}]},\"nullable\":true,\"metadata\":{}},{\"name\":\"filesRemoved\",\"type\":{\"type\":\"struct\",\"fields\":[{\"name\":\"min\",\"type\":\"long\",\"nullable\":true,\"metadata\":{}},{\"name\":\"max\",\"type\":\"long\",\"nullable\":true,\"metadata\":{}},{\"name\":\"avg\",\"type\":\"double\",\"nullable\":false,\"metadata\":{}},{\"name\":\"totalFiles\",\"type\":\"long\",\"nullable\":false,\"metadata\":{}},{\"name\":\"totalSize\",\"type\":\"long\",\"nullable\":false,\"metadata\":{}}]},\"nullable\":true,\"metadata\":{}},{\"name\":\"partitionsOptimized\",\"type\":\"long\",\"nullable\":false,\"metadata\":{}},{\"name\":\"zOrderStats\",\"type\":{\"type\":\"struct\",\"fields\":[{\"name\":\"strategyName\",\"type\":\"string\",\"nullable\":true,\"metadata\":{}},{\"name\":\"inputCubeFiles\",\"type\":{\"type\":\"struct\",\"fields\":[{\"name\":\"num\",\"type\":\"long\",\"nullable\":false,\"metadata\":{}},{\"name\":\"size\",\"type\":\"long\",\"nullable\":false,\"metadata\":{}}]},\"nullable\":true,\"metadata\":{}},{\"name\":\"inputOtherFiles\",\"type\":{\"type\":\"struct\",\"fields\":[{\"name\":\"num\",\"type\":\"long\",\"nullable\":false,\"metadata\":{}},{\"name\":\"size\",\"type\":\"long\",\"nullable\":false,\"metadata\":{}}]},\"nullable\":true,\"metadata\":{}},{\"name\":\"inputNumCubes\",\"type\":\"long\",\"nullable\":false,\"metadata\":{}},{\"name\":\"mergedFiles\",\"type\":{\"type\":\"struct\",\"fields\":[{\"name\":\"num\",\"type\":\"long\",\"nullable\":false,\"metadata\":{}},{\"name\":\"size\",\"type\":\"long\",\"nullable\":false,\"metadata\":{}}]},\"nullable\":true,\"metadata\":{}},{\"name\":\"numOutputCubes\",\"type\":\"long\",\"nullable\":false,\"metadata\":{}},{\"name\":\"mergedNumCubes\",\"type\":\"long\",\"nullable\":true,\"metadata\":{}}]},\"nullable\":true,\"metadata\":{}},{\"name\":\"numBatches\",\"type\":\"long\",\"nullable\":false,\"metadata\":{}},{\"name\":\"totalConsideredFiles\",\"type\":\"long\",\"nullable\":false,\"metadata\":{}},{\"name\":\"totalFilesSkipped\",\"type\":\"long\",\"nullable\":false,\"metadata\":{}},{\"name\":\"preserveInsertionOrder\",\"type\":\"boolean\",\"nullable\":false,\"metadata\":{}},{\"name\":\"numFilesSkippedToReduceWriteAmplification\",\"type\":\"long\",\"nullable\":false,\"metadata\":{}},{\"name\":\"numBytesSkippedToReduceWriteAmplification\",\"type\":\"long\",\"nullable\":false,\"metadata\":{}},{\"name\":\"startTimeMs\",\"type\":\"long\",\"nullable\":false,\"metadata\":{}},{\"name\":\"endTimeMs\",\"type\":\"long\",\"nullable\":false,\"metadata\":{}},{\"name\":\"totalClusterParallelism\",\"type\":\"long\",\"nullable\":false,\"metadata\":{}},{\"name\":\"totalScheduledTasks\",\"type\":\"long\",\"nullable\":false,\"metadata\":{}},{\"name\":\"autoCompactParallelismStats\",\"type\":{\"type\":\"struct\",\"fields\":[{\"name\":\"maxClusterActiveParallelism\",\"type\":\"long\",\"nullable\":true,\"metadata\":{}},{\"name\":\"minClusterActiveParallelism\",\"type\":\"long\",\"nullable\":true,\"metadata\":{}},{\"name\":\"maxSessionActiveParallelism\",\"type\":\"long\",\"nullable\":true,\"metadata\":{}},{\"name\":\"minSessionActiveParallelism\",\"type\":\"long\",\"nullable\":true,\"metadata\":{}}]},\"nullable\":true,\"metadata\":{}},{\"name\":\"deletionVectorStats\",\"type\":{\"type\":\"struct\",\"fields\":[{\"name\":\"numDeletionVectorsRemoved\",\"type\":\"long\",\"nullable\":false,\"metadata\":{}},{\"name\":\"numDeletionVectorRowsRemoved\",\"type\":\"long\",\"nullable\":false,\"metadata\":{}}]},\"nullable\":true,\"metadata\":{}},{\"name\":\"numTableColumns\",\"type\":\"long\",\"nullable\":false,\"metadata\":{}},{\"name\":\"numTableColumnsWithStats\",\"type\":\"long\",\"nullable\":false,\"metadata\":{}},{\"name\":\"totalTaskExecutionTimeMs\",\"type\":\"long\",\"nullable\":false,\"metadata\":{}},{\"name\":\"skippedArchivedFiles\",\"type\":\"long\",\"nullable\":false,\"metadata\":{}},{\"name\":\"clusteringMetrics\",\"type\":{\"type\":\"struct\",\"fields\":[{\"name\":\"sizeOfTableInBytesBeforeLazyClustering\",\"type\":\"long\",\"nullable\":false,\"metadata\":{}},{\"name\":\"isNewMetadataCreated\",\"type\":\"boolean\",\"nullable\":false,\"metadata\":{}},{\"name\":\"numFilesClassifiedToIntermediateNodes\",\"type\":\"long\",\"nullable\":false,\"metadata\":{}},{\"name\":\"sizeOfFilesClassifiedToIntermediateNodesInBytes\",\"type\":\"long\",\"nullable\":false,\"metadata\":{}},{\"name\":\"logicalSizeOfFilesClassifiedToIntermediateNodesInBytes\",\"type\":\"long\",\"nullable\":false,\"metadata\":{}},{\"name\":\"numFilesClassifiedToLeafNodes\",\"type\":\"long\",\"nullable\":false,\"metadata\":{}},{\"name\":\"sizeOfFilesClassifiedToLeafNodesInBytes\",\"type\":\"long\",\"nullable\":false,\"metadata\":{}},{\"name\":\"logicalSizeOfFilesClassifiedToLeafNodesInBytes\",\"type\":\"long\",\"nullable\":false,\"metadata\":{}},{\"name\":\"clusterThresholdStrategy\",\"type\":\"string\",\"nullable\":true,\"metadata\":{}},{\"name\":\"numClusteringTasksPlanned\",\"type\":\"integer\",\"nullable\":false,\"metadata\":{}},{\"name\":\"numCompactionTasksPlanned\",\"type\":\"integer\",\"nullable\":false,\"metadata\":{}},{\"name\":\"numOptimizeBatchesPlanned\",\"type\":\"integer\",\"nullable\":false,\"metadata\":{}},{\"name\":\"numLeafNodesExpanded\",\"type\":\"long\",\"nullable\":false,\"metadata\":{}},{\"name\":\"numLeafNodesClustered\",\"type\":\"long\",\"nullable\":false,\"metadata\":{}},{\"name\":\"numLeafNodesCompacted\",\"type\":\"long\",\"nullable\":false,\"metadata\":{}},{\"name\":\"numIntermediateNodesCompacted\",\"type\":\"long\",\"nullable\":false,\"metadata\":{}},{\"name\":\"totalSizeOfDataToCompactInBytes\",\"type\":\"long\",\"nullable\":false,\"metadata\":{}},{\"name\":\"totalLogicalSizeOfDataToCompactInBytes\",\"type\":\"long\",\"nullable\":false,\"metadata\":{}},{\"name\":\"numIntermediateNodesClustered\",\"type\":\"long\",\"nullable\":false,\"metadata\":{}},{\"name\":\"numFilesSkippedAfterExpansion\",\"type\":\"long\",\"nullable\":false,\"metadata\":{}},{\"name\":\"totalSizeOfFilesSkippedAfterExpansionInBytes\",\"type\":\"long\",\"nullable\":false,\"metadata\":{}},{\"name\":\"totalLogicalSizeOfFilesSkippedAfterExpansionInBytes\",\"type\":\"long\",\"nullable\":false,\"metadata\":{}},{\"name\":\"totalSizeOfDataToRewriteInBytes\",\"type\":\"long\",\"nullable\":false,\"metadata\":{}},{\"name\":\"totalLogicalSizeOfDataToRewriteInBytes\",\"type\":\"long\",\"nullable\":false,\"metadata\":{}},{\"name\":\"timeMetrics\",\"type\":{\"type\":\"struct\",\"fields\":[{\"name\":\"classifierTimeMs\",\"type\":\"long\",\"nullable\":false,\"metadata\":{}},{\"name\":\"optimizerTimeMs\",\"type\":\"long\",\"nullable\":false,\"metadata\":{}},{\"name\":\"metadataLoadTimeMs\",\"type\":\"long\",\"nullable\":false,\"metadata\":{}},{\"name\":\"metadataCreationTimeMs\",\"type\":\"long\",\"nullable\":false,\"metadata\":{}}]},\"nullable\":true,\"metadata\":{}}]},\"nullable\":true,\"metadata\":{}}]}"
        }
       ],
       "type": "table"
      }
     },
     "output_type": "display_data"
    }
   ],
   "source": [
    "%sql\n",
    "optimize airline_part zorder by (dayofweek)"
   ]
  },
  {
   "cell_type": "code",
   "execution_count": 0,
   "metadata": {
    "application/vnd.databricks.v1+cell": {
     "cellMetadata": {
      "byteLimit": 2048000,
      "rowLimit": 10000
     },
     "inputWidgets": {},
     "nuid": "b5718e90-9388-4efa-ac43-61b129aaa9ab",
     "showTitle": false,
     "title": ""
    }
   },
   "outputs": [
    {
     "output_type": "display_data",
     "data": {
      "text/html": [
       "<style scoped>\n",
       "  .table-result-container {\n",
       "    max-height: 300px;\n",
       "    overflow: auto;\n",
       "  }\n",
       "  table, th, td {\n",
       "    border: 1px solid black;\n",
       "    border-collapse: collapse;\n",
       "  }\n",
       "  th, td {\n",
       "    padding: 5px;\n",
       "  }\n",
       "  th {\n",
       "    text-align: left;\n",
       "  }\n",
       "</style><div class='table-result-container'><table class='table-result'><thead style='background-color: white'><tr><th>Month</th><th>Origin</th><th>TotalNoOfFlights</th></tr></thead><tbody><tr><td>10</td><td>ATL</td><td>6246</td></tr><tr><td>7</td><td>ATL</td><td>6140</td></tr><tr><td>4</td><td>ATL</td><td>5646</td></tr><tr><td>4</td><td>ORD</td><td>5361</td></tr><tr><td>10</td><td>ORD</td><td>5327</td></tr><tr><td>7</td><td>ORD</td><td>5320</td></tr><tr><td>12</td><td>ATL</td><td>5298</td></tr><tr><td>1</td><td>ATL</td><td>5296</td></tr><tr><td>1</td><td>ORD</td><td>5220</td></tr><tr><td>8</td><td>ATL</td><td>4996</td></tr></tbody></table></div>"
      ]
     },
     "metadata": {
      "application/vnd.databricks.v1+output": {
       "addedWidgets": {},
       "aggData": [],
       "aggError": "",
       "aggOverflow": false,
       "aggSchema": [],
       "aggSeriesLimitReached": false,
       "aggType": "",
       "arguments": {},
       "columnCustomDisplayInfos": {},
       "data": [
        [
         10,
         "ATL",
         6246
        ],
        [
         7,
         "ATL",
         6140
        ],
        [
         4,
         "ATL",
         5646
        ],
        [
         4,
         "ORD",
         5361
        ],
        [
         10,
         "ORD",
         5327
        ],
        [
         7,
         "ORD",
         5320
        ],
        [
         12,
         "ATL",
         5298
        ],
        [
         1,
         "ATL",
         5296
        ],
        [
         1,
         "ORD",
         5220
        ],
        [
         8,
         "ATL",
         4996
        ]
       ],
       "datasetInfos": [],
       "dbfsResultPath": null,
       "isJsonSchema": true,
       "metadata": {},
       "overflow": false,
       "plotOptions": {
        "customPlotOptions": {},
        "displayType": "table",
        "pivotAggregation": null,
        "pivotColumns": null,
        "xColumns": null,
        "yColumns": null
       },
       "removedWidgets": [],
       "schema": [
        {
         "metadata": "{}",
         "name": "Month",
         "type": "\"integer\""
        },
        {
         "metadata": "{}",
         "name": "Origin",
         "type": "\"string\""
        },
        {
         "metadata": "{}",
         "name": "TotalNoOfFlights",
         "type": "\"long\""
        }
       ],
       "type": "table"
      }
     },
     "output_type": "display_data"
    }
   ],
   "source": [
    "from pyspark.sql.functions import count\n",
    "df1 = spark.table(\"airline_part\")\n",
    "display(df1.filter(\"dayofweek=1\").groupBy(\"Month\",\"Origin\").agg(count(\"*\").alias(\"TotalNoOfFlights\")).orderBy(\"TotalNoOfFlights\",ascending=False).limit(10))"
   ]
  },
  {
   "cell_type": "code",
   "execution_count": 0,
   "metadata": {
    "application/vnd.databricks.v1+cell": {
     "cellMetadata": {
      "byteLimit": 2048000,
      "rowLimit": 10000
     },
     "inputWidgets": {},
     "nuid": "efde6bf1-845e-4905-ae44-9edb9f81ddae",
     "showTitle": false,
     "title": ""
    }
   },
   "outputs": [
    {
     "output_type": "execute_result",
     "data": {
      "text/plain": [
       "6"
      ]
     },
     "execution_count": 2,
     "metadata": {},
     "output_type": "execute_result"
    }
   ],
   "source": [
    "df_arilines.rdd.getNumPartitions()"
   ]
  },
  {
   "cell_type": "code",
   "execution_count": 0,
   "metadata": {
    "application/vnd.databricks.v1+cell": {
     "cellMetadata": {
      "byteLimit": 2048000,
      "implicitDf": true,
      "rowLimit": 10000
     },
     "inputWidgets": {},
     "nuid": "8a4513c5-437d-4815-87f1-9a75391122df",
     "showTitle": false,
     "title": ""
    }
   },
   "outputs": [
    {
     "output_type": "display_data",
     "data": {
      "text/html": [
       "<style scoped>\n",
       "  .table-result-container {\n",
       "    max-height: 300px;\n",
       "    overflow: auto;\n",
       "  }\n",
       "  table, th, td {\n",
       "    border: 1px solid black;\n",
       "    border-collapse: collapse;\n",
       "  }\n",
       "  th, td {\n",
       "    padding: 5px;\n",
       "  }\n",
       "  th {\n",
       "    text-align: left;\n",
       "  }\n",
       "</style><div class='table-result-container'><table class='table-result'><thead style='background-color: white'><tr></tr></thead><tbody></tbody></table></div>"
      ]
     },
     "metadata": {
      "application/vnd.databricks.v1+output": {
       "addedWidgets": {},
       "aggData": [],
       "aggError": "",
       "aggOverflow": false,
       "aggSchema": [],
       "aggSeriesLimitReached": false,
       "aggType": "",
       "arguments": {},
       "columnCustomDisplayInfos": {},
       "data": [],
       "datasetInfos": [],
       "dbfsResultPath": null,
       "isJsonSchema": true,
       "metadata": {
        "dataframeName": null
       },
       "overflow": false,
       "plotOptions": {
        "customPlotOptions": {},
        "displayType": "table",
        "pivotAggregation": null,
        "pivotColumns": null,
        "xColumns": null,
        "yColumns": null
       },
       "removedWidgets": [],
       "schema": [],
       "type": "table"
      }
     },
     "output_type": "display_data"
    }
   ],
   "source": [
    "%sql\n",
    "alter table airline_cluster cluster by (Month,Origin)"
   ]
  },
  {
   "cell_type": "code",
   "execution_count": 0,
   "metadata": {
    "application/vnd.databricks.v1+cell": {
     "cellMetadata": {
      "byteLimit": 2048000,
      "rowLimit": 10000
     },
     "inputWidgets": {},
     "nuid": "6b708306-c64d-477a-8926-a5b67e5cc3d9",
     "showTitle": false,
     "title": ""
    }
   },
   "outputs": [],
   "source": [
    "spark.conf.set(\"spark.databricks.delta.retentionDurationCheck.enabled\",\"false\")"
   ]
  },
  {
   "cell_type": "code",
   "execution_count": 0,
   "metadata": {
    "application/vnd.databricks.v1+cell": {
     "cellMetadata": {
      "byteLimit": 2048000,
      "implicitDf": true,
      "rowLimit": 10000
     },
     "inputWidgets": {},
     "nuid": "5ca22560-9396-4b04-9fe0-19b162af5e08",
     "showTitle": false,
     "title": ""
    }
   },
   "outputs": [
    {
     "output_type": "display_data",
     "data": {
      "text/html": [
       "<style scoped>\n",
       "  .table-result-container {\n",
       "    max-height: 300px;\n",
       "    overflow: auto;\n",
       "  }\n",
       "  table, th, td {\n",
       "    border: 1px solid black;\n",
       "    border-collapse: collapse;\n",
       "  }\n",
       "  th, td {\n",
       "    padding: 5px;\n",
       "  }\n",
       "  th {\n",
       "    text-align: left;\n",
       "  }\n",
       "</style><div class='table-result-container'><table class='table-result'><thead style='background-color: white'><tr><th>path</th></tr></thead><tbody><tr><td>dbfs:/user/hive/warehouse/airline_cluster</td></tr></tbody></table></div>"
      ]
     },
     "metadata": {
      "application/vnd.databricks.v1+output": {
       "addedWidgets": {},
       "aggData": [],
       "aggError": "",
       "aggOverflow": false,
       "aggSchema": [],
       "aggSeriesLimitReached": false,
       "aggType": "",
       "arguments": {},
       "columnCustomDisplayInfos": {},
       "data": [
        [
         "dbfs:/user/hive/warehouse/airline_cluster"
        ]
       ],
       "datasetInfos": [],
       "dbfsResultPath": null,
       "isJsonSchema": true,
       "metadata": {
        "dataframeName": "_sqldf",
        "executionCount": 15
       },
       "overflow": false,
       "plotOptions": {
        "customPlotOptions": {},
        "displayType": "table",
        "pivotAggregation": null,
        "pivotColumns": null,
        "xColumns": null,
        "yColumns": null
       },
       "removedWidgets": [],
       "schema": [
        {
         "metadata": "{}",
         "name": "path",
         "type": "\"string\""
        }
       ],
       "type": "table"
      }
     },
     "output_type": "display_data"
    }
   ],
   "source": [
    "%sql\n",
    "vacuum airline_cluster retain 0 hours"
   ]
  },
  {
   "cell_type": "code",
   "execution_count": 0,
   "metadata": {
    "application/vnd.databricks.v1+cell": {
     "cellMetadata": {
      "byteLimit": 2048000,
      "implicitDf": true,
      "rowLimit": 10000
     },
     "inputWidgets": {},
     "nuid": "33fd8c94-da54-4daa-ba1d-c07fb93a3248",
     "showTitle": false,
     "title": ""
    }
   },
   "outputs": [
    {
     "output_type": "display_data",
     "data": {
      "text/html": [
       "<style scoped>\n",
       "  .table-result-container {\n",
       "    max-height: 300px;\n",
       "    overflow: auto;\n",
       "  }\n",
       "  table, th, td {\n",
       "    border: 1px solid black;\n",
       "    border-collapse: collapse;\n",
       "  }\n",
       "  th, td {\n",
       "    padding: 5px;\n",
       "  }\n",
       "  th {\n",
       "    text-align: left;\n",
       "  }\n",
       "</style><div class='table-result-container'><table class='table-result'><thead style='background-color: white'><tr><th>format</th><th>id</th><th>name</th><th>description</th><th>location</th><th>createdAt</th><th>lastModified</th><th>partitionColumns</th><th>clusteringColumns</th><th>numFiles</th><th>sizeInBytes</th><th>properties</th><th>minReaderVersion</th><th>minWriterVersion</th><th>tableFeatures</th><th>statistics</th></tr></thead><tbody><tr><td>delta</td><td>4cee8cb1-8241-49bd-931c-cb1b3d34e4fd</td><td>hive_metastore.default.airline_cluster</td><td>null</td><td>dbfs:/user/hive/warehouse/airline_cluster</td><td>2023-10-06T07:29:06.808+0000</td><td>2023-10-06T07:48:29.000+0000</td><td>List()</td><td>List(Month, Origin)</td><td>1</td><td>163398237</td><td>Map(delta.enableDeletionVectors -> true, delta.enableRowTracking -> true, delta.rowTracking.materializedRowIdColumnName -> _row-id-col-8e9a935f-ed3b-4f3e-a75e-44e306a101f9, delta.rowTracking.materializedRowCommitVersionColumnName -> _row-commit-version-col-b0ada61e-402e-4afe-b518-a5de7e25ee57)</td><td>3</td><td>7</td><td>List(deletionVectors, domainMetadata, liquid, rowTracking)</td><td>Map(numRowsDeletedByDeletionVectors -> 0, numDeletionVectors -> 0)</td></tr></tbody></table></div>"
      ]
     },
     "metadata": {
      "application/vnd.databricks.v1+output": {
       "addedWidgets": {},
       "aggData": [],
       "aggError": "",
       "aggOverflow": false,
       "aggSchema": [],
       "aggSeriesLimitReached": false,
       "aggType": "",
       "arguments": {},
       "columnCustomDisplayInfos": {},
       "data": [
        [
         "delta",
         "4cee8cb1-8241-49bd-931c-cb1b3d34e4fd",
         "hive_metastore.default.airline_cluster",
         null,
         "dbfs:/user/hive/warehouse/airline_cluster",
         "2023-10-06T07:29:06.808+0000",
         "2023-10-06T07:48:29.000+0000",
         [],
         [
          "Month",
          "Origin"
         ],
         1,
         163398237,
         {
          "delta.enableDeletionVectors": "true",
          "delta.enableRowTracking": "true",
          "delta.rowTracking.materializedRowCommitVersionColumnName": "_row-commit-version-col-b0ada61e-402e-4afe-b518-a5de7e25ee57",
          "delta.rowTracking.materializedRowIdColumnName": "_row-id-col-8e9a935f-ed3b-4f3e-a75e-44e306a101f9"
         },
         3,
         7,
         [
          "deletionVectors",
          "domainMetadata",
          "liquid",
          "rowTracking"
         ],
         {
          "numDeletionVectors": 0,
          "numRowsDeletedByDeletionVectors": 0
         }
        ]
       ],
       "datasetInfos": [],
       "dbfsResultPath": null,
       "isJsonSchema": true,
       "metadata": {
        "dataframeName": "_sqldf",
        "executionCount": 17
       },
       "overflow": false,
       "plotOptions": {
        "customPlotOptions": {},
        "displayType": "table",
        "pivotAggregation": null,
        "pivotColumns": null,
        "xColumns": null,
        "yColumns": null
       },
       "removedWidgets": [],
       "schema": [
        {
         "metadata": "{}",
         "name": "format",
         "type": "\"string\""
        },
        {
         "metadata": "{}",
         "name": "id",
         "type": "\"string\""
        },
        {
         "metadata": "{}",
         "name": "name",
         "type": "\"string\""
        },
        {
         "metadata": "{}",
         "name": "description",
         "type": "\"string\""
        },
        {
         "metadata": "{}",
         "name": "location",
         "type": "\"string\""
        },
        {
         "metadata": "{}",
         "name": "createdAt",
         "type": "\"timestamp\""
        },
        {
         "metadata": "{}",
         "name": "lastModified",
         "type": "\"timestamp\""
        },
        {
         "metadata": "{}",
         "name": "partitionColumns",
         "type": "{\"type\":\"array\",\"elementType\":\"string\",\"containsNull\":true}"
        },
        {
         "metadata": "{}",
         "name": "clusteringColumns",
         "type": "{\"type\":\"array\",\"elementType\":\"string\",\"containsNull\":true}"
        },
        {
         "metadata": "{}",
         "name": "numFiles",
         "type": "\"long\""
        },
        {
         "metadata": "{}",
         "name": "sizeInBytes",
         "type": "\"long\""
        },
        {
         "metadata": "{}",
         "name": "properties",
         "type": "{\"type\":\"map\",\"keyType\":\"string\",\"valueType\":\"string\",\"valueContainsNull\":true}"
        },
        {
         "metadata": "{}",
         "name": "minReaderVersion",
         "type": "\"integer\""
        },
        {
         "metadata": "{}",
         "name": "minWriterVersion",
         "type": "\"integer\""
        },
        {
         "metadata": "{}",
         "name": "tableFeatures",
         "type": "{\"type\":\"array\",\"elementType\":\"string\",\"containsNull\":true}"
        },
        {
         "metadata": "{}",
         "name": "statistics",
         "type": "{\"type\":\"map\",\"keyType\":\"string\",\"valueType\":\"long\",\"valueContainsNull\":true}"
        }
       ],
       "type": "table"
      }
     },
     "output_type": "display_data"
    }
   ],
   "source": [
    "%sql\n",
    "describe detail airline_cluster"
   ]
  },
  {
   "cell_type": "code",
   "execution_count": 0,
   "metadata": {
    "application/vnd.databricks.v1+cell": {
     "cellMetadata": {
      "byteLimit": 2048000,
      "implicitDf": true,
      "rowLimit": 10000
     },
     "inputWidgets": {},
     "nuid": "3cd3e04e-8317-4524-a67a-5526ae4fd4e1",
     "showTitle": false,
     "title": ""
    }
   },
   "outputs": [
    {
     "output_type": "display_data",
     "data": {
      "text/html": [
       "<style scoped>\n",
       "  .table-result-container {\n",
       "    max-height: 300px;\n",
       "    overflow: auto;\n",
       "  }\n",
       "  table, th, td {\n",
       "    border: 1px solid black;\n",
       "    border-collapse: collapse;\n",
       "  }\n",
       "  th, td {\n",
       "    padding: 5px;\n",
       "  }\n",
       "  th {\n",
       "    text-align: left;\n",
       "  }\n",
       "</style><div class='table-result-container'><table class='table-result'><thead style='background-color: white'><tr></tr></thead><tbody></tbody></table></div>"
      ]
     },
     "metadata": {
      "application/vnd.databricks.v1+output": {
       "addedWidgets": {},
       "aggData": [],
       "aggError": "",
       "aggOverflow": false,
       "aggSchema": [],
       "aggSeriesLimitReached": false,
       "aggType": "",
       "arguments": {},
       "columnCustomDisplayInfos": {},
       "data": [],
       "datasetInfos": [],
       "dbfsResultPath": null,
       "isJsonSchema": true,
       "metadata": {
        "dataframeName": null
       },
       "overflow": false,
       "plotOptions": {
        "customPlotOptions": {},
        "displayType": "table",
        "pivotAggregation": null,
        "pivotColumns": null,
        "xColumns": null,
        "yColumns": null
       },
       "removedWidgets": [],
       "schema": [],
       "type": "table"
      }
     },
     "output_type": "display_data"
    }
   ],
   "source": [
    "%sql\n",
    "alter table airline_cluster cluster by none;"
   ]
  },
  {
   "cell_type": "code",
   "execution_count": 0,
   "metadata": {
    "application/vnd.databricks.v1+cell": {
     "cellMetadata": {
      "byteLimit": 2048000,
      "implicitDf": true,
      "rowLimit": 10000
     },
     "inputWidgets": {},
     "nuid": "68512c83-af3f-4a17-a86f-1a3bcf177d06",
     "showTitle": false,
     "title": ""
    }
   },
   "outputs": [
    {
     "output_type": "display_data",
     "data": {
      "text/html": [
       "<style scoped>\n",
       "  .table-result-container {\n",
       "    max-height: 300px;\n",
       "    overflow: auto;\n",
       "  }\n",
       "  table, th, td {\n",
       "    border: 1px solid black;\n",
       "    border-collapse: collapse;\n",
       "  }\n",
       "  th, td {\n",
       "    padding: 5px;\n",
       "  }\n",
       "  th {\n",
       "    text-align: left;\n",
       "  }\n",
       "</style><div class='table-result-container'><table class='table-result'><thead style='background-color: white'><tr></tr></thead><tbody></tbody></table></div>"
      ]
     },
     "metadata": {
      "application/vnd.databricks.v1+output": {
       "addedWidgets": {},
       "aggData": [],
       "aggError": "",
       "aggOverflow": false,
       "aggSchema": [],
       "aggSeriesLimitReached": false,
       "aggType": "",
       "arguments": {},
       "columnCustomDisplayInfos": {},
       "data": [],
       "datasetInfos": [],
       "dbfsResultPath": null,
       "isJsonSchema": true,
       "metadata": {
        "dataframeName": null
       },
       "overflow": false,
       "plotOptions": {
        "customPlotOptions": {},
        "displayType": "table",
        "pivotAggregation": null,
        "pivotColumns": null,
        "xColumns": null,
        "yColumns": null
       },
       "removedWidgets": [],
       "schema": [],
       "type": "table"
      }
     },
     "output_type": "display_data"
    }
   ],
   "source": [
    "%sql\n",
    "CREATE TABLE airline_cluster (\n",
    "  Year INT,\n",
    "  Month INT,\n",
    "  DayofMonth INT,\n",
    "  DayOfWeek INT,\n",
    "  DepTime STRING,\n",
    "  CRSDepTime INT,\n",
    "  ArrTime STRING,\n",
    "  CRSArrTime INT,\n",
    "  UniqueCarrier STRING,\n",
    "  FlightNum INT,\n",
    "  TailNum STRING,\n",
    "  ActualElapsedTime STRING,\n",
    "  CRSElapsedTime STRING,\n",
    "  AirTime STRING,\n",
    "  ArrDelay STRING,\n",
    "  DepDelay STRING,\n",
    "  Origin STRING,\n",
    "  Dest STRING,\n",
    "  Distance INT,\n",
    "  TaxiIn INT,\n",
    "  TaxiOut INT,\n",
    "  Cancelled INT,\n",
    "  CancellationCode STRING,\n",
    "  Diverted INT,\n",
    "  CarrierDelay INT,\n",
    "  WeatherDelay INT,\n",
    "  NASDelay INT,\n",
    "  SecurityDelay INT,\n",
    "  LateAircraftDelay INT)\n",
    "USING delta\n",
    "cluster BY (DayOfWeek);"
   ]
  }
 ],
 "metadata": {
  "application/vnd.databricks.v1+notebook": {
   "dashboards": [],
   "language": "python",
   "notebookMetadata": {
    "mostRecentlyExecutedCommandWithImplicitDF": {
     "commandId": 2572134562839764,
     "dataframes": [
      "_sqldf"
     ]
    },
    "pythonIndentUnit": 4
   },
   "notebookName": "Liquid Clustering",
   "widgets": {}
  }
 },
 "nbformat": 4,
 "nbformat_minor": 0
}

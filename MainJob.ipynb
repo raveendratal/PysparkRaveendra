{
 "cells": [
  {
   "cell_type": "code",
   "execution_count": 0,
   "metadata": {
    "application/vnd.databricks.v1+cell": {
     "cellMetadata": {},
     "inputWidgets": {},
     "nuid": "2eb3ed47-1d0d-484e-94e1-ae2f7b0f0aa7",
     "showTitle": false,
     "tableResultSettingsMap": {},
     "title": ""
    }
   },
   "outputs": [],
   "source": [
    "# Databricks Notebook: MainJob\n",
    "\n",
    "import traceback\n",
    "\n",
    "try:\n",
    "    # -----------------------\n",
    "    # 1. Main processing logic\n",
    "    # -----------------------\n",
    "    print(\"\uD83D\uDE80 Starting data processing...\")\n",
    "    \n",
    "    # Example failure (invalid path)\n",
    "    df = spark.read.format(\"csv\").load(\"/invalid/file.csv\")\n",
    "    display(df)\n",
    "\n",
    "    print(\"✅ Processing completed successfully.\")\n",
    "\n",
    "except Exception as e:\n",
    "    # -----------------------\n",
    "    # 2. Capture detailed error\n",
    "    # -----------------------\n",
    "    error_details = f\"\"\"\n",
    "    \uD83D\uDEA8 Databricks Job Failed \uD83D\uDEA8\n",
    "\n",
    "    Error: {str(e)}\n",
    "\n",
    "    Traceback:\n",
    "    {traceback.format_exc()}\n",
    "    \"\"\"\n",
    "\n",
    "    # -----------------------\n",
    "    # 3. Call EmailSender Notebook\n",
    "    # -----------------------\n",
    "    dbutils.notebook.run(\n",
    "        \"EmailSender\",  # Path to your EmailSender notebook\n",
    "        60,  # Timeout in seconds\n",
    "        {\n",
    "            \"subject\": \"Databricks Job Failure Alert\",\n",
    "            \"body\": error_details,\n",
    "            \"to_emails\": \"pysparktraining52@gmail.com\"\n",
    "        }\n",
    "    )\n",
    "\n",
    "    # -----------------------\n",
    "    # 4. Re-raise exception to mark workflow as failed\n",
    "    # -----------------------\n",
    "    raise\n"
   ]
  }
 ],
 "metadata": {
  "application/vnd.databricks.v1+notebook": {
   "computePreferences": {
    "hardware": {
     "accelerator": null,
     "gpuPoolId": null,
     "memory": null
    }
   },
   "dashboards": [],
   "environmentMetadata": {
    "base_environment": "",
    "environment_version": "2"
   },
   "inputWidgetPreferences": null,
   "language": "python",
   "notebookMetadata": {
    "pythonIndentUnit": 4
   },
   "notebookName": "MainJob",
   "widgets": {}
  },
  "language_info": {
   "name": "python"
  }
 },
 "nbformat": 4,
 "nbformat_minor": 0
}
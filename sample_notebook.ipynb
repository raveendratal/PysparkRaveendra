{
 "cells": [
  {
   "cell_type": "code",
   "execution_count": 0,
   "metadata": {
    "application/vnd.databricks.v1+cell": {
     "cellMetadata": {
      "byteLimit": 2048000,
      "rowLimit": 10000
     },
     "inputWidgets": {},
     "nuid": "52511be4-a9f5-4d27-a7f4-2b2a090d592c",
     "showTitle": false,
     "title": ""
    }
   },
   "outputs": [
    {
     "output_type": "display_data",
     "data": {
      "text/html": [
       "<style scoped>\n  .table-result-container {\n    max-height: 300px;\n    overflow: auto;\n  }\n  table, th, td {\n    border: 1px solid black;\n    border-collapse: collapse;\n  }\n  th, td {\n    padding: 5px;\n  }\n  th {\n    text-align: left;\n  }\n</style><div class='table-result-container'><table class='table-result'><thead style='background-color: white'><tr><th>path</th><th>name</th><th>size</th><th>modificationTime</th></tr></thead><tbody><tr><td>dbfs:/databricks-datasets/</td><td>databricks-datasets/</td><td>0</td><td>0</td></tr><tr><td>dbfs:/databricks-results/</td><td>databricks-results/</td><td>0</td><td>0</td></tr></tbody></table></div>"
      ]
     },
     "metadata": {
      "application/vnd.databricks.v1+output": {
       "addedWidgets": {},
       "aggData": [],
       "aggError": "",
       "aggOverflow": false,
       "aggSchema": [],
       "aggSeriesLimitReached": false,
       "aggType": "",
       "arguments": {},
       "columnCustomDisplayInfos": {},
       "data": [
        [
         "dbfs:/databricks-datasets/",
         "databricks-datasets/",
         0,
         0
        ],
        [
         "dbfs:/databricks-results/",
         "databricks-results/",
         0,
         0
        ]
       ],
       "datasetInfos": [],
       "dbfsResultPath": null,
       "isJsonSchema": true,
       "metadata": {
        "isDbfsCommandResult": false
       },
       "overflow": false,
       "plotOptions": {
        "customPlotOptions": {},
        "displayType": "table",
        "pivotAggregation": null,
        "pivotColumns": null,
        "xColumns": null,
        "yColumns": null
       },
       "removedWidgets": [],
       "schema": [
        {
         "metadata": "{}",
         "name": "path",
         "type": "\"string\""
        },
        {
         "metadata": "{}",
         "name": "name",
         "type": "\"string\""
        },
        {
         "metadata": "{}",
         "name": "size",
         "type": "\"long\""
        },
        {
         "metadata": "{}",
         "name": "modificationTime",
         "type": "\"long\""
        }
       ],
       "type": "table"
      }
     },
     "output_type": "display_data"
    }
   ],
   "source": [
    "%fs ls /"
   ]
  },
  {
   "cell_type": "code",
   "execution_count": 0,
   "metadata": {
    "application/vnd.databricks.v1+cell": {
     "cellMetadata": {
      "byteLimit": 2048000,
      "rowLimit": 10000
     },
     "inputWidgets": {},
     "nuid": "39024ef3-ce93-4a18-acfd-8c44137f9d4f",
     "showTitle": false,
     "title": ""
    }
   },
   "outputs": [
    {
     "output_type": "display_data",
     "data": {
      "text/html": [
       "<style scoped>\n  .table-result-container {\n    max-height: 300px;\n    overflow: auto;\n  }\n  table, th, td {\n    border: 1px solid black;\n    border-collapse: collapse;\n  }\n  th, td {\n    padding: 5px;\n  }\n  th {\n    text-align: left;\n  }\n</style><div class='table-result-container'><table class='table-result'><thead style='background-color: white'><tr><th>path</th><th>name</th><th>size</th><th>modificationTime</th></tr></thead><tbody><tr><td>file:/media/</td><td>media/</td><td>4096</td><td>1681097952856</td></tr><tr><td>file:/home/</td><td>home/</td><td>4096</td><td>1681097942100</td></tr><tr><td>file:/dev/</td><td>dev/</td><td>520</td><td>1681097959560</td></tr><tr><td>file:/srv/</td><td>srv/</td><td>4096</td><td>1681097952856</td></tr><tr><td>file:/databricks/</td><td>databricks/</td><td>4096</td><td>1681098081477</td></tr><tr><td>file:/lib/</td><td>lib/</td><td>4096</td><td>1681097952892</td></tr><tr><td>file:/bin/</td><td>bin/</td><td>36864</td><td>1681097952892</td></tr><tr><td>file:/opt/</td><td>opt/</td><td>4096</td><td>1681097942256</td></tr><tr><td>file:/mnt/</td><td>mnt/</td><td>4096</td><td>1681097964088</td></tr><tr><td>file:/var/</td><td>var/</td><td>4096</td><td>1681097953192</td></tr><tr><td>file:/run/</td><td>run/</td><td>480</td><td>1681098023024</td></tr><tr><td>file:/sbin/</td><td>sbin/</td><td>12288</td><td>1681097952964</td></tr><tr><td>file:/usr/</td><td>usr/</td><td>4096</td><td>1681097952956</td></tr><tr><td>file:/BUILD</td><td>BUILD</td><td>271</td><td>1681097902323</td></tr><tr><td>file:/etc/</td><td>etc/</td><td>4096</td><td>1681097961568</td></tr><tr><td>file:/tmp/</td><td>tmp/</td><td>4096</td><td>1681098081065</td></tr><tr><td>file:/lib32/</td><td>lib32/</td><td>4096</td><td>1681097952956</td></tr><tr><td>file:/libx32/</td><td>libx32/</td><td>4096</td><td>1681097952956</td></tr><tr><td>file:/lib64/</td><td>lib64/</td><td>4096</td><td>1681097952956</td></tr><tr><td>file:/root/</td><td>root/</td><td>4096</td><td>1681098087425</td></tr><tr><td>file:/proc/</td><td>proc/</td><td>0</td><td>1681097955324</td></tr><tr><td>file:/boot/</td><td>boot/</td><td>4096</td><td>1681097952852</td></tr><tr><td>file:/sys/</td><td>sys/</td><td>0</td><td>1681097955412</td></tr><tr><td>file:/dbfs/</td><td>dbfs/</td><td>4096</td><td>1681097970696</td></tr><tr><td>file:/Workspace/</td><td>Workspace/</td><td>4096</td><td>1681097970693</td></tr><tr><td>file:/local_disk0/</td><td>local_disk0/</td><td>4096</td><td>1681097995644</td></tr></tbody></table></div>"
      ]
     },
     "metadata": {
      "application/vnd.databricks.v1+output": {
       "addedWidgets": {},
       "aggData": [],
       "aggError": "",
       "aggOverflow": false,
       "aggSchema": [],
       "aggSeriesLimitReached": false,
       "aggType": "",
       "arguments": {},
       "columnCustomDisplayInfos": {},
       "data": [
        [
         "file:/media/",
         "media/",
         4096,
         1681097952856
        ],
        [
         "file:/home/",
         "home/",
         4096,
         1681097942100
        ],
        [
         "file:/dev/",
         "dev/",
         520,
         1681097959560
        ],
        [
         "file:/srv/",
         "srv/",
         4096,
         1681097952856
        ],
        [
         "file:/databricks/",
         "databricks/",
         4096,
         1681098081477
        ],
        [
         "file:/lib/",
         "lib/",
         4096,
         1681097952892
        ],
        [
         "file:/bin/",
         "bin/",
         36864,
         1681097952892
        ],
        [
         "file:/opt/",
         "opt/",
         4096,
         1681097942256
        ],
        [
         "file:/mnt/",
         "mnt/",
         4096,
         1681097964088
        ],
        [
         "file:/var/",
         "var/",
         4096,
         1681097953192
        ],
        [
         "file:/run/",
         "run/",
         480,
         1681098023024
        ],
        [
         "file:/sbin/",
         "sbin/",
         12288,
         1681097952964
        ],
        [
         "file:/usr/",
         "usr/",
         4096,
         1681097952956
        ],
        [
         "file:/BUILD",
         "BUILD",
         271,
         1681097902323
        ],
        [
         "file:/etc/",
         "etc/",
         4096,
         1681097961568
        ],
        [
         "file:/tmp/",
         "tmp/",
         4096,
         1681098081065
        ],
        [
         "file:/lib32/",
         "lib32/",
         4096,
         1681097952956
        ],
        [
         "file:/libx32/",
         "libx32/",
         4096,
         1681097952956
        ],
        [
         "file:/lib64/",
         "lib64/",
         4096,
         1681097952956
        ],
        [
         "file:/root/",
         "root/",
         4096,
         1681098087425
        ],
        [
         "file:/proc/",
         "proc/",
         0,
         1681097955324
        ],
        [
         "file:/boot/",
         "boot/",
         4096,
         1681097952852
        ],
        [
         "file:/sys/",
         "sys/",
         0,
         1681097955412
        ],
        [
         "file:/dbfs/",
         "dbfs/",
         4096,
         1681097970696
        ],
        [
         "file:/Workspace/",
         "Workspace/",
         4096,
         1681097970693
        ],
        [
         "file:/local_disk0/",
         "local_disk0/",
         4096,
         1681097995644
        ]
       ],
       "datasetInfos": [],
       "dbfsResultPath": null,
       "isJsonSchema": true,
       "metadata": {
        "isDbfsCommandResult": false
       },
       "overflow": false,
       "plotOptions": {
        "customPlotOptions": {},
        "displayType": "table",
        "pivotAggregation": null,
        "pivotColumns": null,
        "xColumns": null,
        "yColumns": null
       },
       "removedWidgets": [],
       "schema": [
        {
         "metadata": "{}",
         "name": "path",
         "type": "\"string\""
        },
        {
         "metadata": "{}",
         "name": "name",
         "type": "\"string\""
        },
        {
         "metadata": "{}",
         "name": "size",
         "type": "\"long\""
        },
        {
         "metadata": "{}",
         "name": "modificationTime",
         "type": "\"long\""
        }
       ],
       "type": "table"
      }
     },
     "output_type": "display_data"
    }
   ],
   "source": [
    "%fs ls file:/"
   ]
  },
  {
   "cell_type": "code",
   "execution_count": 0,
   "metadata": {
    "application/vnd.databricks.v1+cell": {
     "cellMetadata": {
      "byteLimit": 2048000,
      "rowLimit": 10000
     },
     "inputWidgets": {},
     "nuid": "8db0827b-e166-47c5-ae48-80dc13670030",
     "showTitle": false,
     "title": ""
    }
   },
   "outputs": [
    {
     "output_type": "display_data",
     "data": {
      "text/html": [
       "<style scoped>\n  .table-result-container {\n    max-height: 300px;\n    overflow: auto;\n  }\n  table, th, td {\n    border: 1px solid black;\n    border-collapse: collapse;\n  }\n  th, td {\n    padding: 5px;\n  }\n  th {\n    text-align: left;\n  }\n</style><div class='table-result-container'><table class='table-result'><thead style='background-color: white'><tr><th>path</th><th>name</th><th>size</th><th>modificationTime</th></tr></thead><tbody><tr><td>dbfs:/FileStore/dept_pipe.csv</td><td>dept_pipe.csv</td><td>97</td><td>1681095669000</td></tr></tbody></table></div>"
      ]
     },
     "metadata": {
      "application/vnd.databricks.v1+output": {
       "addedWidgets": {},
       "aggData": [],
       "aggError": "",
       "aggOverflow": false,
       "aggSchema": [],
       "aggSeriesLimitReached": false,
       "aggType": "",
       "arguments": {},
       "columnCustomDisplayInfos": {},
       "data": [
        [
         "dbfs:/FileStore/dept_pipe.csv",
         "dept_pipe.csv",
         97,
         1681095669000
        ]
       ],
       "datasetInfos": [],
       "dbfsResultPath": null,
       "isJsonSchema": true,
       "metadata": {
        "isDbfsCommandResult": false
       },
       "overflow": false,
       "plotOptions": {
        "customPlotOptions": {},
        "displayType": "table",
        "pivotAggregation": null,
        "pivotColumns": null,
        "xColumns": null,
        "yColumns": null
       },
       "removedWidgets": [],
       "schema": [
        {
         "metadata": "{}",
         "name": "path",
         "type": "\"string\""
        },
        {
         "metadata": "{}",
         "name": "name",
         "type": "\"string\""
        },
        {
         "metadata": "{}",
         "name": "size",
         "type": "\"long\""
        },
        {
         "metadata": "{}",
         "name": "modificationTime",
         "type": "\"long\""
        }
       ],
       "type": "table"
      }
     },
     "output_type": "display_data"
    }
   ],
   "source": [
    "%fs ls dbfs:/FileStore/dept_pipe.csv"
   ]
  },
  {
   "cell_type": "code",
   "execution_count": 0,
   "metadata": {
    "application/vnd.databricks.v1+cell": {
     "cellMetadata": {
      "byteLimit": 2048000,
      "rowLimit": 10000
     },
     "inputWidgets": {},
     "nuid": "787dc668-7bef-43bd-809e-dc194f294d45",
     "showTitle": false,
     "title": ""
    }
   },
   "outputs": [
    {
     "output_type": "display_data",
     "data": {
      "text/html": [
       "<style scoped>\n  .table-result-container {\n    max-height: 300px;\n    overflow: auto;\n  }\n  table, th, td {\n    border: 1px solid black;\n    border-collapse: collapse;\n  }\n  th, td {\n    padding: 5px;\n  }\n  th {\n    text-align: left;\n  }\n</style><div class='table-result-container'><table class='table-result'><thead style='background-color: white'><tr><th>Deptno</th><th>Dname</th><th>Loc</th></tr></thead><tbody><tr><td>10</td><td>ACCOUNTING</td><td>NEW YORK</td></tr><tr><td>20</td><td>RESEARCH</td><td>DALLAS</td></tr><tr><td>30</td><td>SALES</td><td>CHICAGO</td></tr><tr><td>40</td><td>OPERATIONS</td><td>BOSTON</td></tr></tbody></table></div>"
      ]
     },
     "metadata": {
      "application/vnd.databricks.v1+output": {
       "addedWidgets": {},
       "aggData": [],
       "aggError": "",
       "aggOverflow": false,
       "aggSchema": [],
       "aggSeriesLimitReached": false,
       "aggType": "",
       "arguments": {},
       "columnCustomDisplayInfos": {},
       "data": [
        [
         10,
         "ACCOUNTING",
         "NEW YORK"
        ],
        [
         20,
         "RESEARCH",
         "DALLAS"
        ],
        [
         30,
         "SALES",
         "CHICAGO"
        ],
        [
         40,
         "OPERATIONS",
         "BOSTON"
        ]
       ],
       "datasetInfos": [],
       "dbfsResultPath": null,
       "isJsonSchema": true,
       "metadata": {},
       "overflow": false,
       "plotOptions": {
        "customPlotOptions": {},
        "displayType": "table",
        "pivotAggregation": null,
        "pivotColumns": null,
        "xColumns": null,
        "yColumns": null
       },
       "removedWidgets": [],
       "schema": [
        {
         "metadata": "{}",
         "name": "Deptno",
         "type": "\"integer\""
        },
        {
         "metadata": "{}",
         "name": "Dname",
         "type": "\"string\""
        },
        {
         "metadata": "{}",
         "name": "Loc",
         "type": "\"string\""
        }
       ],
       "type": "table"
      }
     },
     "output_type": "display_data"
    }
   ],
   "source": [
    "df = spark.read.csv(\"dbfs:/FileStore/dept_pipe.csv\",header=True,inferSchema=True,sep=\"|\")\n",
    "display(df)"
   ]
  },
  {
   "cell_type": "code",
   "execution_count": 0,
   "metadata": {
    "application/vnd.databricks.v1+cell": {
     "cellMetadata": {
      "byteLimit": 2048000,
      "rowLimit": 10000
     },
     "inputWidgets": {},
     "nuid": "9ee01ba6-f422-49ba-9c21-b9d8d98dfdee",
     "showTitle": false,
     "title": ""
    }
   },
   "outputs": [],
   "source": [
    "df.write.format(\"delta\").mode(\"overwrite\").saveAsTable(\"dept\")"
   ]
  },
  {
   "cell_type": "code",
   "execution_count": 0,
   "metadata": {
    "application/vnd.databricks.v1+cell": {
     "cellMetadata": {
      "byteLimit": 2048000,
      "implicitDf": true,
      "rowLimit": 10000
     },
     "inputWidgets": {},
     "nuid": "2a74b308-0400-4e4a-b5f1-de413720c8c5",
     "showTitle": false,
     "title": ""
    }
   },
   "outputs": [
    {
     "output_type": "display_data",
     "data": {
      "text/html": [
       "<style scoped>\n  .table-result-container {\n    max-height: 300px;\n    overflow: auto;\n  }\n  table, th, td {\n    border: 1px solid black;\n    border-collapse: collapse;\n  }\n  th, td {\n    padding: 5px;\n  }\n  th {\n    text-align: left;\n  }\n</style><div class='table-result-container'><table class='table-result'><thead style='background-color: white'><tr><th>Deptno</th><th>Dname</th><th>Loc</th></tr></thead><tbody><tr><td>10</td><td>ACCOUNTING</td><td>NEW YORK</td></tr><tr><td>20</td><td>RESEARCH</td><td>DALLAS</td></tr><tr><td>30</td><td>SALES</td><td>CHICAGO</td></tr><tr><td>40</td><td>OPERATIONS</td><td>BOSTON</td></tr></tbody></table></div>"
      ]
     },
     "metadata": {
      "application/vnd.databricks.v1+output": {
       "addedWidgets": {},
       "aggData": [],
       "aggError": "",
       "aggOverflow": false,
       "aggSchema": [],
       "aggSeriesLimitReached": false,
       "aggType": "",
       "arguments": {},
       "columnCustomDisplayInfos": {},
       "data": [
        [
         10,
         "ACCOUNTING",
         "NEW YORK"
        ],
        [
         20,
         "RESEARCH",
         "DALLAS"
        ],
        [
         30,
         "SALES",
         "CHICAGO"
        ],
        [
         40,
         "OPERATIONS",
         "BOSTON"
        ]
       ],
       "datasetInfos": [],
       "dbfsResultPath": null,
       "isJsonSchema": true,
       "metadata": {},
       "overflow": false,
       "plotOptions": {
        "customPlotOptions": {},
        "displayType": "table",
        "pivotAggregation": null,
        "pivotColumns": null,
        "xColumns": null,
        "yColumns": null
       },
       "removedWidgets": [],
       "schema": [
        {
         "metadata": "{}",
         "name": "Deptno",
         "type": "\"integer\""
        },
        {
         "metadata": "{}",
         "name": "Dname",
         "type": "\"string\""
        },
        {
         "metadata": "{}",
         "name": "Loc",
         "type": "\"string\""
        }
       ],
       "type": "table"
      }
     },
     "output_type": "display_data"
    }
   ],
   "source": [
    "%sql\n",
    "select * from dept"
   ]
  },
  {
   "cell_type": "code",
   "execution_count": 0,
   "metadata": {
    "application/vnd.databricks.v1+cell": {
     "cellMetadata": {},
     "inputWidgets": {},
     "nuid": "b33dec12-3390-454f-84e3-489608dca941",
     "showTitle": false,
     "title": ""
    }
   },
   "outputs": [],
   "source": []
  }
 ],
 "metadata": {
  "application/vnd.databricks.v1+notebook": {
   "dashboards": [],
   "language": "python",
   "notebookMetadata": {
    "mostRecentlyExecutedCommandWithImplicitDF": {
     "commandId": 3828275589846862,
     "dataframes": [
      "_sqldf"
     ]
    },
    "pythonIndentUnit": 4
   },
   "notebookName": "sample_notebook",
   "notebookOrigID": 3828275589846847,
   "widgets": {}
  }
 },
 "nbformat": 4,
 "nbformat_minor": 0
}
